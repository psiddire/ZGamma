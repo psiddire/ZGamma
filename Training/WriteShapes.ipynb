{
 "cells": [
  {
   "cell_type": "code",
   "execution_count": 15,
   "metadata": {},
   "outputs": [],
   "source": [
    "import ROOT"
   ]
  },
  {
   "cell_type": "code",
   "execution_count": 31,
   "metadata": {},
   "outputs": [],
   "source": [
    "# fileName = [\"DataEl.root\", \"DYJetsToLL.root\", \"ZGToLLG.root\", \"GluGluHToZG.root\", \"VBFHToZG.root\"]\n",
    "fN = \"ZGToLLG.root\"\n",
    "\n",
    "f = ROOT.TFile(\"Tree/\" + fN)\n",
    "t = f.Get(\"opttree\")\n",
    "\n",
    "h_ll = ROOT.TH1F(\"h_ll\", \"ll_mass\", 100, 50, 150)\n",
    "h_llg = ROOT.TH1F(\"h_llg\", \"llg_mass\", 80, 100, 180)\n",
    "h_mva = ROOT.TH1F(\"h_mva\", \"mva\", 20, -1.0, 1.0)\n",
    "\n",
    "for j in range(0, t.GetEntries()):\n",
    "    t.GetEntry(j)\n",
    "    h_ll.Fill(t.ll_m, t.weight*2.67)\n",
    "    h_llg.Fill(t.llphoton_m, t.weight*2.67)\n",
    "    h_mva.Fill(t.mva, t.weight*2.67)\n",
    "#    h_ll.Fill(t.ll_m)\n",
    "#    h_llg.Fill(t.llphoton_m)\n",
    "#    h_mva.Fill(t.mva)\n",
    "\n",
    "f1 = ROOT.TFile(\"Histo/\" + fN, \"RECREATE\")\n",
    "h_ll.Write()\n",
    "h_llg.Write()\n",
    "h_mva.Write()\n",
    "f1.Close()"
   ]
  },
  {
   "cell_type": "code",
   "execution_count": 32,
   "metadata": {},
   "outputs": [],
   "source": [
    "#histName, fName  = \"h_mva\", \"ShapesMVA.root\"\n",
    "histName, fName  = \"h_llg\", \"ShapesMass.root\"\n",
    "#histName, fName  = \"h_ll\", \"ShapesMassZ.root\"\n",
    "\n",
    "f1 = ROOT.TFile(\"Histo/DataEl.root\")\n",
    "f2 = ROOT.TFile(\"Histo/DYJetsToLL.root\")\n",
    "f3 = ROOT.TFile(\"Histo/ZGToLLG.root\")\n",
    "f4 = ROOT.TFile(\"Histo/GluGluHToZG.root\")\n",
    "f5 = ROOT.TFile(\"Histo/VBFHToZG.root\")\n",
    "h1 = f1.Get(histName)\n",
    "h2 = f2.Get(histName)\n",
    "h3 = f3.Get(histName)\n",
    "h4 = f4.Get(histName)\n",
    "h5 = f5.Get(histName)\n",
    "\n",
    "f = ROOT.TFile(\"Histo/\" + fName, \"RECREATE\")\n",
    "h1.SetName(\"Data\")\n",
    "h2.SetName(\"DYJetsToLL\")\n",
    "h3.SetName(\"ZGToLLG\")\n",
    "h4.SetName(\"GluGluHToZG\")\n",
    "h5.SetName(\"VBFHToZG\")\n",
    "h1.Write()\n",
    "h2.Write()\n",
    "h3.Write()\n",
    "h4.Write()\n",
    "h5.Write()\n",
    "f.Close()"
   ]
  },
  {
   "cell_type": "code",
   "execution_count": 12,
   "metadata": {},
   "outputs": [
    {
     "name": "stdout",
     "output_type": "stream",
     "text": [
      "TFile**\t\tHisto/ShapesMassZ.root\t\n",
      " TFile*\t\tHisto/ShapesMassZ.root\t\n",
      "  KEY: TH1F\tData;1\tll_mass\n",
      "  KEY: TH1F\tDYJetsToLL;1\tll_mass\n",
      "  KEY: TH1F\tZGToLLG;1\tll_mass\n",
      "  KEY: TH1F\tGluGluHToZG;1\tll_mass\n",
      "  KEY: TH1F\tVBFHToZG;1\tll_mass\n"
     ]
    }
   ],
   "source": [
    "f = ROOT.TFile(\"Histo/ShapesMassZ.root\")\n",
    "f.ls()"
   ]
  },
  {
   "cell_type": "code",
   "execution_count": null,
   "metadata": {},
   "outputs": [],
   "source": []
  }
 ],
 "metadata": {
  "kernelspec": {
   "display_name": "Python 2",
   "language": "python",
   "name": "python2"
  },
  "language_info": {
   "codemirror_mode": {
    "name": "ipython",
    "version": 2
   },
   "file_extension": ".py",
   "mimetype": "text/x-python",
   "name": "python",
   "nbconvert_exporter": "python",
   "pygments_lexer": "ipython2",
   "version": "2.7.14+"
  }
 },
 "nbformat": 4,
 "nbformat_minor": 2
}
