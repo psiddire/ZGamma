{
 "cells": [
  {
   "cell_type": "code",
   "execution_count": 1,
   "metadata": {},
   "outputs": [
    {
     "name": "stdout",
     "output_type": "stream",
     "text": [
      "Welcome to JupyROOT 6.12/07\n"
     ]
    }
   ],
   "source": [
    "import ROOT"
   ]
  },
  {
   "cell_type": "code",
   "execution_count": null,
   "metadata": {},
   "outputs": [],
   "source": [
    "f1 = ROOT.TFile(\"Histo/Data.root\")\n",
    "f2 = ROOT.TFile(\"Histo/DYJetsToLL.root\")\n",
    "f3 = ROOT.TFile(\"Histo/ZGToLLG.root\")\n",
    "f4 = ROOT.TFile(\"Histo/TTGJets.root\")\n",
    "f5 = ROOT.TFile(\"Histo/Diboson.root\")\n",
    "f6 = ROOT.TFile(\"Histo/TTJets.root\")\n",
    "f7 = ROOT.TFile(\"Histo/WJets.root\")\n"
   ]
  },
  {
   "cell_type": "code",
   "execution_count": 2,
   "metadata": {},
   "outputs": [],
   "source": [
    "f1 = ROOT.TFile(\"Histo/Data.root\")\n",
    "f2 = ROOT.TFile(\"Histo/DYJetsToLL.root\")\n",
    "f3 = ROOT.TFile(\"Histo/ZGToLLG.root\")\n",
    "f4 = ROOT.TFile(\"Histo/TTGJets.root\")\n",
    "f5 = ROOT.TFile(\"Histo/Diboson.root\")\n",
    "f6 = ROOT.TFile(\"Histo/TTJets.root\")\n",
    "f7 = ROOT.TFile(\"Histo/WJets.root\")\n",
    "h1 = f1.Get(\"h_llg\")\n",
    "h2 = f2.Get(\"h_llg\")\n",
    "h3 = f3.Get(\"h_llg\")\n",
    "h4 = f4.Get(\"h_llg\")\n",
    "h5 = f5.Get(\"h_llg\")\n",
    "h6 = f6.Get(\"h_llg\")\n",
    "h7 = f7.Get(\"h_llg\")\n",
    "f = ROOT.TFile(\"Histo/Shapes.root\", \"RECREATE\")\n",
    "h1.SetName(\"Data\")\n",
    "h2.SetName(\"DYJetsToLL\")\n",
    "h3.SetName(\"ZGToLLG\")\n",
    "h4.SetName(\"TTGJets\")\n",
    "h5.SetName(\"Diboson\")\n",
    "h6.SetName(\"TTJets\")\n",
    "h7.SetName(\"WJets\")\n",
    "h1.Write()\n",
    "h2.Write()\n",
    "h3.Write()\n",
    "h4.Write()\n",
    "h5.Write()\n",
    "h6.Write()\n",
    "h7.Write()\n",
    "f.Close()"
   ]
  },
  {
   "cell_type": "code",
   "execution_count": 3,
   "metadata": {},
   "outputs": [
    {
     "name": "stdout",
     "output_type": "stream",
     "text": [
      "TFile**\t\tHisto/Shapes.root\t\n",
      " TFile*\t\tHisto/Shapes.root\t\n",
      "  KEY: TH1F\tData;1\tllg_mass\n",
      "  KEY: TH1F\tDYJetsToLL;1\tllg_mass\n",
      "  KEY: TH1F\tZGToLLG;1\tllg_mass\n",
      "  KEY: TH1F\tTTGJets;1\tllg_mass\n",
      "  KEY: TH1F\tDiboson;1\tllg_mass\n",
      "  KEY: TH1F\tTTJets;1\tllg_mass\n",
      "  KEY: TH1F\tWJets;1\tllg_mass\n"
     ]
    }
   ],
   "source": [
    "f = ROOT.TFile(\"Histo/Shapes.root\")\n",
    "f.ls()"
   ]
  },
  {
   "cell_type": "code",
   "execution_count": null,
   "metadata": {},
   "outputs": [],
   "source": []
  }
 ],
 "metadata": {
  "kernelspec": {
   "display_name": "Python 2",
   "language": "python",
   "name": "python2"
  },
  "language_info": {
   "codemirror_mode": {
    "name": "ipython",
    "version": 2
   },
   "file_extension": ".py",
   "mimetype": "text/x-python",
   "name": "python",
   "nbconvert_exporter": "python",
   "pygments_lexer": "ipython2",
   "version": "2.7.14+"
  }
 },
 "nbformat": 4,
 "nbformat_minor": 2
}
