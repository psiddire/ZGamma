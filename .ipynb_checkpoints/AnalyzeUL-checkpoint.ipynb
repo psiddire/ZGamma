{
 "cells": [
  {
   "cell_type": "code",
   "execution_count": null,
   "metadata": {},
   "outputs": [],
   "source": [
    "import ROOT\n",
    "from IPython.display import IFrame\n",
    "import FitSignal"
   ]
  },
  {
   "cell_type": "code",
   "execution_count": null,
   "metadata": {},
   "outputs": [],
   "source": [
    "f = ROOT.TFile(\"signalUL/raw_pico/GluGluHToZG.root\")\n",
    "t = f.Get(\"tree\")\n",
    "print t.Print()"
   ]
  },
  {
   "cell_type": "code",
   "execution_count": null,
   "metadata": {},
   "outputs": [],
   "source": [
    "entries = 400000\n",
    "xsec = 48.58\n",
    "equi_lumi = entries/xsec\n",
    "lumi = 41500\n",
    "weight = lumi/equi_lumi"
   ]
  },
  {
   "cell_type": "code",
   "execution_count": null,
   "metadata": {
    "scrolled": false
   },
   "outputs": [],
   "source": [
    "can = ROOT.TCanvas(\"can\", \"canvas\", 800, 800)\n",
    "h = ROOT.TH1F(\"h\", \"llg_mass\", 130, 50, 180)\n",
    "\n",
    "for i in range(0, t.GetEntries()):\n",
    "    t.GetEntry(i)\n",
    "    if not t.HLT_Ele23_Ele12_CaloIdL_TrackIdL_IsoVL:\n",
    "        continue\n",
    "    if t.nbm or t.nll < 1 or t.nphoton < 1:\n",
    "        continue\n",
    "    if all(dr < 0.4 for dr in t.photon_drmin):\n",
    "        continue\n",
    "    if t.ll_charge.size()==1 and t.ll_charge[0]!=0:\n",
    "        continue\n",
    "    if sum(map(bool, t.el_id)) < 2:\n",
    "        continue\n",
    "    if sum(abs(dz) < 0.01 for dz in t.el_dz) < 2:\n",
    "        continue\n",
    "    if sum(abs(dxy) < 0.005 for dxy in t.el_dxy) < 2:\n",
    "        continue\n",
    "    id1 = []\n",
    "    id2 = []\n",
    "    massZ = []\n",
    "    for x in range(t.nel-1):\n",
    "        for y in range(x+1, t.nel):\n",
    "            if (t.el_charge[x]*t.el_charge[y] == -1 and \\\n",
    "                t.el_pt[x] > 25 and t.el_dz[x] < 0.01 and t.el_dxy[x] < 0.005 and bool(t.el_id[x]) and \\\n",
    "                t.el_pt[y] > 15 and t.el_dz[y] < 0.01 and t.el_dxy[y] < 0.005 and bool(t.el_id[y])):\n",
    "                id1.append(x)\n",
    "                id2.append(y)\n",
    "    if len(id1) == 0:\n",
    "        continue\n",
    "    el1 = ROOT.TLorentzVector()\n",
    "    el2 = ROOT.TLorentzVector()\n",
    "    ph = ROOT.TLorentzVector()\n",
    "    for x, y in zip(id1, id2):\n",
    "        el1.SetPtEtaPhiM(t.el_pt[x], t.el_eta[x], t.el_phi[x], 0)\n",
    "        el2.SetPtEtaPhiM(t.el_pt[y], t.el_eta[y], t.el_phi[y], 0)\n",
    "        massZ.append((el1+el2).M())\n",
    "    indexZ = min(range(len(massZ)), key=lambda x: abs(massZ[x]-91.19))\n",
    "    i, j = id1[indexZ], id2[indexZ]\n",
    "    id3 = []\n",
    "    massH = []\n",
    "    for x in range(t.nphoton):\n",
    "        if (bool(t.photon_id[x]) and t.photon_drmin[x] > 0.4 and t.photon_pt[x] > 15):\n",
    "            id3.append(x)\n",
    "    if len(id3) == 0:\n",
    "        continue    \n",
    "    el1.SetPtEtaPhiM(t.el_pt[i], t.el_eta[i], t.el_phi[i], 0)\n",
    "    el2.SetPtEtaPhiM(t.el_pt[j], t.el_eta[j], t.el_phi[j], 0)\n",
    "    for x in range(len(id3)):\n",
    "        ph.SetPtEtaPhiM(t.photon_pt[x], t.photon_eta[x], t.photon_phi[x], 0)\n",
    "        massH.append((el1+el2+ph).M())\n",
    "    indexH = min(range(len(massH)), key=lambda x: abs(massH[x]-125))\n",
    "    if (massZ[indexZ] + massH[indexH]) < 185:\n",
    "        continue\n",
    "    ph.SetPtEtaPhiM(t.photon_pt[indexH], t.photon_eta[indexH], t.photon_phi[indexH], 0)\n",
    "    if (ph.E()/massH[indexH]) < 15/110:\n",
    "        continue\n",
    "    h.Fill(massH[indexH], weight)\n",
    "h.Draw()\n",
    "can.Draw()"
   ]
  },
  {
   "cell_type": "code",
   "execution_count": null,
   "metadata": {
    "scrolled": true
   },
   "outputs": [],
   "source": [
    "FitSignal.makepdf(h, \"signalUL.pdf\")"
   ]
  },
  {
   "cell_type": "code",
   "execution_count": null,
   "metadata": {},
   "outputs": [],
   "source": [
    "IFrame(\"signalUL.pdf\", width=900, height=600)"
   ]
  },
  {
   "cell_type": "code",
   "execution_count": null,
   "metadata": {},
   "outputs": [],
   "source": []
  }
 ],
 "metadata": {
  "kernelspec": {
   "display_name": "Python 2",
   "language": "python",
   "name": "python2"
  },
  "language_info": {
   "codemirror_mode": {
    "name": "ipython",
    "version": 2
   },
   "file_extension": ".py",
   "mimetype": "text/x-python",
   "name": "python",
   "nbconvert_exporter": "python",
   "pygments_lexer": "ipython2",
   "version": "2.7.14+"
  }
 },
 "nbformat": 4,
 "nbformat_minor": 2
}
