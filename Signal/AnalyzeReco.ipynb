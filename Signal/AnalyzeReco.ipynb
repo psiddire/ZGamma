{
 "cells": [
  {
   "cell_type": "code",
   "execution_count": 1,
   "metadata": {},
   "outputs": [
    {
     "name": "stdout",
     "output_type": "stream",
     "text": [
      "Welcome to JupyROOT 6.12/07\n"
     ]
    }
   ],
   "source": [
    "import ROOT\n",
    "from IPython.display import IFrame\n",
    "import FitSignal"
   ]
  },
  {
   "cell_type": "code",
   "execution_count": 2,
   "metadata": {},
   "outputs": [],
   "source": [
    "f = ROOT.TFile(\"Reco/GluGluHToZG.root\")\n",
    "t = f.Get(\"tree\")\n",
    "entries = 977000\n",
    "xsec = 48.58\n",
    "equi_lumi = entries/xsec\n",
    "lumi = 41500\n",
    "weight = lumi/equi_lumi"
   ]
  },
  {
   "cell_type": "code",
   "execution_count": 3,
   "metadata": {
    "scrolled": true
   },
   "outputs": [
    {
     "name": "stdout",
     "output_type": "stream",
     "text": [
      "106723.737223\n",
      "106670.802706\n"
     ]
    }
   ],
   "source": [
    "h_ll = ROOT.TH1F(\"h_ll\", \"ll_mass\", 100, 50, 150)\n",
    "h_llg = ROOT.TH1F(\"h_llg\", \"llg_mass\", 130, 50, 180)\n",
    "\n",
    "for i in range(0, t.GetEntries()):\n",
    "    t.GetEntry(i)\n",
    "    if not t.HLT_Ele23_Ele12_CaloIdL_TrackIdL_IsoVL:\n",
    "        continue\n",
    "    if t.nll < 1 or t.nphoton < 1:\n",
    "        continue\n",
    "    if all(dr < 0.4 for dr in t.photon_drmin):\n",
    "        continue\n",
    "    if t.ll_charge.size()==1 and t.ll_charge[0]!=0:\n",
    "        continue\n",
    "    if sum(map(bool, t.el_id)) < 2:\n",
    "        continue\n",
    "    if sum(abs(dz) < 0.01 for dz in t.el_dz) < 2:\n",
    "        continue\n",
    "    if sum(abs(dxy) < 0.005 for dxy in t.el_dxy) < 2:\n",
    "        continue\n",
    "        \n",
    "    idll = []\n",
    "    for z in range(t.nll):\n",
    "        x = t.ll_i1[z]\n",
    "        y = t.ll_i2[z]\n",
    "        if (t.el_charge[x]*t.el_charge[y] == -1 and \\\n",
    "            t.el_pt[x] > 25 and t.el_dz[x] < 0.01 and t.el_dxy[x] < 0.005 and bool(t.el_id[x]) and \\\n",
    "            t.el_pt[y] > 15 and t.el_dz[y] < 0.01 and t.el_dxy[y] < 0.005 and bool(t.el_id[y])):\n",
    "            idll.append(z)\n",
    "            break\n",
    "    if len(idll) == 0:\n",
    "        continue\n",
    "    massZ = t.ll_m[idll[0]]\n",
    "    \n",
    "    idllg = []\n",
    "    iph = 0\n",
    "    ph = ROOT.TLorentzVector()\n",
    "    for z in range(t.nllphoton):\n",
    "        if t.llphoton_ill[z]!=idll[0]:\n",
    "            continue\n",
    "        if (bool(t.photon_id[iph]) and t.photon_drmin[iph] > 0.4 and t.photon_pt[iph] > 15):\n",
    "            ph.SetPtEtaPhiM(t.photon_pt[iph], t.photon_eta[iph], t.photon_phi[iph], 0)\n",
    "            idllg.append(z)\n",
    "            break\n",
    "        iph = iph + 1\n",
    "    if len(idllg) == 0:\n",
    "        continue\n",
    "    massH = t.llphoton_m[idllg[0]]\n",
    "        \n",
    "    if (massZ + massH) < 185:\n",
    "        continue\n",
    "    if (ph.E()/massH) < 15/110:\n",
    "        continue\n",
    "    h_ll.Fill(massZ, weight)\n",
    "    h_llg.Fill(massH, weight)\n",
    "\n",
    "print h_ll.Integral()\n",
    "print h_llg.Integral()"
   ]
  },
  {
   "cell_type": "code",
   "execution_count": 4,
   "metadata": {
    "scrolled": true
   },
   "outputs": [
    {
     "name": "stdout",
     "output_type": "stream",
     "text": [
      "0.782983705482\n",
      "1.23452322718\n",
      "124.5\n",
      "13.9152501721\n",
      "49.9999977103\n",
      "1.85274984473\n",
      "263649.931201\n",
      "[#1] INFO:DataHandling -- RooDataHist::adjustBinning(data): fit range of variable CMS_zgamma_Mass expanded to nearest bin boundaries: [110,140] --> [110,140]\n",
      "[#1] INFO:Eval -- RooRealVar::setRange(CMS_zgamma_Mass) new range named 'fit' created with bounds [110,140]\n",
      "[#1] INFO:Fitting -- RooAbsOptTestStatistic::ctor(nll_pdf_data) constructing test statistic for sub-range named fit\n",
      "[#1] INFO:Eval -- RooRealVar::setRange(CMS_zgamma_Mass) new range named 'NormalizationRangeForfit' created with bounds [110,140]\n",
      "[#1] INFO:Eval -- RooRealVar::setRange(CMS_zgamma_Mass) new range named 'fit_nll_pdf_data' created with bounds [110,140]\n",
      "[#1] INFO:Fitting -- RooAbsOptTestStatistic::ctor(nll_pdf_data) fixing interpretation of coefficients of any RooAddPdf to full domain of observables \n",
      "[#1] INFO:Minization -- RooMinimizer::optimizeConst: activating const optimization\n",
      "Minuit2Minimizer: Minimize with max-calls 3000 convergence for edm < 1 strategy 1\n",
      "MnSeedGenerator: for initial parameters FCN = 270167.4347016\n",
      "MnSeedGenerator: Initial state:   - FCN =   270167.4347016 Edm =      3842.05 NCalls =     27\n",
      "MnSeedGenerator: Negative G2 found - new state:   - FCN =    265769.519333 Edm =      2234.25 NCalls =     67\n",
      "VariableMetric: start iterating until Edm is < 0.001\n",
      "VariableMetric: Initial state   - FCN =    265769.519333 Edm =      2234.25 NCalls =     67\n",
      "VariableMetric: Iteration #   0 - FCN =    265769.519333 Edm =      2234.25 NCalls =     67\n",
      "VariableMetric: Iteration #   1 - FCN =   263669.5052264 Edm =      1.76652 NCalls =     89\n",
      "VariableMetric: Iteration #   2 - FCN =   263666.4837779 Edm =      1.06772 NCalls =    103\n",
      "VariableMetric: Iteration #   3 - FCN =   263663.7361055 Edm =      4.00406 NCalls =    117\n",
      "VariableMetric: Iteration #   4 - FCN =   263658.9495942 Edm =    0.0322378 NCalls =    133\n",
      "VariableMetric: Iteration #   5 - FCN =   263658.4808241 Edm =     0.361608 NCalls =    149\n",
      "VariableMetric: Iteration #   6 - FCN =   263657.3935339 Edm =    0.0488595 NCalls =    164\n",
      "VariableMetric: Iteration #   7 - FCN =   263657.3361363 Edm =   0.00492659 NCalls =    178\n",
      "VariableMetric: Iteration #   8 - FCN =   263657.3301884 Edm =  4.28991e-05 NCalls =    192\n",
      "VariableMetric: After Hessian   - FCN =   263657.3301884 Edm =      12.7051 NCalls =    236\n",
      "VariableMetric: Iteration #   9 - FCN =   263657.3301884 Edm =      12.7051 NCalls =    236\n",
      "VariableMetric: Iteration #  10 - FCN =   263656.1809513 Edm =      6007.86 NCalls =    257\n",
      "VariableMetric: Iteration #  11 - FCN =   263656.0988295 Edm =      1.25843 NCalls =    272\n",
      "VariableMetric: Iteration #  12 - FCN =   263652.1969003 Edm =      1.93851 NCalls =    290\n",
      "VariableMetric: Iteration #  13 - FCN =   263650.1697446 Edm =     0.187452 NCalls =    304\n",
      "VariableMetric: Iteration #  14 - FCN =   263649.9761609 Edm =    0.0302973 NCalls =    318\n",
      "VariableMetric: Iteration #  15 - FCN =   263649.9316007 Edm =  0.000213866 NCalls =    332\n",
      "VariableMetric: Iteration #  16 - FCN =   263649.9313321 Edm =  3.95894e-05 NCalls =    347\n",
      "VariableMetric: Iteration #  17 - FCN =   263649.9312007 Edm =  5.39875e-06 NCalls =    362\n",
      "VariableMetric: After Hessian   - FCN =   263649.9312007 Edm =  8.29748e-06 NCalls =    410\n",
      "VariableMetric: Iteration #  18 - FCN =   263649.9312007 Edm =  8.29748e-06 NCalls =    410\n",
      "Minuit2Minimizer : Valid minimum - status = 0\n",
      "FVAL  = 263649.931200696563\n",
      "Edm   = 8.29747992676012736e-06\n",
      "Nfcn  = 410\n",
      "a1\t  = 0.782984\t +/-  0.00922476\t(limited)\n",
      "a2\t  = 1.23452\t +/-  0.0116333\t(limited)\n",
      "dm\t  = -0.5\t +/-  0.00243256\t(limited)\n",
      "n1\t  = 13.9153\t +/-  1.3834\t(limited)\n",
      "n2\t  = 50\t +/-  1.77553\t(limited)\n",
      "sigma\t  = 1.85275\t +/-  0.0106781\t(limited)\n",
      "[#1] INFO:Fitting -- RooAbsPdf::fitTo(pdf) Calculating sum-of-weights-squared correction matrix for covariance matrix\n",
      "[#1] INFO:Minization -- RooMinimizer::optimizeConst: deactivating const optimization\n",
      "[#1] INFO:InputArguments -- RooAbsData::plotOn(data) INFO: dataset has non-integer weights, auto-selecting SumW2 errors instead of Poisson errors\n",
      "[#1] INFO:Plotting -- RooAbsPdf::plotOn(pdf) p.d.f was fitted in range and no explicit plot,norm range was specified, using fit range as default\n",
      "[#1] INFO:Plotting -- RooAbsPdf::plotOn(pdf) only plotting range 'fit_nll_pdf_data'\n",
      "[#1] INFO:Plotting -- RooAbsPdf::plotOn(pdf) p.d.f. curve is normalized using explicit choice of ranges 'fit_nll_pdf_data'\n"
     ]
    },
    {
     "name": "stderr",
     "output_type": "stream",
     "text": [
      "Info in <Minuit2>: negative or zero diagonal element in covariance matrix : i = 3\n",
      "Info in <Minuit2>: added to diagonal of Error matrix a value : dg = 101.506\n",
      "Info in <Minuit2>: matrix forced pos-def by adding to diagonal : padd = 0.140539\n",
      "Info in <Minuit2>: MnHesse: matrix was forced pos. def. \n",
      "Info in <Minuit2>: VariableMetricBuilder: Tolerance is not sufficient, continue the minimization\n",
      "Info in <Minuit2>: Current  Edm is : edm = 12.7051\n",
      "Info in <Minuit2>: Required Edm is : edmval = 0.001\n",
      "Info in <Minuit2>: Minuit2Minimizer::Hesse : Hesse is valid - matrix is accurate\n",
      "Info in <Minuit2>: Minuit2Minimizer::Hesse : Hesse is valid - matrix is accurate\n",
      "Info in <TCanvas::Print>: pdf file ggH_Reco.pdf has been created\n"
     ]
    }
   ],
   "source": [
    "FitSignal.makepdf(h_llg, \"ggH_Reco\")"
   ]
  },
  {
   "cell_type": "code",
   "execution_count": 5,
   "metadata": {
    "scrolled": true
   },
   "outputs": [
    {
     "data": {
      "text/html": [
       "\n",
       "        <iframe\n",
       "            width=\"900\"\n",
       "            height=\"600\"\n",
       "            src=\"ggH_Reco.pdf\"\n",
       "            frameborder=\"0\"\n",
       "            allowfullscreen\n",
       "        ></iframe>\n",
       "        "
      ],
      "text/plain": [
       "<IPython.lib.display.IFrame at 0x7f3074038bd0>"
      ]
     },
     "execution_count": 5,
     "metadata": {},
     "output_type": "execute_result"
    }
   ],
   "source": [
    "IFrame(\"ggH_Reco.pdf\", width=900, height=600)"
   ]
  },
  {
   "cell_type": "code",
   "execution_count": 6,
   "metadata": {
    "scrolled": true
   },
   "outputs": [
    {
     "name": "stdout",
     "output_type": "stream",
     "text": [
      "0.741344015555\n",
      "0.972815494415\n",
      "90.7243079736\n",
      "10.8324937804\n",
      "10.0000482844\n",
      "2.22683706843\n",
      "300548.981631\n",
      "[#1] INFO:DataHandling -- RooDataHist::adjustBinning(data): fit range of variable CMS_z_Mass expanded to nearest bin boundaries: [70,110] --> [70,110]\n",
      "[#1] INFO:Eval -- RooRealVar::setRange(CMS_z_Mass) new range named 'fit' created with bounds [70,110]\n",
      "[#1] INFO:Fitting -- RooAbsOptTestStatistic::ctor(nll_pdf_data) constructing test statistic for sub-range named fit\n",
      "[#1] INFO:Eval -- RooRealVar::setRange(CMS_z_Mass) new range named 'NormalizationRangeForfit' created with bounds [70,110]\n",
      "[#1] INFO:Eval -- RooRealVar::setRange(CMS_z_Mass) new range named 'fit_nll_pdf_data' created with bounds [70,110]\n",
      "[#1] INFO:Fitting -- RooAbsOptTestStatistic::ctor(nll_pdf_data) fixing interpretation of coefficients of any RooAddPdf to full domain of observables \n",
      "[#1] INFO:Minization -- RooMinimizer::optimizeConst: activating const optimization\n",
      "Minuit2Minimizer: Minimize with max-calls 3000 convergence for edm < 1 strategy 1\n",
      "MnSeedGenerator: for initial parameters FCN = 309348.8800214\n",
      "MnSeedGenerator: Initial state:   - FCN =   309348.8800214 Edm =      12698.4 NCalls =     25\n",
      "MnSeedGenerator: Negative G2 found - new state:   - FCN =   304473.9500398 Edm =      6222.78 NCalls =    108\n",
      "VariableMetric: start iterating until Edm is < 0.001\n",
      "VariableMetric: Initial state   - FCN =   304473.9500398 Edm =      6222.78 NCalls =    108\n",
      "VariableMetric: Iteration #   0 - FCN =   304473.9500398 Edm =      6222.78 NCalls =    108\n",
      "VariableMetric: Iteration #   1 - FCN =   300744.8741944 Edm =      34.8671 NCalls =    130\n",
      "VariableMetric: Iteration #   2 - FCN =   300695.0336368 Edm =      46.5391 NCalls =    151\n",
      "VariableMetric: Iteration #   3 - FCN =   300662.0669954 Edm =      42.6485 NCalls =    172\n",
      "VariableMetric: Iteration #   4 - FCN =   300600.1892323 Edm =      77.3571 NCalls =    189\n",
      "VariableMetric: Iteration #   5 - FCN =   300552.2595608 Edm =      2.46478 NCalls =    209\n",
      "VariableMetric: Iteration #   6 - FCN =   300549.6026441 Edm =   0.00676002 NCalls =    224\n",
      "VariableMetric: Iteration #   7 - FCN =   300549.5930873 Edm =   0.00219994 NCalls =    238\n",
      "VariableMetric: Iteration #   8 - FCN =   300549.5442367 Edm =    0.0126785 NCalls =    254\n",
      "VariableMetric: Iteration #   9 - FCN =   300549.5205285 Edm =  0.000188693 NCalls =    268\n",
      "VariableMetric: After Hessian   - FCN =   300549.5205285 Edm =      1.69201 NCalls =    316\n",
      "VariableMetric: Iteration #  10 - FCN =   300549.5205285 Edm =      1.69201 NCalls =    316\n",
      "VariableMetric: Iteration #  11 - FCN =   300549.4716304 Edm =      108.289 NCalls =    335\n",
      "VariableMetric: Iteration #  12 - FCN =    300549.467693 Edm =     0.702985 NCalls =    356\n",
      "VariableMetric: Iteration #  13 - FCN =    300549.467693 Edm =     0.702985 NCalls =    366\n",
      "Simplex: Iteration #   0 - FCN =   304249.9839051 Edm =      563.309 NCalls =    372\n",
      "Simplex: Iteration #   1 - FCN =   302532.1197492 Edm =      2041.11 NCalls =    375\n",
      "Simplex: Iteration #   2 - FCN =   302532.1197492 Edm =      1953.01 NCalls =    376\n",
      "Simplex: Iteration #   3 - FCN =   302532.1197492 Edm =      1948.41 NCalls =    377\n",
      "Simplex: Iteration #   4 - FCN =   302532.1197492 Edm =      1941.83 NCalls =    378\n",
      "Simplex: Iteration #   5 - FCN =   302532.1197492 Edm =      1933.77 NCalls =    379\n",
      "Simplex: Iteration #   6 - FCN =   301404.2773705 Edm =      2845.71 NCalls =    382\n",
      "Simplex: Iteration #   7 - FCN =   301404.2773705 Edm =      2138.03 NCalls =    383\n",
      "Simplex: Iteration #   8 - FCN =   301404.2773705 Edm =      1943.59 NCalls =    384\n",
      "Simplex: Iteration #   9 - FCN =   301404.2773705 Edm =       1617.2 NCalls =    385\n",
      "Simplex: Iteration #  10 - FCN =   301404.2773705 Edm =      1235.98 NCalls =    386\n",
      "Simplex: Iteration #  11 - FCN =   301404.2773705 Edm =      1127.84 NCalls =    387\n",
      "Simplex: Iteration #  12 - FCN =   301404.2773705 Edm =      774.996 NCalls =    389\n",
      "Simplex: Iteration #  13 - FCN =   301404.2773705 Edm =       355.86 NCalls =    391\n",
      "Simplex: Iteration #  14 - FCN =   301404.2773705 Edm =      334.217 NCalls =    393\n",
      "Simplex: Iteration #  15 - FCN =   301404.2773705 Edm =      287.123 NCalls =    394\n",
      "Simplex: Iteration #  16 - FCN =   301404.2773705 Edm =      220.502 NCalls =    395\n",
      "Simplex: Iteration #  17 - FCN =   301404.2773705 Edm =      195.766 NCalls =    397\n",
      "Simplex: Iteration #  18 - FCN =   301404.2773705 Edm =       190.28 NCalls =    398\n",
      "Simplex: Iteration #  19 - FCN =   301404.2773705 Edm =      185.735 NCalls =    399\n",
      "Simplex: Iteration #  20 - FCN =   301404.2773705 Edm =      173.569 NCalls =    400\n",
      "Simplex: Iteration #  21 - FCN =   301291.2698306 Edm =      217.931 NCalls =    402\n",
      "Simplex: Iteration #  22 - FCN =   301291.2698306 Edm =      205.813 NCalls =    404\n",
      "Simplex: Iteration #  23 - FCN =   301291.2698306 Edm =      201.222 NCalls =    405\n",
      "Simplex: Iteration #  24 - FCN =   301291.2698306 Edm =       201.15 NCalls =    406\n",
      "Simplex: Iteration #  25 - FCN =   301130.8133936 Edm =      339.929 NCalls =    409\n",
      "Simplex: Iteration #  26 - FCN =   301130.8133936 Edm =      317.726 NCalls =    411\n",
      "Simplex: Iteration #  27 - FCN =   301130.8133936 Edm =      283.335 NCalls =    412\n",
      "Simplex: Iteration #  28 - FCN =   301130.8133936 Edm =      273.464 NCalls =    413\n",
      "Simplex: Iteration #  29 - FCN =   301091.6013252 Edm =      264.289 NCalls =    415\n",
      "Simplex: Iteration #  30 - FCN =   301091.6013252 Edm =      231.433 NCalls =    416\n",
      "Simplex: Iteration #  31 - FCN =   301091.1347029 Edm =      200.135 NCalls =    418\n",
      "Simplex: Iteration #  32 - FCN =   301022.9312149 Edm =      184.935 NCalls =    420\n",
      "Simplex: Iteration #  33 - FCN =   300761.0389434 Edm =      425.486 NCalls =    422\n",
      "Simplex: Iteration #  34 - FCN =   300758.2099868 Edm =      385.206 NCalls =    424\n",
      "Simplex: Iteration #  35 - FCN =   300758.2099868 Edm =      372.603 NCalls =    426\n",
      "Simplex: Iteration #  36 - FCN =   300758.2099868 Edm =      333.391 NCalls =    427\n",
      "Simplex: Iteration #  37 - FCN =   300743.5504337 Edm =      347.584 NCalls =    429\n",
      "Simplex: Iteration #  38 - FCN =   300621.4995949 Edm =      401.432 NCalls =    431\n",
      "Simplex: Iteration #  39 - FCN =   300621.4995949 Edm =      316.162 NCalls =    432\n",
      "Simplex: Iteration #  40 - FCN =   300621.4995949 Edm =      277.472 NCalls =    433\n",
      "Simplex: Iteration #  41 - FCN =   300621.4995949 Edm =       143.37 NCalls =    435\n",
      "Simplex: Iteration #  42 - FCN =   300621.4995949 Edm =      139.539 NCalls =    437\n",
      "Simplex: Iteration #  43 - FCN =   300621.4995949 Edm =       136.71 NCalls =    439\n",
      "Simplex: Iteration #  44 - FCN =   300621.4995949 Edm =       130.22 NCalls =    440\n",
      "Simplex: Iteration #  45 - FCN =   300611.4571333 Edm =      132.093 NCalls =    442\n",
      "Simplex: Iteration #  46 - FCN =   300592.2799461 Edm =      121.226 NCalls =    444\n",
      "Simplex: Iteration #  47 - FCN =   300592.2799461 Edm =      37.0343 NCalls =    446\n",
      "Simplex: Iteration #  48 - FCN =    300590.081255 Edm =      38.9747 NCalls =    448\n",
      "Simplex: Iteration #  49 - FCN =    300590.081255 Edm =      36.9247 NCalls =    450\n",
      "Simplex: Iteration #  50 - FCN =    300590.081255 Edm =      31.4183 NCalls =    451\n",
      "Simplex: Iteration #  51 - FCN =   300588.9515698 Edm =      28.0665 NCalls =    453\n",
      "Simplex: Iteration #  52 - FCN =    300587.035251 Edm =      24.4231 NCalls =    455\n",
      "Simplex: Iteration #  53 - FCN =    300587.035251 Edm =      24.4219 NCalls =    456\n",
      "Simplex: Iteration #  54 - FCN =   300582.2682022 Edm =      23.5542 NCalls =    458\n",
      "Simplex: Iteration #  55 - FCN =   300582.2682022 Edm =      11.0972 NCalls =    460\n",
      "Simplex: Iteration #  56 - FCN =   300582.2682022 Edm =      10.0117 NCalls =    461\n",
      "Simplex: Iteration #  57 - FCN =   300577.3862651 Edm =       12.695 NCalls =    463\n",
      "Simplex: Iteration #  58 - FCN =   300577.3862651 Edm =      11.5653 NCalls =    465\n",
      "Simplex: Iteration #  59 - FCN =   300577.3862651 Edm =      9.64899 NCalls =    467\n",
      "Simplex: Iteration #  60 - FCN =   300576.8315354 Edm =      6.96018 NCalls =    469\n",
      "Simplex: Iteration #  61 - FCN =   300576.8315354 Edm =      6.33157 NCalls =    471\n",
      "Simplex: Iteration #  62 - FCN =   300576.8315354 Edm =      5.43667 NCalls =    472\n",
      "Simplex: Iteration #  63 - FCN =   300573.4755353 Edm =      7.15337 NCalls =    474\n",
      "Simplex: Iteration #  64 - FCN =   300573.4755353 Edm =      4.78974 NCalls =    476\n",
      "Simplex: Iteration #  65 - FCN =   300573.4755353 Edm =      4.00819 NCalls =    477\n",
      "Simplex: Iteration #  66 - FCN =   300573.4755353 Edm =      3.91073 NCalls =    478\n",
      "Simplex: Iteration #  67 - FCN =   300573.4755353 Edm =      3.55755 NCalls =    479\n",
      "Simplex: Iteration #  68 - FCN =   300573.4755353 Edm =        3.356 NCalls =    480\n",
      "Simplex: Iteration #  69 - FCN =    300571.526579 Edm =       4.9765 NCalls =    482\n",
      "Simplex: Iteration #  70 - FCN =    300571.526579 Edm =      4.96318 NCalls =    484\n",
      "Simplex: Iteration #  71 - FCN =    300571.526579 Edm =      4.50273 NCalls =    486\n",
      "Simplex: Iteration #  72 - FCN =    300571.526579 Edm =      3.69386 NCalls =    487\n",
      "Simplex: Iteration #  73 - FCN =   300571.3410471 Edm =      3.26314 NCalls =    489\n",
      "Simplex: Iteration #  74 - FCN =   300571.3410471 Edm =      3.20694 NCalls =    490\n",
      "Simplex: Iteration #  75 - FCN =   300571.3368887 Edm =      2.13865 NCalls =    492\n",
      "Simplex: Iteration #  76 - FCN =   300571.1105478 Edm =      2.06644 NCalls =    494\n",
      "Simplex: Iteration #  77 - FCN =   300569.0009011 Edm =      4.01716 NCalls =    496\n",
      "Simplex: Iteration #  78 - FCN =   300569.0009011 Edm =      3.13797 NCalls =    497\n",
      "Simplex: Iteration #  79 - FCN =   300568.9410769 Edm =       2.5855 NCalls =    499\n",
      "Simplex: Iteration #  80 - FCN =   300568.9410769 Edm =      2.39997 NCalls =    501\n",
      "Simplex: Iteration #  81 - FCN =   300568.9410769 Edm =      2.39581 NCalls =    502\n",
      "Simplex: Iteration #  82 - FCN =   300568.9410769 Edm =      2.16947 NCalls =    503\n",
      "Simplex: Iteration #  83 - FCN =    300567.890579 Edm =      3.21739 NCalls =    505\n",
      "Simplex: Iteration #  84 - FCN =    300567.890579 Edm =      1.99551 NCalls =    507\n",
      "Simplex: Iteration #  85 - FCN =   300567.6672857 Edm =      1.55056 NCalls =    509\n",
      "Simplex: Iteration #  86 - FCN =   300565.4323144 Edm =      3.68694 NCalls =    511\n",
      "Simplex: Iteration #  87 - FCN =   300565.4323144 Edm =      3.56859 NCalls =    512\n",
      "Simplex: Iteration #  88 - FCN =   300565.1670626 Edm =      3.77401 NCalls =    514\n",
      "Simplex: Iteration #  89 - FCN =   300565.1670626 Edm =      3.22908 NCalls =    515\n",
      "Simplex: Iteration #  90 - FCN =   300565.1670626 Edm =      2.72352 NCalls =    516\n",
      "Simplex: Iteration #  91 - FCN =   300565.1670626 Edm =      2.50022 NCalls =    517\n",
      "Simplex: Iteration #  92 - FCN =   300564.9706624 Edm =      2.67099 NCalls =    519\n",
      "Simplex: Iteration #  93 - FCN =   300564.9706624 Edm =      2.35997 NCalls =    521\n",
      "Simplex: Iteration #  94 - FCN =   300564.9706624 Edm =      2.27514 NCalls =    522\n",
      "Simplex: Iteration #  95 - FCN =   300564.9706624 Edm =      1.29286 NCalls =    523\n",
      "Simplex: Iteration #  96 - FCN =   300564.8437761 Edm =     0.701071 NCalls =    525\n",
      "Simplex: Iteration #  97 - FCN =   300564.8437761 Edm =      0.68581 NCalls =    526\n",
      "Simplex: Iteration #  98 - FCN =   300564.7159261 Edm =     0.716388 NCalls =    528\n",
      "Simplex: Iteration #  99 - FCN =   300564.5536063 Edm =     0.780569 NCalls =    530\n",
      "Simplex: Iteration # 100 - FCN =   300564.5536063 Edm =     0.613456 NCalls =    531\n",
      "Simplex: Iteration # 101 - FCN =   300564.5536063 Edm =     0.520665 NCalls =    533\n",
      "Simplex: Iteration # 102 - FCN =   300564.4687581 Edm =     0.501904 NCalls =    535\n",
      "Simplex: Iteration # 103 - FCN =   300564.4137786 Edm =     0.429997 NCalls =    537\n",
      "Simplex: Final iteration - FCN =   300564.3996919 Edm =     0.316234 NCalls =    540\n",
      "MnSeedGenerator: for initial parameters FCN = 300564.3996919\n",
      "MnSeedGenerator: Initial state:   - FCN =   300564.3996919 Edm =       2.1603 NCalls =    571\n",
      "MnSeedGenerator: run Hesse - new state:   - FCN =   300564.3996919 Edm =      36.9184 NCalls =    613\n",
      "VariableMetric: start iterating until Edm is < 0.001\n",
      "VariableMetric: Initial state   - FCN =   300564.3996919 Edm =      36.9184 NCalls =    613\n",
      "VariableMetric: Iteration #   0 - FCN =   300564.3996919 Edm =      36.9184 NCalls =    613\n",
      "VariableMetric: Iteration #   1 - FCN =    300563.876219 Edm =       19.096 NCalls =    630\n",
      "VariableMetric: Iteration #   2 - FCN =   300551.3430764 Edm =       2.5454 NCalls =    649\n",
      "VariableMetric: Iteration #   3 - FCN =   300550.2380906 Edm =     0.839301 NCalls =    666\n",
      "VariableMetric: Iteration #   4 - FCN =    300549.488271 Edm =     0.338728 NCalls =    680\n",
      "VariableMetric: Iteration #   5 - FCN =   300549.0938461 Edm =      0.02586 NCalls =    695\n",
      "VariableMetric: Iteration #   6 - FCN =   300549.0204994 Edm =    0.0239071 NCalls =    710\n",
      "VariableMetric: Iteration #   7 - FCN =   300548.9876806 Edm =   0.00414769 NCalls =    725\n",
      "VariableMetric: Iteration #   8 - FCN =   300548.9816315 Edm =  0.000390901 NCalls =    740\n",
      "VariableMetric: After Hessian   - FCN =   300548.9816315 Edm =  0.000494441 NCalls =    788\n",
      "VariableMetric: Iteration #   9 - FCN =   300548.9816315 Edm =  0.000494441 NCalls =    788\n",
      "Minuit2Minimizer : Valid minimum - status = 0\n",
      "FVAL  = 300548.981631483941\n",
      "Edm   = 0.000494440603074354956\n",
      "Nfcn  = 788\n",
      "a1\t  = 0.741344\t +/-  0.0147555\t(limited)\n",
      "a2\t  = 0.972815\t +/-  0.0112248\t(limited)\n",
      "dm\t  = -0.275692\t +/-  0.0153033\t(limited)\n",
      "n1\t  = 10.8325\t +/-  1.04438\t(limited)\n",
      "n2\t  = 10\t +/-  0.212156\t(limited)\n",
      "sigma\t  = 2.22684\t +/-  0.0226885\t(limited)\n",
      "[#1] INFO:Fitting -- RooAbsPdf::fitTo(pdf) Calculating sum-of-weights-squared correction matrix for covariance matrix\n",
      "[#1] INFO:Minization -- RooMinimizer::optimizeConst: deactivating const optimization\n",
      "[#1] INFO:InputArguments -- RooAbsData::plotOn(data) INFO: dataset has non-integer weights, auto-selecting SumW2 errors instead of Poisson errors\n",
      "[#1] INFO:Plotting -- RooAbsPdf::plotOn(pdf) p.d.f was fitted in range and no explicit plot,norm range was specified, using fit range as default\n",
      "[#1] INFO:Plotting -- RooAbsPdf::plotOn(pdf) only plotting range 'fit_nll_pdf_data'\n",
      "[#1] INFO:Plotting -- RooAbsPdf::plotOn(pdf) p.d.f. curve is normalized using explicit choice of ranges 'fit_nll_pdf_data'\n"
     ]
    },
    {
     "name": "stderr",
     "output_type": "stream",
     "text": [
      "Info in <Minuit2>: negative or zero diagonal element in covariance matrix : i = 3\n",
      "Info in <Minuit2>: added to diagonal of Error matrix a value : dg = 17.296\n",
      "Info in <Minuit2>: matrix forced pos-def by adding to diagonal : padd = 3.84652\n",
      "Info in <Minuit2>: MnHesse: matrix was forced pos. def. \n",
      "Info in <Minuit2>: VariableMetricBuilder: Tolerance is not sufficient, continue the minimization\n",
      "Info in <Minuit2>: Current  Edm is : edm = 1.69201\n",
      "Info in <Minuit2>: Required Edm is : edmval = 0.001\n",
      "Info in <Minuit2>: DavidonErrorUpdator: delgam < 0 : first derivatives increasing along search line\n",
      "Info in <Minuit2>: VariableMetricBuilder: matrix not pos.def, gdel > 0\n",
      "Info in <Minuit2>: gdel = 0.0773149\n",
      "Info in <Minuit2>: negative or zero diagonal element in covariance matrix : i = 3\n",
      "Info in <Minuit2>: added to diagonal of Error matrix a value : dg = 0.557051\n",
      "Info in <Minuit2>: gdel = -143.488\n",
      "Info in <Minuit2>: VariableMetricBuilder: no improvement in line search\n",
      "Info in <Minuit2>: VariableMetricBuilder: iterations finish without convergence.\n",
      "Info in <Minuit2>: VariableMetricBuilder : edm = 1418.42\n",
      "Info in <Minuit2>:             requested : edmval = 0.001\n",
      "Info in <Minuit2>: VariableMetricBuilder: FunctionMinimum is invalid after second try\n",
      "Info in <Minuit2>: CombinedMinimumBuilder: migrad method fails, will try with simplex method first.\n",
      "Info in <Minuit2>: matrix forced pos-def by adding to diagonal : padd = 0.0439505\n",
      "Info in <Minuit2>: MnHesse: matrix was forced pos. def. \n",
      "Info in <Minuit2>: Minuit2Minimizer::Hesse : Hesse is valid - matrix is accurate\n",
      "Info in <Minuit2>: Minuit2Minimizer::Hesse : Hesse is valid - matrix is accurate\n",
      "Warning in <TCanvas::Constructor>: Deleting canvas with same name: can\n",
      "Info in <TCanvas::Print>: pdf file ggH_ll_Reco.pdf has been created\n"
     ]
    }
   ],
   "source": [
    "FitSignal.makepdfZ(h_ll, \"ggH_ll_Reco\")"
   ]
  },
  {
   "cell_type": "code",
   "execution_count": 7,
   "metadata": {
    "scrolled": true
   },
   "outputs": [
    {
     "data": {
      "text/html": [
       "\n",
       "        <iframe\n",
       "            width=\"900\"\n",
       "            height=\"600\"\n",
       "            src=\"ggH_ll_Reco.pdf\"\n",
       "            frameborder=\"0\"\n",
       "            allowfullscreen\n",
       "        ></iframe>\n",
       "        "
      ],
      "text/plain": [
       "<IPython.lib.display.IFrame at 0x7f3074042250>"
      ]
     },
     "execution_count": 7,
     "metadata": {},
     "output_type": "execute_result"
    }
   ],
   "source": [
    "IFrame(\"ggH_ll_Reco.pdf\", width=900, height=600)"
   ]
  },
  {
   "cell_type": "code",
   "execution_count": 2,
   "metadata": {},
   "outputs": [],
   "source": [
    "f = ROOT.TFile(\"Reco/VBFHToZG.root\")\n",
    "t = f.Get(\"tree\")\n",
    "entries = 863500\n",
    "xsec = 3.782\n",
    "equi_lumi = entries/xsec\n",
    "lumi = 41500\n",
    "weight = lumi/equi_lumi"
   ]
  },
  {
   "cell_type": "code",
   "execution_count": 3,
   "metadata": {
    "scrolled": true
   },
   "outputs": [
    {
     "name": "stdout",
     "output_type": "stream",
     "text": [
      "8730.07062289\n",
      "8713.52803221\n"
     ]
    }
   ],
   "source": [
    "h_ll = ROOT.TH1F(\"h_ll\", \"ll_mass\", 100, 50, 150)\n",
    "h_llg = ROOT.TH1F(\"h_llg\", \"llg_mass\", 130, 50, 180)\n",
    "\n",
    "for i in range(0, t.GetEntries()):\n",
    "    t.GetEntry(i)\n",
    "    if not t.HLT_Ele23_Ele12_CaloIdL_TrackIdL_IsoVL:\n",
    "        continue\n",
    "    if t.nll < 1 or t.nphoton < 1:\n",
    "        continue\n",
    "    if all(dr < 0.4 for dr in t.photon_drmin):\n",
    "        continue\n",
    "    if t.ll_charge.size()==1 and t.ll_charge[0]!=0:\n",
    "        continue\n",
    "    if sum(map(bool, t.el_id)) < 2:\n",
    "        continue\n",
    "    if sum(abs(dz) < 0.01 for dz in t.el_dz) < 2:\n",
    "        continue\n",
    "    if sum(abs(dxy) < 0.005 for dxy in t.el_dxy) < 2:\n",
    "        continue\n",
    "        \n",
    "    idll = []\n",
    "    for z in range(t.nll):\n",
    "        x = t.ll_i1[z]\n",
    "        y = t.ll_i2[z]\n",
    "        if (t.el_charge[x]*t.el_charge[y] == -1 and \\\n",
    "            t.el_pt[x] > 25 and t.el_dz[x] < 0.01 and t.el_dxy[x] < 0.005 and bool(t.el_id[x]) and \\\n",
    "            t.el_pt[y] > 15 and t.el_dz[y] < 0.01 and t.el_dxy[y] < 0.005 and bool(t.el_id[y])):\n",
    "            idll.append(z)\n",
    "            break\n",
    "    if len(idll) == 0:\n",
    "        continue\n",
    "    massZ = t.ll_m[idll[0]]\n",
    "    \n",
    "    idllg = []\n",
    "    iph = 0\n",
    "    ph = ROOT.TLorentzVector()\n",
    "    for z in range(t.nllphoton):\n",
    "        if t.llphoton_ill[z]!=idll[0]:\n",
    "            continue\n",
    "        if (bool(t.photon_id[iph]) and t.photon_drmin[iph] > 0.4 and t.photon_pt[iph] > 15):\n",
    "            ph.SetPtEtaPhiM(t.photon_pt[iph], t.photon_eta[iph], t.photon_phi[iph], 0)\n",
    "            idllg.append(z)\n",
    "            break\n",
    "        iph = iph + 1\n",
    "    if len(idllg) == 0:\n",
    "        continue\n",
    "    massH = t.llphoton_m[idllg[0]]\n",
    "        \n",
    "    if (massZ + massH) < 185:\n",
    "        continue\n",
    "    if (ph.E()/massH) < 15/110:\n",
    "        continue\n",
    "    h_ll.Fill(massZ, weight)\n",
    "    h_llg.Fill(massH, weight)\n",
    "\n",
    "print h_ll.Integral()\n",
    "print h_llg.Integral()"
   ]
  },
  {
   "cell_type": "code",
   "execution_count": 4,
   "metadata": {
    "scrolled": true
   },
   "outputs": [
    {
     "name": "stdout",
     "output_type": "stream",
     "text": [
      "0.831374936186\n",
      "1.24241201815\n",
      "124.5\n",
      "10.0000050406\n",
      "49.9830356873\n",
      "1.82911117017\n",
      "21311.6193715\n",
      "[#1] INFO:DataHandling -- RooDataHist::adjustBinning(data): fit range of variable CMS_zgamma_Mass expanded to nearest bin boundaries: [110,140] --> [110,140]\n",
      "[#1] INFO:Eval -- RooRealVar::setRange(CMS_zgamma_Mass) new range named 'fit' created with bounds [110,140]\n",
      "[#1] INFO:Fitting -- RooAbsOptTestStatistic::ctor(nll_pdf_data) constructing test statistic for sub-range named fit\n",
      "[#1] INFO:Eval -- RooRealVar::setRange(CMS_zgamma_Mass) new range named 'NormalizationRangeForfit' created with bounds [110,140]\n",
      "[#1] INFO:Eval -- RooRealVar::setRange(CMS_zgamma_Mass) new range named 'fit_nll_pdf_data' created with bounds [110,140]\n",
      "[#1] INFO:Fitting -- RooAbsOptTestStatistic::ctor(nll_pdf_data) fixing interpretation of coefficients of any RooAddPdf to full domain of observables \n",
      "[#1] INFO:Minization -- RooMinimizer::optimizeConst: activating const optimization\n",
      "Minuit2Minimizer: Minimize with max-calls 3000 convergence for edm < 1 strategy 1\n",
      "MnSeedGenerator: for initial parameters FCN = 21810.54664682\n",
      "MnSeedGenerator: Initial state:   - FCN =   21810.54664682 Edm =      246.354 NCalls =     23\n",
      "MnSeedGenerator: Negative G2 found - new state:   - FCN =   21481.90284295 Edm =      185.575 NCalls =     63\n",
      "VariableMetric: start iterating until Edm is < 0.001\n",
      "VariableMetric: Initial state   - FCN =   21481.90284295 Edm =      185.575 NCalls =     63\n",
      "VariableMetric: Iteration #   0 - FCN =   21481.90284295 Edm =      185.575 NCalls =     63\n",
      "VariableMetric: Iteration #   1 - FCN =   21319.18895981 Edm =      14.0353 NCalls =     81\n",
      "VariableMetric: Iteration #   2 - FCN =   21312.68608686 Edm =      0.42051 NCalls =     97\n",
      "VariableMetric: Iteration #   3 - FCN =   21312.20646786 Edm =      0.05075 NCalls =    111\n",
      "VariableMetric: Iteration #   4 - FCN =     21311.801085 Edm =    0.0316076 NCalls =    127\n",
      "VariableMetric: Iteration #   5 - FCN =   21311.76516935 Edm =   0.00318666 NCalls =    141\n",
      "VariableMetric: Iteration #   6 - FCN =   21311.68783619 Edm =    0.0352153 NCalls =    159\n",
      "VariableMetric: Iteration #   7 - FCN =   21311.62429475 Edm =   0.00497874 NCalls =    175\n",
      "VariableMetric: Iteration #   8 - FCN =   21311.61937145 Edm =   0.00040906 NCalls =    188\n",
      "VariableMetric: After Hessian   - FCN =   21311.61937145 Edm =  0.000154872 NCalls =    234\n",
      "VariableMetric: Iteration #   9 - FCN =   21311.61937145 Edm =  0.000154872 NCalls =    234\n",
      "Minuit2Minimizer : Valid minimum - status = 0\n",
      "FVAL  = 21311.6193714539841\n",
      "Edm   = 0.000154871896266971286\n",
      "Nfcn  = 234\n",
      "a1\t  = 0.831375\t +/-  0.0245337\t(limited)\n",
      "a2\t  = 1.24241\t +/-  0.0401817\t(limited)\n",
      "dm\t  = -0.5\t +/-  0.371064\t(limited)\n",
      "n1\t  = 10\t +/-  3.38019\t(limited)\n",
      "n2\t  = 49.983\t +/-  3.30201\t(limited)\n",
      "sigma\t  = 1.82911\t +/-  0.0380218\t(limited)\n",
      "[#1] INFO:Fitting -- RooAbsPdf::fitTo(pdf) Calculating sum-of-weights-squared correction matrix for covariance matrix\n",
      "[#1] INFO:Minization -- RooMinimizer::optimizeConst: deactivating const optimization\n",
      "[#1] INFO:InputArguments -- RooAbsData::plotOn(data) INFO: dataset has non-integer weights, auto-selecting SumW2 errors instead of Poisson errors\n",
      "[#1] INFO:Plotting -- RooAbsPdf::plotOn(pdf) p.d.f was fitted in range and no explicit plot,norm range was specified, using fit range as default\n",
      "[#1] INFO:Plotting -- RooAbsPdf::plotOn(pdf) only plotting range 'fit_nll_pdf_data'\n",
      "[#1] INFO:Plotting -- RooAbsPdf::plotOn(pdf) p.d.f. curve is normalized using explicit choice of ranges 'fit_nll_pdf_data'\n"
     ]
    },
    {
     "name": "stderr",
     "output_type": "stream",
     "text": [
      "Info in <Minuit2>: negative or zero diagonal element in covariance matrix : i = 2\n",
      "Info in <Minuit2>: added to diagonal of Error matrix a value : dg = 2.48987\n",
      "Info in <Minuit2>: negative or zero diagonal element in covariance matrix : i = 2\n",
      "Info in <Minuit2>: added to diagonal of Error matrix a value : dg = 2.60992\n",
      "Info in <Minuit2>: Minuit2Minimizer::Hesse : Hesse is valid - matrix is accurate\n",
      "Info in <Minuit2>: negative or zero diagonal element in covariance matrix : i = 2\n",
      "Info in <Minuit2>: added to diagonal of Error matrix a value : dg = 0.871037\n",
      "Info in <Minuit2>: Minuit2Minimizer::Hesse : Hesse is valid - matrix is accurate\n",
      "Info in <TCanvas::Print>: pdf file vbfH_Reco.pdf has been created\n"
     ]
    }
   ],
   "source": [
    "FitSignal.makepdf(h_llg, \"vbfH_Reco\")"
   ]
  },
  {
   "cell_type": "code",
   "execution_count": 5,
   "metadata": {
    "scrolled": true
   },
   "outputs": [
    {
     "data": {
      "text/html": [
       "\n",
       "        <iframe\n",
       "            width=\"900\"\n",
       "            height=\"600\"\n",
       "            src=\"vbfH_Reco.pdf\"\n",
       "            frameborder=\"0\"\n",
       "            allowfullscreen\n",
       "        ></iframe>\n",
       "        "
      ],
      "text/plain": [
       "<IPython.lib.display.IFrame at 0x7f74605cdd50>"
      ]
     },
     "execution_count": 5,
     "metadata": {},
     "output_type": "execute_result"
    }
   ],
   "source": [
    "IFrame(\"vbfH_Reco.pdf\", width=900, height=600)"
   ]
  },
  {
   "cell_type": "code",
   "execution_count": 6,
   "metadata": {
    "scrolled": true
   },
   "outputs": [
    {
     "name": "stdout",
     "output_type": "stream",
     "text": [
      "0.747284769298\n",
      "0.925438280878\n",
      "90.722473445\n",
      "10.0002335639\n",
      "10.0006237405\n",
      "2.13537131926\n",
      "24423.2697322\n",
      "[#1] INFO:DataHandling -- RooDataHist::adjustBinning(data): fit range of variable CMS_z_Mass expanded to nearest bin boundaries: [70,110] --> [70,110]\n",
      "[#1] INFO:Eval -- RooRealVar::setRange(CMS_z_Mass) new range named 'fit' created with bounds [70,110]\n",
      "[#1] INFO:Fitting -- RooAbsOptTestStatistic::ctor(nll_pdf_data) constructing test statistic for sub-range named fit\n",
      "[#1] INFO:Eval -- RooRealVar::setRange(CMS_z_Mass) new range named 'NormalizationRangeForfit' created with bounds [70,110]\n",
      "[#1] INFO:Eval -- RooRealVar::setRange(CMS_z_Mass) new range named 'fit_nll_pdf_data' created with bounds [70,110]\n",
      "[#1] INFO:Fitting -- RooAbsOptTestStatistic::ctor(nll_pdf_data) fixing interpretation of coefficients of any RooAddPdf to full domain of observables \n",
      "[#1] INFO:Minization -- RooMinimizer::optimizeConst: activating const optimization\n",
      "Minuit2Minimizer: Minimize with max-calls 3000 convergence for edm < 1 strategy 1\n",
      "MnSeedGenerator: for initial parameters FCN = 25055.87082125\n",
      "MnSeedGenerator: Initial state:   - FCN =   25055.87082125 Edm =      840.028 NCalls =     21\n",
      "MnSeedGenerator: Negative G2 found - new state:   - FCN =   24686.84305619 Edm =      421.421 NCalls =    103\n",
      "VariableMetric: start iterating until Edm is < 0.001\n",
      "VariableMetric: Initial state   - FCN =   24686.84305619 Edm =      421.421 NCalls =    103\n",
      "VariableMetric: Iteration #   0 - FCN =   24686.84305619 Edm =      421.421 NCalls =    103\n",
      "VariableMetric: Iteration #   1 - FCN =   24434.40555137 Edm =      4.99213 NCalls =    125\n",
      "VariableMetric: Iteration #   2 - FCN =   24428.08501903 Edm =       2.4303 NCalls =    146\n",
      "VariableMetric: Iteration #   3 - FCN =   24425.74311124 Edm =      1.80653 NCalls =    163\n",
      "VariableMetric: Iteration #   4 - FCN =   24423.57696348 Edm =    0.0132206 NCalls =    181\n",
      "VariableMetric: Iteration #   5 - FCN =   24423.49399506 Edm =    0.0504945 NCalls =    196\n",
      "VariableMetric: Iteration #   6 - FCN =    24423.2909492 Edm =    0.0249152 NCalls =    211\n",
      "VariableMetric: Iteration #   7 - FCN =   24423.26973219 Edm =  0.000283753 NCalls =    225\n",
      "VariableMetric: After Hessian   - FCN =   24423.26973219 Edm =  0.000841035 NCalls =    269\n",
      "VariableMetric: Iteration #   8 - FCN =   24423.26973219 Edm =  0.000841035 NCalls =    269\n",
      "Minuit2Minimizer : Valid minimum - status = 0\n",
      "FVAL  = 24423.2697321895503\n",
      "Edm   = 0.00084103476541530595\n",
      "Nfcn  = 269\n",
      "a1\t  = 0.747285\t +/-  0.0241419\t(limited)\n",
      "a2\t  = 0.925438\t +/-  0.0268949\t(limited)\n",
      "dm\t  = -0.277527\t +/-  0.0424427\t(limited)\n",
      "n1\t  = 10.0002\t +/-  3.58819\t(limited)\n",
      "n2\t  = 10.0006\t +/-  0.552143\t(limited)\n",
      "sigma\t  = 2.13537\t +/-  0.055888\t(limited)\n",
      "[#1] INFO:Fitting -- RooAbsPdf::fitTo(pdf) Calculating sum-of-weights-squared correction matrix for covariance matrix\n",
      "[#1] INFO:Minization -- RooMinimizer::optimizeConst: deactivating const optimization\n",
      "[#1] INFO:InputArguments -- RooAbsData::plotOn(data) INFO: dataset has non-integer weights, auto-selecting SumW2 errors instead of Poisson errors\n",
      "[#1] INFO:Plotting -- RooAbsPdf::plotOn(pdf) p.d.f was fitted in range and no explicit plot,norm range was specified, using fit range as default\n",
      "[#1] INFO:Plotting -- RooAbsPdf::plotOn(pdf) only plotting range 'fit_nll_pdf_data'\n",
      "[#1] INFO:Plotting -- RooAbsPdf::plotOn(pdf) p.d.f. curve is normalized using explicit choice of ranges 'fit_nll_pdf_data'\n"
     ]
    },
    {
     "name": "stderr",
     "output_type": "stream",
     "text": [
      "Info in <Minuit2>: Minuit2Minimizer::Hesse : Hesse is valid - matrix is accurate\n",
      "Info in <Minuit2>: Minuit2Minimizer::Hesse : Hesse is valid - matrix is accurate\n",
      "Warning in <TCanvas::Constructor>: Deleting canvas with same name: can\n",
      "Info in <TCanvas::Print>: pdf file vbfH_ll_Reco.pdf has been created\n"
     ]
    }
   ],
   "source": [
    "FitSignal.makepdfZ(h_ll, \"vbfH_ll_Reco\")"
   ]
  },
  {
   "cell_type": "code",
   "execution_count": 7,
   "metadata": {
    "scrolled": true
   },
   "outputs": [
    {
     "data": {
      "text/html": [
       "\n",
       "        <iframe\n",
       "            width=\"900\"\n",
       "            height=\"600\"\n",
       "            src=\"vbfH_ll_Reco.pdf\"\n",
       "            frameborder=\"0\"\n",
       "            allowfullscreen\n",
       "        ></iframe>\n",
       "        "
      ],
      "text/plain": [
       "<IPython.lib.display.IFrame at 0x7f74605d2190>"
      ]
     },
     "execution_count": 7,
     "metadata": {},
     "output_type": "execute_result"
    }
   ],
   "source": [
    "IFrame(\"vbfH_ll_Reco.pdf\", width=900, height=600)"
   ]
  },
  {
   "cell_type": "code",
   "execution_count": 2,
   "metadata": {},
   "outputs": [],
   "source": [
    "f = ROOT.TFile(\"Reco/WminusH.root\")\n",
    "t = f.Get(\"tree\")\n",
    "entries = 49996\n",
    "xsec = 0.533\n",
    "equi_lumi = entries/xsec\n",
    "lumi = 41500\n",
    "weight = lumi/equi_lumi"
   ]
  },
  {
   "cell_type": "code",
   "execution_count": 3,
   "metadata": {
    "scrolled": true
   },
   "outputs": [
    {
     "name": "stdout",
     "output_type": "stream",
     "text": [
      "1064.91932601\n",
      "1058.72646192\n"
     ]
    }
   ],
   "source": [
    "h_ll = ROOT.TH1F(\"h_ll\", \"ll_mass\", 100, 50, 150)\n",
    "h_llg = ROOT.TH1F(\"h_llg\", \"llg_mass\", 130, 50, 180)\n",
    "\n",
    "for i in range(0, t.GetEntries()):\n",
    "    t.GetEntry(i)\n",
    "    if not t.HLT_Ele23_Ele12_CaloIdL_TrackIdL_IsoVL:\n",
    "        continue\n",
    "    if t.nll < 1 or t.nphoton < 1:\n",
    "        continue\n",
    "    if all(dr < 0.4 for dr in t.photon_drmin):\n",
    "        continue\n",
    "    if t.ll_charge.size()==1 and t.ll_charge[0]!=0:\n",
    "        continue\n",
    "    if sum(map(bool, t.el_id)) < 2:\n",
    "        continue\n",
    "    if sum(abs(dz) < 0.01 for dz in t.el_dz) < 2:\n",
    "        continue\n",
    "    if sum(abs(dxy) < 0.005 for dxy in t.el_dxy) < 2:\n",
    "        continue\n",
    "        \n",
    "    idll = []\n",
    "    for z in range(t.nll):\n",
    "        x = t.ll_i1[z]\n",
    "        y = t.ll_i2[z]\n",
    "        if (t.el_charge[x]*t.el_charge[y] == -1 and \\\n",
    "            t.el_pt[x] > 25 and t.el_dz[x] < 0.01 and t.el_dxy[x] < 0.005 and bool(t.el_id[x]) and \\\n",
    "            t.el_pt[y] > 15 and t.el_dz[y] < 0.01 and t.el_dxy[y] < 0.005 and bool(t.el_id[y])):\n",
    "            idll.append(z)\n",
    "            break\n",
    "    if len(idll) == 0:\n",
    "        continue\n",
    "    massZ = t.ll_m[idll[0]]\n",
    "    \n",
    "    idllg = []\n",
    "    iph = 0\n",
    "    ph = ROOT.TLorentzVector()\n",
    "    for z in range(t.nllphoton):\n",
    "        if t.llphoton_ill[z]!=idll[0]:\n",
    "            continue\n",
    "        if (bool(t.photon_id[iph]) and t.photon_drmin[iph] > 0.4 and t.photon_pt[iph] > 15):\n",
    "            ph.SetPtEtaPhiM(t.photon_pt[iph], t.photon_eta[iph], t.photon_phi[iph], 0)\n",
    "            idllg.append(z)\n",
    "            break\n",
    "        iph = iph + 1\n",
    "    if len(idllg) == 0:\n",
    "        continue\n",
    "    massH = t.llphoton_m[idllg[0]]\n",
    "        \n",
    "    if (massZ + massH) < 185:\n",
    "        continue\n",
    "    if (ph.E()/massH) < 15/110:\n",
    "        continue\n",
    "    h_ll.Fill(massZ, weight)\n",
    "    h_llg.Fill(massH, weight)\n",
    "\n",
    "print h_ll.Integral()\n",
    "print h_llg.Integral()"
   ]
  },
  {
   "cell_type": "code",
   "execution_count": 4,
   "metadata": {
    "scrolled": true
   },
   "outputs": [
    {
     "name": "stdout",
     "output_type": "stream",
     "text": [
      "0.974097290897\n",
      "1.59388785933\n",
      "124.500000001\n",
      "10.0000689569\n",
      "10.0073059585\n",
      "2.09309160064\n",
      "2574.84007286\n",
      "[#1] INFO:DataHandling -- RooDataHist::adjustBinning(data): fit range of variable CMS_zgamma_Mass expanded to nearest bin boundaries: [110,140] --> [110,140]\n",
      "[#1] INFO:Eval -- RooRealVar::setRange(CMS_zgamma_Mass) new range named 'fit' created with bounds [110,140]\n",
      "[#1] INFO:Fitting -- RooAbsOptTestStatistic::ctor(nll_pdf_data) constructing test statistic for sub-range named fit\n",
      "[#1] INFO:Eval -- RooRealVar::setRange(CMS_zgamma_Mass) new range named 'NormalizationRangeForfit' created with bounds [110,140]\n",
      "[#1] INFO:Eval -- RooRealVar::setRange(CMS_zgamma_Mass) new range named 'fit_nll_pdf_data' created with bounds [110,140]\n",
      "[#1] INFO:Fitting -- RooAbsOptTestStatistic::ctor(nll_pdf_data) fixing interpretation of coefficients of any RooAddPdf to full domain of observables \n",
      "[#1] INFO:Minization -- RooMinimizer::optimizeConst: activating const optimization\n",
      "Minuit2Minimizer: Minimize with max-calls 3000 convergence for edm < 1 strategy 1\n",
      "MnSeedGenerator: for initial parameters FCN = 2627.229148449\n",
      "MnSeedGenerator: Initial state:   - FCN =   2627.229148449 Edm =      27.2255 NCalls =     21\n",
      "MnSeedGenerator: Negative G2 found - new state:   - FCN =    2591.72740107 Edm =      19.0828 NCalls =     59\n",
      "VariableMetric: start iterating until Edm is < 0.001\n",
      "VariableMetric: Initial state   - FCN =    2591.72740107 Edm =      19.0828 NCalls =     59\n",
      "VariableMetric: Iteration #   0 - FCN =    2591.72740107 Edm =      19.0828 NCalls =     59\n",
      "VariableMetric: Iteration #   1 - FCN =   2575.654511202 Edm =    0.0131514 NCalls =     78\n",
      "VariableMetric: Iteration #   2 - FCN =   2575.635304384 Edm =    0.0142144 NCalls =     94\n",
      "VariableMetric: Iteration #   3 - FCN =   2575.619932616 Edm =   0.00261237 NCalls =    109\n",
      "VariableMetric: Iteration #   4 - FCN =   2575.614904938 Edm =   0.00191893 NCalls =    127\n",
      "VariableMetric: Iteration #   5 - FCN =    2575.60347334 Edm =   0.00835948 NCalls =    144\n",
      "VariableMetric: Iteration #   6 - FCN =   2575.141237037 Edm =     0.840646 NCalls =    169\n",
      "VariableMetric: Iteration #   7 - FCN =   2575.021225312 Edm =     0.131354 NCalls =    186\n",
      "VariableMetric: Iteration #   8 - FCN =   2574.945589644 Edm =   0.00902126 NCalls =    200\n",
      "VariableMetric: Iteration #   9 - FCN =   2574.886576917 Edm =    0.0287468 NCalls =    219\n",
      "VariableMetric: Iteration #  10 - FCN =   2574.847703329 Edm =    0.0086553 NCalls =    233\n",
      "VariableMetric: Iteration #  11 - FCN =   2574.840821661 Edm =  0.000822481 NCalls =    247\n",
      "VariableMetric: Iteration #  12 - FCN =   2574.840072855 Edm =  0.000104556 NCalls =    260\n",
      "VariableMetric: After Hessian   - FCN =   2574.840072855 Edm =  0.000232446 NCalls =    302\n",
      "VariableMetric: Iteration #  13 - FCN =   2574.840072855 Edm =  0.000232446 NCalls =    302\n",
      "Minuit2Minimizer : Valid minimum - status = 0\n",
      "FVAL  = 2574.84007285512462\n",
      "Edm   = 0.000232445716272571164\n",
      "Nfcn  = 302\n",
      "a1\t  = 0.974097\t +/-  0.0547946\t(limited)\n",
      "a2\t  = 1.59389\t +/-  0.13435\t(limited)\n",
      "dm\t  = -0.5\t +/-  0.0759483\t(limited)\n",
      "n1\t  = 10.0001\t +/-  1.66554\t(limited)\n",
      "n2\t  = 10.0073\t +/-  32.0308\t(limited)\n",
      "sigma\t  = 2.09309\t +/-  0.0822258\t(limited)\n",
      "[#1] INFO:Fitting -- RooAbsPdf::fitTo(pdf) Calculating sum-of-weights-squared correction matrix for covariance matrix\n",
      "[#1] INFO:Minization -- RooMinimizer::optimizeConst: deactivating const optimization\n",
      "[#1] INFO:InputArguments -- RooAbsData::plotOn(data) INFO: dataset has non-integer weights, auto-selecting SumW2 errors instead of Poisson errors\n",
      "[#1] INFO:Plotting -- RooAbsPdf::plotOn(pdf) p.d.f was fitted in range and no explicit plot,norm range was specified, using fit range as default\n",
      "[#1] INFO:Plotting -- RooAbsPdf::plotOn(pdf) only plotting range 'fit_nll_pdf_data'\n",
      "[#1] INFO:Plotting -- RooAbsPdf::plotOn(pdf) p.d.f. curve is normalized using explicit choice of ranges 'fit_nll_pdf_data'\n",
      "[#0] WARNING:Plotting -- RooHist::makeResisHist(h_data) WARNING: point 25 has zero error, setting residual to zero\n",
      "[#0] WARNING:Plotting -- RooHist::makeResisHist(h_data) WARNING: point 27 has zero error, setting residual to zero\n"
     ]
    },
    {
     "name": "stderr",
     "output_type": "stream",
     "text": [
      "Info in <Minuit2>: Minuit2Minimizer::Hesse : Hesse is valid - matrix is accurate\n",
      "Info in <Minuit2>: Minuit2Minimizer::Hesse : Hesse is valid - matrix is accurate\n",
      "Info in <TCanvas::Print>: pdf file WminusH_Reco.pdf has been created\n"
     ]
    }
   ],
   "source": [
    "FitSignal.makepdf(h_llg, \"WminusH_Reco\")"
   ]
  },
  {
   "cell_type": "code",
   "execution_count": 5,
   "metadata": {
    "scrolled": true
   },
   "outputs": [
    {
     "data": {
      "text/html": [
       "\n",
       "        <iframe\n",
       "            width=\"900\"\n",
       "            height=\"600\"\n",
       "            src=\"WminusH_Reco.pdf\"\n",
       "            frameborder=\"0\"\n",
       "            allowfullscreen\n",
       "        ></iframe>\n",
       "        "
      ],
      "text/plain": [
       "<IPython.lib.display.IFrame at 0x7f9e059ffc50>"
      ]
     },
     "execution_count": 5,
     "metadata": {},
     "output_type": "execute_result"
    }
   ],
   "source": [
    "IFrame(\"WminusH_Reco.pdf\", width=900, height=600)"
   ]
  },
  {
   "cell_type": "code",
   "execution_count": 6,
   "metadata": {
    "scrolled": true
   },
   "outputs": [
    {
     "name": "stdout",
     "output_type": "stream",
     "text": [
      "0.747880101351\n",
      "0.8861090118\n",
      "90.7462442297\n",
      "10.0000097314\n",
      "10.0000339129\n",
      "2.22169180241\n",
      "2998.60817658\n",
      "[#1] INFO:DataHandling -- RooDataHist::adjustBinning(data): fit range of variable CMS_z_Mass expanded to nearest bin boundaries: [70,110] --> [70,110]\n",
      "[#1] INFO:Eval -- RooRealVar::setRange(CMS_z_Mass) new range named 'fit' created with bounds [70,110]\n",
      "[#1] INFO:Fitting -- RooAbsOptTestStatistic::ctor(nll_pdf_data) constructing test statistic for sub-range named fit\n",
      "[#1] INFO:Eval -- RooRealVar::setRange(CMS_z_Mass) new range named 'NormalizationRangeForfit' created with bounds [70,110]\n",
      "[#1] INFO:Eval -- RooRealVar::setRange(CMS_z_Mass) new range named 'fit_nll_pdf_data' created with bounds [70,110]\n",
      "[#1] INFO:Fitting -- RooAbsOptTestStatistic::ctor(nll_pdf_data) fixing interpretation of coefficients of any RooAddPdf to full domain of observables \n",
      "[#1] INFO:Minization -- RooMinimizer::optimizeConst: activating const optimization\n",
      "Minuit2Minimizer: Minimize with max-calls 3000 convergence for edm < 1 strategy 1\n",
      "MnSeedGenerator: for initial parameters FCN = 3093.748611565\n",
      "MnSeedGenerator: Initial state:   - FCN =   3093.748611565 Edm =      126.689 NCalls =     23\n",
      "MnSeedGenerator: Negative G2 found - new state:   - FCN =   3043.007310818 Edm =      68.2564 NCalls =     88\n",
      "VariableMetric: start iterating until Edm is < 0.001\n",
      "VariableMetric: Initial state   - FCN =   3043.007310818 Edm =      68.2564 NCalls =     88\n",
      "VariableMetric: Iteration #   0 - FCN =   3043.007310818 Edm =      68.2564 NCalls =     88\n",
      "VariableMetric: Iteration #   1 - FCN =   3000.237644505 Edm =      1.58606 NCalls =    108\n",
      "VariableMetric: Iteration #   2 - FCN =   2998.995663592 Edm =     0.305393 NCalls =    126\n",
      "VariableMetric: Iteration #   3 - FCN =   2998.784990987 Edm =     0.179796 NCalls =    140\n",
      "VariableMetric: Iteration #   4 - FCN =   2998.613336746 Edm =  0.000475548 NCalls =    154\n",
      "VariableMetric: After Hessian   - FCN =   2998.613336746 Edm =   0.00486018 NCalls =    194\n",
      "VariableMetric: Iteration #   5 - FCN =   2998.613336746 Edm =   0.00486018 NCalls =    194\n",
      "VariableMetric: Iteration #   6 - FCN =   2998.608176579 Edm =  2.57435e-05 NCalls =    208\n",
      "Minuit2Minimizer : Valid minimum - status = 0\n",
      "FVAL  = 2998.60817657883717\n",
      "Edm   = 2.57435000437582083e-05\n",
      "Nfcn  = 208\n",
      "a1\t  = 0.74788\t +/-  0.0770195\t(limited)\n",
      "a2\t  = 0.886109\t +/-  0.0841286\t(limited)\n",
      "dm\t  = -0.253756\t +/-  0.124781\t(limited)\n",
      "n1\t  = 10\t +/-  2.78493\t(limited)\n",
      "n2\t  = 10\t +/-  7.96247\t(limited)\n",
      "sigma\t  = 2.22169\t +/-  0.187421\t(limited)\n",
      "[#1] INFO:Fitting -- RooAbsPdf::fitTo(pdf) Calculating sum-of-weights-squared correction matrix for covariance matrix\n",
      "[#1] INFO:Minization -- RooMinimizer::optimizeConst: deactivating const optimization\n",
      "[#1] INFO:InputArguments -- RooAbsData::plotOn(data) INFO: dataset has non-integer weights, auto-selecting SumW2 errors instead of Poisson errors\n",
      "[#1] INFO:Plotting -- RooAbsPdf::plotOn(pdf) p.d.f was fitted in range and no explicit plot,norm range was specified, using fit range as default\n",
      "[#1] INFO:Plotting -- RooAbsPdf::plotOn(pdf) only plotting range 'fit_nll_pdf_data'\n",
      "[#1] INFO:Plotting -- RooAbsPdf::plotOn(pdf) p.d.f. curve is normalized using explicit choice of ranges 'fit_nll_pdf_data'\n"
     ]
    },
    {
     "name": "stderr",
     "output_type": "stream",
     "text": [
      "Info in <Minuit2>: VariableMetricBuilder: Tolerance is not sufficient, continue the minimization\n",
      "Info in <Minuit2>: Current  Edm is : edm = 0.00486018\n",
      "Info in <Minuit2>: Required Edm is : edmval = 0.001\n",
      "Info in <Minuit2>: Minuit2Minimizer::Hesse : Hesse is valid - matrix is accurate\n",
      "Info in <Minuit2>: Minuit2Minimizer::Hesse : Hesse is valid - matrix is accurate\n",
      "Warning in <TCanvas::Constructor>: Deleting canvas with same name: can\n",
      "Info in <TCanvas::Print>: pdf file WminusH_ll_Reco.pdf has been created\n"
     ]
    }
   ],
   "source": [
    "FitSignal.makepdfZ(h_ll, \"WminusH_ll_Reco\")"
   ]
  },
  {
   "cell_type": "code",
   "execution_count": 7,
   "metadata": {
    "scrolled": true
   },
   "outputs": [
    {
     "data": {
      "text/html": [
       "\n",
       "        <iframe\n",
       "            width=\"900\"\n",
       "            height=\"600\"\n",
       "            src=\"WminusH_ll_Reco.pdf\"\n",
       "            frameborder=\"0\"\n",
       "            allowfullscreen\n",
       "        ></iframe>\n",
       "        "
      ],
      "text/plain": [
       "<IPython.lib.display.IFrame at 0x7f9e05a08590>"
      ]
     },
     "execution_count": 7,
     "metadata": {},
     "output_type": "execute_result"
    }
   ],
   "source": [
    "IFrame(\"WminusH_ll_Reco.pdf\", width=900, height=600)"
   ]
  },
  {
   "cell_type": "code",
   "execution_count": 2,
   "metadata": {},
   "outputs": [],
   "source": [
    "f = ROOT.TFile(\"Reco/WplusH.root\")\n",
    "t = f.Get(\"tree\")\n",
    "entries = 49696\n",
    "xsec = 0.840\n",
    "equi_lumi = entries/xsec\n",
    "lumi = 41500\n",
    "weight = lumi/equi_lumi"
   ]
  },
  {
   "cell_type": "code",
   "execution_count": 3,
   "metadata": {},
   "outputs": [
    {
     "name": "stdout",
     "output_type": "stream",
     "text": [
      "1474.4773376\n",
      "1467.46202993\n"
     ]
    }
   ],
   "source": [
    "h_ll = ROOT.TH1F(\"h_ll\", \"ll_mass\", 100, 50, 150)\n",
    "h_llg = ROOT.TH1F(\"h_llg\", \"llg_mass\", 130, 50, 180)\n",
    "\n",
    "for i in range(0, t.GetEntries()):\n",
    "    t.GetEntry(i)\n",
    "    if not t.HLT_Ele23_Ele12_CaloIdL_TrackIdL_IsoVL:\n",
    "        continue\n",
    "    if t.nll < 1 or t.nphoton < 1:\n",
    "        continue\n",
    "    if all(dr < 0.4 for dr in t.photon_drmin):\n",
    "        continue\n",
    "    if t.ll_charge.size()==1 and t.ll_charge[0]!=0:\n",
    "        continue\n",
    "    if sum(map(bool, t.el_id)) < 2:\n",
    "        continue\n",
    "    if sum(abs(dz) < 0.01 for dz in t.el_dz) < 2:\n",
    "        continue\n",
    "    if sum(abs(dxy) < 0.005 for dxy in t.el_dxy) < 2:\n",
    "        continue\n",
    "        \n",
    "    idll = []\n",
    "    for z in range(t.nll):\n",
    "        x = t.ll_i1[z]\n",
    "        y = t.ll_i2[z]\n",
    "        if (t.el_charge[x]*t.el_charge[y] == -1 and \\\n",
    "            t.el_pt[x] > 25 and t.el_dz[x] < 0.01 and t.el_dxy[x] < 0.005 and bool(t.el_id[x]) and \\\n",
    "            t.el_pt[y] > 15 and t.el_dz[y] < 0.01 and t.el_dxy[y] < 0.005 and bool(t.el_id[y])):\n",
    "            idll.append(z)\n",
    "            break\n",
    "    if len(idll) == 0:\n",
    "        continue\n",
    "    massZ = t.ll_m[idll[0]]\n",
    "    \n",
    "    idllg = []\n",
    "    iph = 0\n",
    "    ph = ROOT.TLorentzVector()\n",
    "    for z in range(t.nllphoton):\n",
    "        if t.llphoton_ill[z]!=idll[0]:\n",
    "            continue\n",
    "        if (bool(t.photon_id[iph]) and t.photon_drmin[iph] > 0.4 and t.photon_pt[iph] > 15):\n",
    "            ph.SetPtEtaPhiM(t.photon_pt[iph], t.photon_eta[iph], t.photon_phi[iph], 0)\n",
    "            idllg.append(z)\n",
    "            break\n",
    "        iph = iph + 1\n",
    "    if len(idllg) == 0:\n",
    "        continue\n",
    "    massH = t.llphoton_m[idllg[0]]\n",
    "        \n",
    "    if (massZ + massH) < 185:\n",
    "        continue\n",
    "    if (ph.E()/massH) < 15/110:\n",
    "        continue\n",
    "    h_ll.Fill(massZ, weight)\n",
    "    h_llg.Fill(massH, weight)\n",
    "\n",
    "print h_ll.Integral()\n",
    "print h_llg.Integral()"
   ]
  },
  {
   "cell_type": "code",
   "execution_count": 4,
   "metadata": {
    "scrolled": true
   },
   "outputs": [
    {
     "name": "stdout",
     "output_type": "stream",
     "text": [
      "0.751710229517\n",
      "1.16656627165\n",
      "124.621102037\n",
      "10.0000405713\n",
      "10.0000326555\n",
      "1.85516388163\n",
      "3701.29239825\n",
      "[#1] INFO:DataHandling -- RooDataHist::adjustBinning(data): fit range of variable CMS_zgamma_Mass expanded to nearest bin boundaries: [110,140] --> [110,140]\n",
      "[#1] INFO:Eval -- RooRealVar::setRange(CMS_zgamma_Mass) new range named 'fit' created with bounds [110,140]\n",
      "[#1] INFO:Fitting -- RooAbsOptTestStatistic::ctor(nll_pdf_data) constructing test statistic for sub-range named fit\n",
      "[#1] INFO:Eval -- RooRealVar::setRange(CMS_zgamma_Mass) new range named 'NormalizationRangeForfit' created with bounds [110,140]\n",
      "[#1] INFO:Eval -- RooRealVar::setRange(CMS_zgamma_Mass) new range named 'fit_nll_pdf_data' created with bounds [110,140]\n",
      "[#1] INFO:Fitting -- RooAbsOptTestStatistic::ctor(nll_pdf_data) fixing interpretation of coefficients of any RooAddPdf to full domain of observables \n",
      "[#1] INFO:Minization -- RooMinimizer::optimizeConst: activating const optimization\n",
      "Minuit2Minimizer: Minimize with max-calls 3000 convergence for edm < 1 strategy 1\n",
      "MnSeedGenerator: for initial parameters FCN = 3771.828011839\n",
      "MnSeedGenerator: Initial state:   - FCN =   3771.828011839 Edm =      54.8622 NCalls =     23\n",
      "MnSeedGenerator: Negative G2 found - new state:   - FCN =   3720.644767384 Edm =      20.2596 NCalls =     65\n",
      "VariableMetric: start iterating until Edm is < 0.001\n",
      "VariableMetric: Initial state   - FCN =   3720.644767384 Edm =      20.2596 NCalls =     65\n",
      "VariableMetric: Iteration #   0 - FCN =   3720.644767384 Edm =      20.2596 NCalls =     65\n",
      "VariableMetric: Iteration #   1 - FCN =     3705.4325643 Edm =     0.647307 NCalls =     85\n",
      "VariableMetric: Iteration #   2 - FCN =   3704.819188131 Edm =     0.205561 NCalls =    104\n",
      "VariableMetric: Iteration #   3 - FCN =   3702.978776548 Edm =     0.599255 NCalls =    124\n",
      "VariableMetric: Iteration #   4 - FCN =   3702.535391228 Edm =     0.069162 NCalls =    147\n",
      "VariableMetric: Iteration #   5 - FCN =   3702.452664329 Edm =     0.103865 NCalls =    166\n",
      "VariableMetric: Iteration #   6 - FCN =   3702.380367842 Edm =    0.0327298 NCalls =    182\n",
      "VariableMetric: Iteration #   7 - FCN =   3702.335778777 Edm =   0.00476504 NCalls =    196\n",
      "VariableMetric: Iteration #   8 - FCN =   3702.183623237 Edm =     0.536722 NCalls =    216\n",
      "VariableMetric: Iteration #   9 - FCN =   3701.934946536 Edm =     0.135808 NCalls =    235\n",
      "VariableMetric: Iteration #  10 - FCN =   3701.891462995 Edm =     0.217911 NCalls =    249\n",
      "VariableMetric: Iteration #  11 - FCN =   3701.514784572 Edm =     0.240426 NCalls =    268\n",
      "VariableMetric: Iteration #  12 - FCN =   3701.303951125 Edm =    0.0118501 NCalls =    283\n",
      "VariableMetric: Iteration #  13 - FCN =   3701.292398245 Edm =  0.000147216 NCalls =    298\n",
      "VariableMetric: After Hessian   - FCN =   3701.292398245 Edm =  0.000146136 NCalls =    338\n",
      "VariableMetric: Iteration #  14 - FCN =   3701.292398245 Edm =  0.000146136 NCalls =    338\n",
      "Minuit2Minimizer : Valid minimum - status = 0\n",
      "FVAL  = 3701.2923982454131\n",
      "Edm   = 0.000146136078054495808\n",
      "Nfcn  = 338\n",
      "a1\t  = 0.75171\t +/-  0.0473172\t(limited)\n",
      "a2\t  = 1.16657\t +/-  0.0757246\t(limited)\n",
      "dm\t  = -0.378898\t +/-  0.078448\t(limited)\n",
      "n1\t  = 10\t +/-  24.6145\t(limited)\n",
      "n2\t  = 10\t +/-  2.64181\t(limited)\n",
      "sigma\t  = 1.85516\t +/-  0.0900671\t(limited)\n",
      "[#1] INFO:Fitting -- RooAbsPdf::fitTo(pdf) Calculating sum-of-weights-squared correction matrix for covariance matrix\n",
      "[#1] INFO:Minization -- RooMinimizer::optimizeConst: deactivating const optimization\n",
      "[#1] INFO:InputArguments -- RooAbsData::plotOn(data) INFO: dataset has non-integer weights, auto-selecting SumW2 errors instead of Poisson errors\n",
      "[#1] INFO:Plotting -- RooAbsPdf::plotOn(pdf) p.d.f was fitted in range and no explicit plot,norm range was specified, using fit range as default\n",
      "[#1] INFO:Plotting -- RooAbsPdf::plotOn(pdf) only plotting range 'fit_nll_pdf_data'\n",
      "[#1] INFO:Plotting -- RooAbsPdf::plotOn(pdf) p.d.f. curve is normalized using explicit choice of ranges 'fit_nll_pdf_data'\n"
     ]
    },
    {
     "name": "stderr",
     "output_type": "stream",
     "text": [
      "Info in <Minuit2>: Minuit2Minimizer::Hesse : Hesse is valid - matrix is accurate\n",
      "Info in <Minuit2>: Minuit2Minimizer::Hesse : Hesse is valid - matrix is accurate\n",
      "Info in <TCanvas::Print>: pdf file WplusH_Reco.pdf has been created\n"
     ]
    }
   ],
   "source": [
    "FitSignal.makepdf(h_llg, \"WplusH_Reco\")"
   ]
  },
  {
   "cell_type": "code",
   "execution_count": 5,
   "metadata": {
    "scrolled": true
   },
   "outputs": [
    {
     "data": {
      "text/html": [
       "\n",
       "        <iframe\n",
       "            width=\"900\"\n",
       "            height=\"600\"\n",
       "            src=\"WplusH_Reco.pdf\"\n",
       "            frameborder=\"0\"\n",
       "            allowfullscreen\n",
       "        ></iframe>\n",
       "        "
      ],
      "text/plain": [
       "<IPython.lib.display.IFrame at 0x7fa9893ccb50>"
      ]
     },
     "execution_count": 5,
     "metadata": {},
     "output_type": "execute_result"
    }
   ],
   "source": [
    "IFrame(\"WplusH_Reco.pdf\", width=900, height=600)"
   ]
  },
  {
   "cell_type": "code",
   "execution_count": 8,
   "metadata": {
    "scrolled": true
   },
   "outputs": [
    {
     "name": "stdout",
     "output_type": "stream",
     "text": [
      "0.849183484459\n",
      "1.03286808113\n",
      "90.5964990538\n",
      "10.0000004158\n",
      "10.2039747625\n",
      "2.49999980063\n",
      "4144.52261892\n",
      "[#1] INFO:DataHandling -- RooDataHist::adjustBinning(data): fit range of variable CMS_z_Mass expanded to nearest bin boundaries: [70,110] --> [70,110]\n",
      "[#1] INFO:Eval -- RooRealVar::setRange(CMS_z_Mass) new range named 'fit' created with bounds [70,110]\n",
      "[#1] INFO:Fitting -- RooAbsOptTestStatistic::ctor(nll_pdf_data) constructing test statistic for sub-range named fit\n",
      "[#1] INFO:Eval -- RooRealVar::setRange(CMS_z_Mass) new range named 'NormalizationRangeForfit' created with bounds [70,110]\n",
      "[#1] INFO:Eval -- RooRealVar::setRange(CMS_z_Mass) new range named 'fit_nll_pdf_data' created with bounds [70,110]\n",
      "[#1] INFO:Fitting -- RooAbsOptTestStatistic::ctor(nll_pdf_data) fixing interpretation of coefficients of any RooAddPdf to full domain of observables \n",
      "[#1] INFO:Minization -- RooMinimizer::optimizeConst: activating const optimization\n",
      "Minuit2Minimizer: Minimize with max-calls 3000 convergence for edm < 1 strategy 1\n",
      "MnSeedGenerator: for initial parameters FCN = 4278.628882637\n",
      "MnSeedGenerator: Initial state:   - FCN =   4278.628882637 Edm =      191.828 NCalls =     23\n",
      "MnSeedGenerator: Negative G2 found - new state:   - FCN =   4207.113175163 Edm =      97.9615 NCalls =    108\n",
      "VariableMetric: start iterating until Edm is < 0.001\n",
      "VariableMetric: Initial state   - FCN =   4207.113175163 Edm =      97.9615 NCalls =    108\n",
      "VariableMetric: Iteration #   0 - FCN =   4207.113175163 Edm =      97.9615 NCalls =    108\n",
      "VariableMetric: Iteration #   1 - FCN =   4147.058140483 Edm =     0.632173 NCalls =    128\n",
      "VariableMetric: Iteration #   2 - FCN =   4146.463794195 Edm =     0.161157 NCalls =    143\n",
      "VariableMetric: Iteration #   3 - FCN =   4145.557361521 Edm =     0.599292 NCalls =    163\n",
      "VariableMetric: Iteration #   4 - FCN =    4144.99430025 Edm =     0.334828 NCalls =    182\n",
      "VariableMetric: Iteration #   5 - FCN =   4144.900900755 Edm =   0.00588066 NCalls =    196\n",
      "VariableMetric: Iteration #   6 - FCN =   4144.875849319 Edm =    0.0144235 NCalls =    210\n",
      "VariableMetric: Iteration #   7 - FCN =   4144.718718556 Edm =    0.0126096 NCalls =    232\n",
      "VariableMetric: Iteration #   8 - FCN =    4144.68646423 Edm =   0.00765385 NCalls =    246\n",
      "VariableMetric: Iteration #   9 - FCN =   4144.637699552 Edm =    0.0359486 NCalls =    267\n",
      "VariableMetric: Iteration #  10 - FCN =   4144.610053399 Edm =    0.0560496 NCalls =    282\n",
      "VariableMetric: Iteration #  11 - FCN =   4144.584929077 Edm =    0.0299405 NCalls =    297\n",
      "VariableMetric: Iteration #  12 - FCN =    4144.56010645 Edm =    0.0204619 NCalls =    311\n",
      "VariableMetric: Iteration #  13 - FCN =   4144.527076477 Edm =   0.00130638 NCalls =    330\n",
      "VariableMetric: Iteration #  14 - FCN =   4144.523291741 Edm =  0.000408247 NCalls =    346\n",
      "VariableMetric: After Hessian   - FCN =   4144.523291741 Edm =   0.00390157 NCalls =    388\n",
      "VariableMetric: Iteration #  15 - FCN =   4144.523291741 Edm =   0.00390157 NCalls =    388\n",
      "VariableMetric: Iteration #  16 - FCN =   4144.523201026 Edm =   0.00799963 NCalls =    405\n",
      "VariableMetric: Iteration #  17 - FCN =   4144.522678519 Edm =  1.84845e-05 NCalls =    419\n",
      "VariableMetric: Iteration #  18 - FCN =   4144.522678519 Edm =  1.84845e-05 NCalls =    430\n",
      "VariableMetric: After Hessian   - FCN =   4144.522678519 Edm =   0.00121935 NCalls =    478\n",
      "VariableMetric: Iteration #  19 - FCN =   4144.522678519 Edm =   0.00121935 NCalls =    478\n",
      "VariableMetric: Iteration #  20 - FCN =   4144.522636295 Edm =    0.0109162 NCalls =    494\n",
      "VariableMetric: Iteration #  21 - FCN =   4144.522618922 Edm =  4.73011e-05 NCalls =    508\n",
      "VariableMetric: Iteration #  22 - FCN =   4144.522618922 Edm =  4.73011e-05 NCalls =    519\n",
      "VariableMetric: After Hessian   - FCN =   4144.522618922 Edm =  0.000136151 NCalls =    565\n",
      "VariableMetric: Iteration #  23 - FCN =   4144.522618922 Edm =  0.000136151 NCalls =    565\n",
      "Minuit2Minimizer : Valid minimum - status = 1\n",
      "FVAL  = 4144.52261892211209\n",
      "Edm   = 0.000136150867520484244\n",
      "Nfcn  = 565\n",
      "a1\t  = 0.849183\t +/-  0.0337209\t(limited)\n",
      "a2\t  = 1.03287\t +/-  0.594539\t(limited)\n",
      "dm\t  = -0.403501\t +/-  0.416377\t(limited)\n",
      "n1\t  = 10\t +/-  2.91055\t(limited)\n",
      "n2\t  = 10.204\t +/-  39.8141\t(limited)\n",
      "sigma\t  = 2.5\t +/-  0.276744\t(limited)\n",
      "[#1] INFO:Fitting -- RooAbsPdf::fitTo(pdf) Calculating sum-of-weights-squared correction matrix for covariance matrix\n",
      "[#1] INFO:Minization -- RooMinimizer::optimizeConst: deactivating const optimization\n",
      "[#1] INFO:InputArguments -- RooAbsData::plotOn(data) INFO: dataset has non-integer weights, auto-selecting SumW2 errors instead of Poisson errors\n",
      "[#1] INFO:Plotting -- RooAbsPdf::plotOn(pdf) p.d.f was fitted in range and no explicit plot,norm range was specified, using fit range as default\n",
      "[#1] INFO:Plotting -- RooAbsPdf::plotOn(pdf) only plotting range 'fit_nll_pdf_data'\n",
      "[#1] INFO:Plotting -- RooAbsPdf::plotOn(pdf) p.d.f. curve is normalized using explicit choice of ranges 'fit_nll_pdf_data'\n",
      "[#0] WARNING:Plotting -- RooHist::makeResisHist(h_data) WARNING: point 0 has zero error, setting residual to zero\n",
      "[#0] WARNING:Plotting -- RooHist::makeResisHist(h_data) WARNING: point 38 has zero error, setting residual to zero\n",
      "[#0] WARNING:Plotting -- RooHist::makeResisHist(h_data) WARNING: point 39 has zero error, setting residual to zero\n"
     ]
    },
    {
     "name": "stderr",
     "output_type": "stream",
     "text": [
      "Info in <Minuit2>: matrix forced pos-def by adding to diagonal : padd = 0.098832\n",
      "Info in <Minuit2>: MnHesse: matrix was forced pos. def. \n",
      "Info in <Minuit2>: VariableMetricBuilder: Tolerance is not sufficient, continue the minimization\n",
      "Info in <Minuit2>: Current  Edm is : edm = 0.00390157\n",
      "Info in <Minuit2>: Required Edm is : edmval = 0.001\n",
      "Info in <Minuit2>: VariableMetricBuilder: no improvement in line search\n",
      "Info in <Minuit2>: matrix forced pos-def by adding to diagonal : padd = 0.143084\n",
      "Info in <Minuit2>: MnHesse: matrix was forced pos. def. \n",
      "Info in <Minuit2>: VariableMetricBuilder: Tolerance is not sufficient, continue the minimization\n",
      "Info in <Minuit2>: Current  Edm is : edm = 0.00121935\n",
      "Info in <Minuit2>: Required Edm is : edmval = 0.001\n",
      "Info in <Minuit2>: VariableMetricBuilder: no improvement in line search\n",
      "Info in <Minuit2>: matrix forced pos-def by adding to diagonal : padd = 0.066874\n",
      "Info in <Minuit2>: MnHesse: matrix was forced pos. def. \n",
      "Info in <Minuit2>: Minuit2Minimizer::Minimize : Covar was made pos def\n",
      "Info in <Minuit2>: Minuit2Minimizer::Hesse : Hesse is valid - matrix is accurate\n",
      "Info in <Minuit2>: Minuit2Minimizer::Hesse : Hesse is valid - matrix is accurate\n",
      "Warning in <TCanvas::Constructor>: Deleting canvas with same name: can\n",
      "Info in <TCanvas::Print>: pdf file WplusH_ll_Reco.pdf has been created\n"
     ]
    }
   ],
   "source": [
    "FitSignal.makepdfZ(h_ll, \"WplusH_ll_Reco\")"
   ]
  },
  {
   "cell_type": "code",
   "execution_count": 9,
   "metadata": {},
   "outputs": [
    {
     "data": {
      "text/html": [
       "\n",
       "        <iframe\n",
       "            width=\"900\"\n",
       "            height=\"600\"\n",
       "            src=\"WplusH_ll_Reco.pdf\"\n",
       "            frameborder=\"0\"\n",
       "            allowfullscreen\n",
       "        ></iframe>\n",
       "        "
      ],
      "text/plain": [
       "<IPython.lib.display.IFrame at 0x7fa9893d0410>"
      ]
     },
     "execution_count": 9,
     "metadata": {},
     "output_type": "execute_result"
    }
   ],
   "source": [
    "IFrame(\"WplusH_ll_Reco.pdf\", width=900, height=600)"
   ]
  },
  {
   "cell_type": "code",
   "execution_count": 2,
   "metadata": {},
   "outputs": [],
   "source": [
    "f = ROOT.TFile(\"Reco/ZH.root\")\n",
    "t = f.Get(\"tree\")\n",
    "entries = 49800\n",
    "xsec = 0.884\n",
    "equi_lumi = entries/xsec\n",
    "lumi = 41500\n",
    "weight = lumi/equi_lumi"
   ]
  },
  {
   "cell_type": "code",
   "execution_count": 3,
   "metadata": {
    "scrolled": true
   },
   "outputs": [
    {
     "name": "stdout",
     "output_type": "stream",
     "text": [
      "1751.79092312\n",
      "1698.75065327\n"
     ]
    }
   ],
   "source": [
    "h_ll = ROOT.TH1F(\"h_ll\", \"ll_mass\", 100, 50, 150)\n",
    "h_llg = ROOT.TH1F(\"h_llg\", \"llg_mass\", 130, 50, 180)\n",
    "\n",
    "for i in range(0, t.GetEntries()):\n",
    "    t.GetEntry(i)\n",
    "    if not t.HLT_Ele23_Ele12_CaloIdL_TrackIdL_IsoVL:\n",
    "        continue\n",
    "    if t.nll < 1 or t.nphoton < 1:\n",
    "        continue\n",
    "    if all(dr < 0.4 for dr in t.photon_drmin):\n",
    "        continue\n",
    "    if t.ll_charge.size()==1 and t.ll_charge[0]!=0:\n",
    "        continue\n",
    "    if sum(map(bool, t.el_id)) < 2:\n",
    "        continue\n",
    "    if sum(abs(dz) < 0.01 for dz in t.el_dz) < 2:\n",
    "        continue\n",
    "    if sum(abs(dxy) < 0.005 for dxy in t.el_dxy) < 2:\n",
    "        continue\n",
    "        \n",
    "    idll = []\n",
    "    for z in range(t.nll):\n",
    "        x = t.ll_i1[z]\n",
    "        y = t.ll_i2[z]\n",
    "        if (t.el_charge[x]*t.el_charge[y] == -1 and \\\n",
    "            t.el_pt[x] > 25 and t.el_dz[x] < 0.01 and t.el_dxy[x] < 0.005 and bool(t.el_id[x]) and \\\n",
    "            t.el_pt[y] > 15 and t.el_dz[y] < 0.01 and t.el_dxy[y] < 0.005 and bool(t.el_id[y])):\n",
    "            idll.append(z)\n",
    "            break\n",
    "    if len(idll) == 0:\n",
    "        continue\n",
    "    massZ = t.ll_m[idll[0]]\n",
    "    \n",
    "    idllg = []\n",
    "    iph = 0\n",
    "    ph = ROOT.TLorentzVector()\n",
    "    for z in range(t.nllphoton):\n",
    "        if t.llphoton_ill[z]!=idll[0]:\n",
    "            continue\n",
    "        if (bool(t.photon_id[iph]) and t.photon_drmin[iph] > 0.4 and t.photon_pt[iph] > 15):\n",
    "            ph.SetPtEtaPhiM(t.photon_pt[iph], t.photon_eta[iph], t.photon_phi[iph], 0)\n",
    "            idllg.append(z)\n",
    "            break\n",
    "        iph = iph + 1\n",
    "    if len(idllg) == 0:\n",
    "        continue\n",
    "    massH = t.llphoton_m[idllg[0]]\n",
    "        \n",
    "    if (massZ + massH) < 185:\n",
    "        continue\n",
    "    if (ph.E()/massH) < 15/110:\n",
    "        continue\n",
    "    h_ll.Fill(massZ, weight)\n",
    "    h_llg.Fill(massH, weight)\n",
    "\n",
    "print h_ll.Integral()\n",
    "print h_llg.Integral()"
   ]
  },
  {
   "cell_type": "code",
   "execution_count": 4,
   "metadata": {
    "scrolled": true
   },
   "outputs": [
    {
     "name": "stdout",
     "output_type": "stream",
     "text": [
      "0.819503824948\n",
      "1.14905390921\n",
      "124.500000028\n",
      "10.0000047281\n",
      "10.0000000403\n",
      "1.92436367657\n",
      "4179.42106808\n",
      "[#1] INFO:DataHandling -- RooDataHist::adjustBinning(data): fit range of variable CMS_zgamma_Mass expanded to nearest bin boundaries: [110,140] --> [110,140]\n",
      "[#1] INFO:Eval -- RooRealVar::setRange(CMS_zgamma_Mass) new range named 'fit' created with bounds [110,140]\n",
      "[#1] INFO:Fitting -- RooAbsOptTestStatistic::ctor(nll_pdf_data) constructing test statistic for sub-range named fit\n",
      "[#1] INFO:Eval -- RooRealVar::setRange(CMS_zgamma_Mass) new range named 'NormalizationRangeForfit' created with bounds [110,140]\n",
      "[#1] INFO:Eval -- RooRealVar::setRange(CMS_zgamma_Mass) new range named 'fit_nll_pdf_data' created with bounds [110,140]\n",
      "[#1] INFO:Fitting -- RooAbsOptTestStatistic::ctor(nll_pdf_data) fixing interpretation of coefficients of any RooAddPdf to full domain of observables \n",
      "[#1] INFO:Minization -- RooMinimizer::optimizeConst: activating const optimization\n",
      "Minuit2Minimizer: Minimize with max-calls 3000 convergence for edm < 1 strategy 1\n",
      "MnSeedGenerator: for initial parameters FCN = 4255.774104231\n",
      "MnSeedGenerator: Initial state:   - FCN =   4255.774104231 Edm =      45.2555 NCalls =     23\n",
      "MnSeedGenerator: Negative G2 found - new state:   - FCN =   4195.962888501 Edm =      14.4094 NCalls =     66\n",
      "VariableMetric: start iterating until Edm is < 0.001\n",
      "VariableMetric: Initial state   - FCN =   4195.962888501 Edm =      14.4094 NCalls =     66\n",
      "VariableMetric: Iteration #   0 - FCN =   4195.962888501 Edm =      14.4094 NCalls =     66\n",
      "VariableMetric: Iteration #   1 - FCN =   4184.802481178 Edm =       2.4631 NCalls =     84\n",
      "VariableMetric: Iteration #   2 - FCN =   4181.556155928 Edm =      2.91063 NCalls =    101\n",
      "VariableMetric: Iteration #   3 - FCN =    4179.67254294 Edm =     0.284631 NCalls =    119\n",
      "VariableMetric: Iteration #   4 - FCN =   4179.588038324 Edm =    0.0717106 NCalls =    133\n",
      "VariableMetric: Iteration #   5 - FCN =    4179.52815693 Edm =    0.0261752 NCalls =    147\n",
      "VariableMetric: Iteration #   6 - FCN =   4179.488903997 Edm =    0.0226704 NCalls =    161\n",
      "VariableMetric: Iteration #   7 - FCN =    4179.42187929 Edm =  0.000801602 NCalls =    176\n",
      "VariableMetric: Iteration #   8 - FCN =   4179.421068078 Edm =  6.03756e-07 NCalls =    190\n",
      "VariableMetric: After Hessian   - FCN =   4179.421068078 Edm =  1.38972e-06 NCalls =    236\n",
      "VariableMetric: Iteration #   9 - FCN =   4179.421068078 Edm =  1.38972e-06 NCalls =    236\n",
      "Minuit2Minimizer : Valid minimum - status = 0\n",
      "FVAL  = 4179.42106807752953\n",
      "Edm   = 1.38971524962651168e-06\n",
      "Nfcn  = 236\n",
      "a1\t  = 0.819504\t +/-  0.0508323\t(limited)\n",
      "a2\t  = 1.14905\t +/-  0.0707319\t(limited)\n",
      "dm\t  = -0.5\t +/-  0.431138\t(limited)\n",
      "n1\t  = 10\t +/-  2.44718\t(limited)\n",
      "n2\t  = 10\t +/-  0.958124\t(limited)\n",
      "sigma\t  = 1.92436\t +/-  0.0914805\t(limited)\n",
      "[#1] INFO:Fitting -- RooAbsPdf::fitTo(pdf) Calculating sum-of-weights-squared correction matrix for covariance matrix\n",
      "[#1] INFO:Minization -- RooMinimizer::optimizeConst: deactivating const optimization\n",
      "[#1] INFO:InputArguments -- RooAbsData::plotOn(data) INFO: dataset has non-integer weights, auto-selecting SumW2 errors instead of Poisson errors\n",
      "[#1] INFO:Plotting -- RooAbsPdf::plotOn(pdf) p.d.f was fitted in range and no explicit plot,norm range was specified, using fit range as default\n",
      "[#1] INFO:Plotting -- RooAbsPdf::plotOn(pdf) only plotting range 'fit_nll_pdf_data'\n",
      "[#1] INFO:Plotting -- RooAbsPdf::plotOn(pdf) p.d.f. curve is normalized using explicit choice of ranges 'fit_nll_pdf_data'\n"
     ]
    },
    {
     "name": "stderr",
     "output_type": "stream",
     "text": [
      "Info in <Minuit2>: Minuit2Minimizer::Hesse : Hesse is valid - matrix is accurate\n",
      "Info in <Minuit2>: Minuit2Minimizer::Hesse : Hesse is valid - matrix is accurate\n",
      "Info in <TCanvas::Print>: pdf file ZH_Reco.pdf has been created\n"
     ]
    }
   ],
   "source": [
    "FitSignal.makepdf(h_llg, \"ZH_Reco\")"
   ]
  },
  {
   "cell_type": "code",
   "execution_count": 5,
   "metadata": {
    "scrolled": true
   },
   "outputs": [
    {
     "data": {
      "text/html": [
       "\n",
       "        <iframe\n",
       "            width=\"900\"\n",
       "            height=\"600\"\n",
       "            src=\"ZH_Reco.pdf\"\n",
       "            frameborder=\"0\"\n",
       "            allowfullscreen\n",
       "        ></iframe>\n",
       "        "
      ],
      "text/plain": [
       "<IPython.lib.display.IFrame at 0x7fd524075b90>"
      ]
     },
     "execution_count": 5,
     "metadata": {},
     "output_type": "execute_result"
    }
   ],
   "source": [
    "IFrame(\"ZH_Reco.pdf\", width=900, height=600)"
   ]
  },
  {
   "cell_type": "code",
   "execution_count": 8,
   "metadata": {
    "scrolled": true
   },
   "outputs": [
    {
     "name": "stdout",
     "output_type": "stream",
     "text": [
      "0.748329388647\n",
      "0.896816382522\n",
      "90.7820827488\n",
      "10.0000280049\n",
      "10.001573799\n",
      "2.10588435989\n",
      "4869.4584399\n",
      "[#1] INFO:DataHandling -- RooDataHist::adjustBinning(data): fit range of variable CMS_z_Mass expanded to nearest bin boundaries: [70,110] --> [70,110]\n",
      "[#1] INFO:Eval -- RooRealVar::setRange(CMS_z_Mass) new range named 'fit' created with bounds [70,110]\n",
      "[#1] INFO:Fitting -- RooAbsOptTestStatistic::ctor(nll_pdf_data) constructing test statistic for sub-range named fit\n",
      "[#1] INFO:Eval -- RooRealVar::setRange(CMS_z_Mass) new range named 'NormalizationRangeForfit' created with bounds [70,110]\n",
      "[#1] INFO:Eval -- RooRealVar::setRange(CMS_z_Mass) new range named 'fit_nll_pdf_data' created with bounds [70,110]\n",
      "[#1] INFO:Fitting -- RooAbsOptTestStatistic::ctor(nll_pdf_data) fixing interpretation of coefficients of any RooAddPdf to full domain of observables \n",
      "[#1] INFO:Minization -- RooMinimizer::optimizeConst: activating const optimization\n",
      "Minuit2Minimizer: Minimize with max-calls 3000 convergence for edm < 1 strategy 1\n",
      "MnSeedGenerator: for initial parameters FCN = 4991.769322315\n",
      "MnSeedGenerator: Initial state:   - FCN =   4991.769322315 Edm =      135.005 NCalls =     23\n",
      "MnSeedGenerator: Negative G2 found - new state:   - FCN =   4922.742699464 Edm =      85.0383 NCalls =     84\n",
      "VariableMetric: start iterating until Edm is < 0.001\n",
      "VariableMetric: Initial state   - FCN =   4922.742699464 Edm =      85.0383 NCalls =     84\n",
      "VariableMetric: Iteration #   0 - FCN =   4922.742699464 Edm =      85.0383 NCalls =     84\n",
      "VariableMetric: Iteration #   1 - FCN =   4871.509406334 Edm =      1.59136 NCalls =    104\n",
      "VariableMetric: Iteration #   2 - FCN =   4870.130010796 Edm =     0.522106 NCalls =    123\n",
      "VariableMetric: Iteration #   3 - FCN =   4869.616843931 Edm =     0.032376 NCalls =    139\n",
      "VariableMetric: Iteration #   4 - FCN =   4869.584886046 Edm =   0.00825156 NCalls =    152\n",
      "VariableMetric: Iteration #   5 - FCN =   4869.531244143 Edm =     0.029456 NCalls =    167\n",
      "VariableMetric: Iteration #   6 - FCN =   4869.459717575 Edm =    0.0011152 NCalls =    181\n",
      "VariableMetric: Iteration #   7 - FCN =   4869.458439902 Edm =   0.00029216 NCalls =    195\n",
      "VariableMetric: After Hessian   - FCN =   4869.458439902 Edm =  0.000711111 NCalls =    235\n",
      "VariableMetric: Iteration #   8 - FCN =   4869.458439902 Edm =  0.000711111 NCalls =    235\n",
      "Minuit2Minimizer : Valid minimum - status = 0\n",
      "FVAL  = 4869.45843990197045\n",
      "Edm   = 0.000711111015653702566\n",
      "Nfcn  = 235\n",
      "a1\t  = 0.748329\t +/-  0.0485294\t(limited)\n",
      "a2\t  = 0.896816\t +/-  0.0583068\t(limited)\n",
      "dm\t  = -0.217917\t +/-  0.0866456\t(limited)\n",
      "n1\t  = 10\t +/-  1.49767\t(limited)\n",
      "n2\t  = 10.0016\t +/-  1.36927\t(limited)\n",
      "sigma\t  = 2.10588\t +/-  0.116225\t(limited)\n",
      "[#1] INFO:Fitting -- RooAbsPdf::fitTo(pdf) Calculating sum-of-weights-squared correction matrix for covariance matrix\n",
      "[#1] INFO:Minization -- RooMinimizer::optimizeConst: deactivating const optimization\n",
      "[#1] INFO:InputArguments -- RooAbsData::plotOn(data) INFO: dataset has non-integer weights, auto-selecting SumW2 errors instead of Poisson errors\n",
      "[#1] INFO:Plotting -- RooAbsPdf::plotOn(pdf) p.d.f was fitted in range and no explicit plot,norm range was specified, using fit range as default\n",
      "[#1] INFO:Plotting -- RooAbsPdf::plotOn(pdf) only plotting range 'fit_nll_pdf_data'\n",
      "[#1] INFO:Plotting -- RooAbsPdf::plotOn(pdf) p.d.f. curve is normalized using explicit choice of ranges 'fit_nll_pdf_data'\n"
     ]
    },
    {
     "name": "stderr",
     "output_type": "stream",
     "text": [
      "Info in <Minuit2>: Minuit2Minimizer::Hesse : Hesse is valid - matrix is accurate\n",
      "Info in <Minuit2>: Minuit2Minimizer::Hesse : Hesse is valid - matrix is accurate\n",
      "Warning in <TCanvas::Constructor>: Deleting canvas with same name: can\n",
      "Info in <TCanvas::Print>: pdf file ZH_ll_Reco.pdf has been created\n"
     ]
    }
   ],
   "source": [
    "FitSignal.makepdfZ(h_ll, \"ZH_ll_Reco\")"
   ]
  },
  {
   "cell_type": "code",
   "execution_count": 9,
   "metadata": {},
   "outputs": [
    {
     "data": {
      "text/html": [
       "\n",
       "        <iframe\n",
       "            width=\"900\"\n",
       "            height=\"600\"\n",
       "            src=\"ZH_ll_Reco.pdf\"\n",
       "            frameborder=\"0\"\n",
       "            allowfullscreen\n",
       "        ></iframe>\n",
       "        "
      ],
      "text/plain": [
       "<IPython.lib.display.IFrame at 0x7fd52407b510>"
      ]
     },
     "execution_count": 9,
     "metadata": {},
     "output_type": "execute_result"
    }
   ],
   "source": [
    "IFrame(\"ZH_ll_Reco.pdf\", width=900, height=600)"
   ]
  },
  {
   "cell_type": "code",
   "execution_count": null,
   "metadata": {},
   "outputs": [],
   "source": []
  }
 ],
 "metadata": {
  "kernelspec": {
   "display_name": "Python 2",
   "language": "python",
   "name": "python2"
  },
  "language_info": {
   "codemirror_mode": {
    "name": "ipython",
    "version": 2
   },
   "file_extension": ".py",
   "mimetype": "text/x-python",
   "name": "python",
   "nbconvert_exporter": "python",
   "pygments_lexer": "ipython2",
   "version": "2.7.14+"
  }
 },
 "nbformat": 4,
 "nbformat_minor": 2
}
