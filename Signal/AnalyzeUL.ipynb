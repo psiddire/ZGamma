{
 "cells": [
  {
   "cell_type": "code",
   "execution_count": 1,
   "metadata": {},
   "outputs": [
    {
     "name": "stdout",
     "output_type": "stream",
     "text": [
      "Welcome to JupyROOT 6.12/07\n"
     ]
    }
   ],
   "source": [
    "import ROOT\n",
    "from IPython.display import IFrame\n",
    "import FitSignal"
   ]
  },
  {
   "cell_type": "code",
   "execution_count": 2,
   "metadata": {},
   "outputs": [],
   "source": [
    "f = ROOT.TFile(\"UL/GluGluHToZG.root\")\n",
    "t = f.Get(\"tree\")\n",
    "entries = 400000\n",
    "xsec = 48.58\n",
    "equi_lumi = entries/xsec\n",
    "lumi = 41500\n",
    "weight = lumi/equi_lumi"
   ]
  },
  {
   "cell_type": "code",
   "execution_count": 3,
   "metadata": {
    "scrolled": true
   },
   "outputs": [
    {
     "name": "stdout",
     "output_type": "stream",
     "text": [
      "106921.374804\n",
      "106846.242716\n"
     ]
    }
   ],
   "source": [
    "h_ll = ROOT.TH1F(\"h_ll\", \"ll_mass\", 100, 50, 150)\n",
    "h_llg = ROOT.TH1F(\"h_llg\", \"llg_mass\", 130, 50, 180)\n",
    "\n",
    "for i in range(0, t.GetEntries()):\n",
    "    t.GetEntry(i)\n",
    "    if not t.HLT_Ele23_Ele12_CaloIdL_TrackIdL_IsoVL:\n",
    "        continue\n",
    "    if t.nll < 1 or t.nphoton < 1:\n",
    "        continue\n",
    "    if all(dr < 0.4 for dr in t.photon_drmin):\n",
    "        continue\n",
    "    if t.ll_charge.size()==1 and t.ll_charge[0]!=0:\n",
    "        continue\n",
    "    if sum(map(bool, t.el_id)) < 2:\n",
    "        continue\n",
    "    if sum(abs(dz) < 0.01 for dz in t.el_dz) < 2:\n",
    "        continue\n",
    "    if sum(abs(dxy) < 0.005 for dxy in t.el_dxy) < 2:\n",
    "        continue\n",
    "        \n",
    "    idll = []\n",
    "    for z in range(t.nll):\n",
    "        x = t.ll_i1[z]\n",
    "        y = t.ll_i2[z]\n",
    "        if (t.el_charge[x]*t.el_charge[y] == -1 and \\\n",
    "            t.el_pt[x] > 25 and t.el_dz[x] < 0.01 and t.el_dxy[x] < 0.005 and bool(t.el_id[x]) and \\\n",
    "            t.el_pt[y] > 15 and t.el_dz[y] < 0.01 and t.el_dxy[y] < 0.005 and bool(t.el_id[y])):\n",
    "            idll.append(z)\n",
    "            break\n",
    "    if len(idll) == 0:\n",
    "        continue\n",
    "    massZ = t.ll_m[idll[0]]\n",
    "    \n",
    "    idllg = []\n",
    "    iph = 0\n",
    "    ph = ROOT.TLorentzVector()\n",
    "    for z in range(t.nllphoton):\n",
    "        if t.llphoton_ill[z]!=idll[0]:\n",
    "            continue\n",
    "        if (bool(t.photon_id[iph]) and t.photon_drmin[iph] > 0.4 and t.photon_pt[iph] > 15):\n",
    "            ph.SetPtEtaPhiM(t.photon_pt[iph], t.photon_eta[iph], t.photon_phi[iph], 0)\n",
    "            idllg.append(z)\n",
    "            break\n",
    "        iph = iph + 1\n",
    "    if len(idllg) == 0:\n",
    "        continue\n",
    "    massH = t.llphoton_m[idllg[0]]\n",
    "        \n",
    "    if (massZ + massH) < 185:\n",
    "        continue\n",
    "    if (ph.E()/massH) < 15/110:\n",
    "        continue\n",
    "    h_ll.Fill(massZ, weight)\n",
    "    h_llg.Fill(massH, weight)\n",
    "\n",
    "print h_ll.Integral()\n",
    "print h_llg.Integral()"
   ]
  },
  {
   "cell_type": "code",
   "execution_count": 4,
   "metadata": {
    "scrolled": true
   },
   "outputs": [
    {
     "name": "stdout",
     "output_type": "stream",
     "text": [
      "0.755973819552\n",
      "1.35796213423\n",
      "124.500000003\n",
      "10.0000403855\n",
      "49.9999205672\n",
      "1.69384734305\n",
      "256623.412281\n",
      "[#1] INFO:DataHandling -- RooDataHist::adjustBinning(data): fit range of variable CMS_zgamma_Mass expanded to nearest bin boundaries: [110,140] --> [110,140]\n",
      "[#1] INFO:Eval -- RooRealVar::setRange(CMS_zgamma_Mass) new range named 'fit' created with bounds [110,140]\n",
      "[#1] INFO:Fitting -- RooAbsOptTestStatistic::ctor(nll_pdf_data) constructing test statistic for sub-range named fit\n",
      "[#1] INFO:Eval -- RooRealVar::setRange(CMS_zgamma_Mass) new range named 'NormalizationRangeForfit' created with bounds [110,140]\n",
      "[#1] INFO:Eval -- RooRealVar::setRange(CMS_zgamma_Mass) new range named 'fit_nll_pdf_data' created with bounds [110,140]\n",
      "[#1] INFO:Fitting -- RooAbsOptTestStatistic::ctor(nll_pdf_data) fixing interpretation of coefficients of any RooAddPdf to full domain of observables \n",
      "[#1] INFO:Minization -- RooMinimizer::optimizeConst: activating const optimization\n",
      "Minuit2Minimizer: Minimize with max-calls 3000 convergence for edm < 1 strategy 1\n",
      "MnSeedGenerator: for initial parameters FCN = 266112.6451011\n",
      "MnSeedGenerator: Initial state:   - FCN =   266112.6451011 Edm =      4888.25 NCalls =     27\n",
      "MnSeedGenerator: Negative G2 found - new state:   - FCN =   261025.5279237 Edm =      4299.53 NCalls =     67\n",
      "VariableMetric: start iterating until Edm is < 0.001\n",
      "VariableMetric: Initial state   - FCN =   261025.5279237 Edm =      4299.53 NCalls =     67\n",
      "VariableMetric: Iteration #   0 - FCN =   261025.5279237 Edm =      4299.53 NCalls =     67\n",
      "VariableMetric: Iteration #   1 - FCN =   256963.6585425 Edm =      977.579 NCalls =     89\n",
      "VariableMetric: Iteration #   2 - FCN =   256646.4084612 Edm =       20.815 NCalls =    105\n",
      "VariableMetric: Iteration #   3 - FCN =   256630.2620111 Edm =     0.894996 NCalls =    121\n",
      "VariableMetric: Iteration #   4 - FCN =   256626.8453324 Edm =      1.30182 NCalls =    138\n",
      "VariableMetric: Iteration #   5 - FCN =   256624.3305444 Edm =    0.0299588 NCalls =    152\n",
      "VariableMetric: Iteration #   6 - FCN =   256624.2990605 Edm =   0.00851458 NCalls =    166\n",
      "VariableMetric: Iteration #   7 - FCN =   256623.5694735 Edm =     0.133259 NCalls =    187\n",
      "VariableMetric: Iteration #   8 - FCN =    256623.414054 Edm =   0.00248948 NCalls =    201\n",
      "VariableMetric: Iteration #   9 - FCN =   256623.4122807 Edm =   1.1712e-05 NCalls =    215\n",
      "VariableMetric: After Hessian   - FCN =   256623.4122807 Edm =  0.000115837 NCalls =    265\n",
      "VariableMetric: Iteration #  10 - FCN =   256623.4122807 Edm =  0.000115837 NCalls =    265\n",
      "Minuit2Minimizer : Valid minimum - status = 0\n",
      "FVAL  = 256623.412280709279\n",
      "Edm   = 0.000115837377108809629\n",
      "Nfcn  = 265\n",
      "a1\t  = 0.755974\t +/-  0.00460743\t(limited)\n",
      "a2\t  = 1.35796\t +/-  0.0122057\t(limited)\n",
      "dm\t  = -0.5\t +/-  0.00608313\t(limited)\n",
      "n1\t  = 10\t +/-  0.214735\t(limited)\n",
      "n2\t  = 49.9999\t +/-  4.12921\t(limited)\n",
      "sigma\t  = 1.69385\t +/-  0.00814002\t(limited)\n",
      "[#1] INFO:Fitting -- RooAbsPdf::fitTo(pdf) Calculating sum-of-weights-squared correction matrix for covariance matrix\n",
      "[#1] INFO:Minization -- RooMinimizer::optimizeConst: deactivating const optimization\n",
      "[#1] INFO:InputArguments -- RooAbsData::plotOn(data) INFO: dataset has non-integer weights, auto-selecting SumW2 errors instead of Poisson errors\n",
      "[#1] INFO:Plotting -- RooAbsPdf::plotOn(pdf) p.d.f was fitted in range and no explicit plot,norm range was specified, using fit range as default\n",
      "[#1] INFO:Plotting -- RooAbsPdf::plotOn(pdf) only plotting range 'fit_nll_pdf_data'\n",
      "[#1] INFO:Plotting -- RooAbsPdf::plotOn(pdf) p.d.f. curve is normalized using explicit choice of ranges 'fit_nll_pdf_data'\n",
      "[#0] WARNING:Plotting -- RooHist::makeResisHist(h_data) WARNING: point 28 has zero error, setting residual to zero\n",
      "[#0] WARNING:Plotting -- RooHist::makeResisHist(h_data) WARNING: point 29 has zero error, setting residual to zero\n"
     ]
    },
    {
     "name": "stderr",
     "output_type": "stream",
     "text": [
      "Info in <Minuit2>: Minuit2Minimizer::Hesse : Hesse is valid - matrix is accurate\n",
      "Info in <Minuit2>: Minuit2Minimizer::Hesse : Hesse is valid - matrix is accurate\n",
      "Info in <TCanvas::Print>: pdf file ggH_UL.pdf has been created\n"
     ]
    }
   ],
   "source": [
    "FitSignal.makepdf(h_llg, \"ggH_UL\")"
   ]
  },
  {
   "cell_type": "code",
   "execution_count": 5,
   "metadata": {
    "scrolled": true
   },
   "outputs": [
    {
     "data": {
      "text/html": [
       "\n",
       "        <iframe\n",
       "            width=\"900\"\n",
       "            height=\"600\"\n",
       "            src=\"ggH_UL.pdf\"\n",
       "            frameborder=\"0\"\n",
       "            allowfullscreen\n",
       "        ></iframe>\n",
       "        "
      ],
      "text/plain": [
       "<IPython.lib.display.IFrame at 0x7f1465066bd0>"
      ]
     },
     "execution_count": 5,
     "metadata": {},
     "output_type": "execute_result"
    }
   ],
   "source": [
    "IFrame(\"ggH_UL.pdf\", width=900, height=600)"
   ]
  },
  {
   "cell_type": "code",
   "execution_count": 6,
   "metadata": {
    "scrolled": true
   },
   "outputs": [
    {
     "name": "stdout",
     "output_type": "stream",
     "text": [
      "0.720430396325\n",
      "0.965144731041\n",
      "90.6863423128\n",
      "10.000230198\n",
      "10.0000003397\n",
      "2.10052352676\n",
      "298281.125387\n",
      "[#1] INFO:DataHandling -- RooDataHist::adjustBinning(data): fit range of variable CMS_z_Mass expanded to nearest bin boundaries: [70,110] --> [70,110]\n",
      "[#1] INFO:Eval -- RooRealVar::setRange(CMS_z_Mass) new range named 'fit' created with bounds [70,110]\n",
      "[#1] INFO:Fitting -- RooAbsOptTestStatistic::ctor(nll_pdf_data) constructing test statistic for sub-range named fit\n",
      "[#1] INFO:Eval -- RooRealVar::setRange(CMS_z_Mass) new range named 'NormalizationRangeForfit' created with bounds [70,110]\n",
      "[#1] INFO:Eval -- RooRealVar::setRange(CMS_z_Mass) new range named 'fit_nll_pdf_data' created with bounds [70,110]\n",
      "[#1] INFO:Fitting -- RooAbsOptTestStatistic::ctor(nll_pdf_data) fixing interpretation of coefficients of any RooAddPdf to full domain of observables \n",
      "[#1] INFO:Minization -- RooMinimizer::optimizeConst: activating const optimization\n",
      "Minuit2Minimizer: Minimize with max-calls 3000 convergence for edm < 1 strategy 1\n",
      "MnSeedGenerator: for initial parameters FCN = 306734.5797153\n",
      "MnSeedGenerator: Initial state:   - FCN =   306734.5797153 Edm =      11802.9 NCalls =     25\n",
      "MnSeedGenerator: Negative G2 found - new state:   - FCN =   301658.9716445 Edm =      5086.64 NCalls =     89\n",
      "VariableMetric: start iterating until Edm is < 0.001\n",
      "VariableMetric: Initial state   - FCN =   301658.9716445 Edm =      5086.64 NCalls =     89\n",
      "VariableMetric: Iteration #   0 - FCN =   301658.9716445 Edm =      5086.64 NCalls =     89\n",
      "VariableMetric: Iteration #   1 - FCN =   298393.9836147 Edm =      1.95121 NCalls =    109\n",
      "VariableMetric: Iteration #   2 - FCN =   298391.5273866 Edm =     0.760741 NCalls =    125\n",
      "VariableMetric: Iteration #   3 - FCN =    298386.639878 Edm =      4.34942 NCalls =    142\n",
      "VariableMetric: Iteration #   4 - FCN =   298364.2787035 Edm =      12.0985 NCalls =    158\n",
      "VariableMetric: Iteration #   5 - FCN =   298351.2465895 Edm =      18.0565 NCalls =    175\n",
      "VariableMetric: Iteration #   6 - FCN =   298345.3226182 Edm =      4.42798 NCalls =    189\n",
      "VariableMetric: Iteration #   7 - FCN =   298297.8981126 Edm =      9.98406 NCalls =    213\n",
      "VariableMetric: Iteration #   8 - FCN =   298290.3380142 Edm =      6.96908 NCalls =    227\n",
      "VariableMetric: Iteration #   9 - FCN =   298281.9248404 Edm =     0.796854 NCalls =    241\n",
      "VariableMetric: Iteration #  10 - FCN =   298281.4891038 Edm =     0.230552 NCalls =    255\n",
      "VariableMetric: Iteration #  11 - FCN =   298281.2671203 Edm =    0.0580322 NCalls =    273\n",
      "VariableMetric: Iteration #  12 - FCN =   298281.1443719 Edm =    0.0185367 NCalls =    291\n",
      "VariableMetric: Iteration #  13 - FCN =   298281.1253871 Edm =  4.91701e-05 NCalls =    309\n",
      "VariableMetric: After Hessian   - FCN =   298281.1253871 Edm =   0.00020102 NCalls =    355\n",
      "VariableMetric: Iteration #  14 - FCN =   298281.1253871 Edm =   0.00020102 NCalls =    355\n",
      "Minuit2Minimizer : Valid minimum - status = 0\n",
      "FVAL  = 298281.125387094158\n",
      "Edm   = 0.00020101978575290974\n",
      "Nfcn  = 355\n",
      "a1\t  = 0.72043\t +/-  0.00728173\t(limited)\n",
      "a2\t  = 0.965145\t +/-  0.00779998\t(limited)\n",
      "dm\t  = -0.313658\t +/-  0.0118274\t(limited)\n",
      "n1\t  = 10.0002\t +/-  2.23088\t(limited)\n",
      "n2\t  = 10\t +/-  0.0336619\t(limited)\n",
      "sigma\t  = 2.10052\t +/-  0.0147876\t(limited)\n",
      "[#1] INFO:Fitting -- RooAbsPdf::fitTo(pdf) Calculating sum-of-weights-squared correction matrix for covariance matrix\n",
      "[#1] INFO:Minization -- RooMinimizer::optimizeConst: deactivating const optimization\n",
      "[#1] INFO:InputArguments -- RooAbsData::plotOn(data) INFO: dataset has non-integer weights, auto-selecting SumW2 errors instead of Poisson errors\n",
      "[#1] INFO:Plotting -- RooAbsPdf::plotOn(pdf) p.d.f was fitted in range and no explicit plot,norm range was specified, using fit range as default\n",
      "[#1] INFO:Plotting -- RooAbsPdf::plotOn(pdf) only plotting range 'fit_nll_pdf_data'\n",
      "[#1] INFO:Plotting -- RooAbsPdf::plotOn(pdf) p.d.f. curve is normalized using explicit choice of ranges 'fit_nll_pdf_data'\n"
     ]
    },
    {
     "name": "stderr",
     "output_type": "stream",
     "text": [
      "Info in <Minuit2>: Minuit2Minimizer::Hesse : Hesse is valid - matrix is accurate\n",
      "Info in <Minuit2>: Minuit2Minimizer::Hesse : Hesse is valid - matrix is accurate\n",
      "Warning in <TCanvas::Constructor>: Deleting canvas with same name: can\n",
      "Info in <TCanvas::Print>: pdf file ggH_ll_UL.pdf has been created\n"
     ]
    }
   ],
   "source": [
    "FitSignal.makepdfZ(h_ll, \"ggH_ll_UL\")"
   ]
  },
  {
   "cell_type": "code",
   "execution_count": 2,
   "metadata": {
    "scrolled": true
   },
   "outputs": [
    {
     "data": {
      "text/html": [
       "\n",
       "        <iframe\n",
       "            width=\"900\"\n",
       "            height=\"600\"\n",
       "            src=\"ggH_ll_UL.pdf\"\n",
       "            frameborder=\"0\"\n",
       "            allowfullscreen\n",
       "        ></iframe>\n",
       "        "
      ],
      "text/plain": [
       "<IPython.lib.display.IFrame at 0x7f9c04083e90>"
      ]
     },
     "execution_count": 2,
     "metadata": {},
     "output_type": "execute_result"
    }
   ],
   "source": [
    "IFrame(\"ggH_ll_UL.pdf\", width=900, height=600)"
   ]
  },
  {
   "cell_type": "code",
   "execution_count": 3,
   "metadata": {},
   "outputs": [],
   "source": [
    "f = ROOT.TFile(\"UL/VBFHToZG.root\")\n",
    "t = f.Get(\"tree\")\n",
    "entries = 200000\n",
    "xsec = 3.782\n",
    "equi_lumi = entries/xsec\n",
    "lumi = 41500\n",
    "weight = lumi/equi_lumi"
   ]
  },
  {
   "cell_type": "code",
   "execution_count": 4,
   "metadata": {
    "scrolled": true
   },
   "outputs": [
    {
     "name": "stdout",
     "output_type": "stream",
     "text": [
      "8542.22275519\n",
      "8526.56833315\n"
     ]
    }
   ],
   "source": [
    "h_ll = ROOT.TH1F(\"h_ll\", \"ll_mass\", 100, 50, 150)\n",
    "h_llg = ROOT.TH1F(\"h_llg\", \"llg_mass\", 130, 50, 180)\n",
    "\n",
    "for i in range(0, t.GetEntries()):\n",
    "    t.GetEntry(i)\n",
    "    if not t.HLT_Ele23_Ele12_CaloIdL_TrackIdL_IsoVL:\n",
    "        continue\n",
    "    if t.nll < 1 or t.nphoton < 1:\n",
    "        continue\n",
    "    if all(dr < 0.4 for dr in t.photon_drmin):\n",
    "        continue\n",
    "    if t.ll_charge.size()==1 and t.ll_charge[0]!=0:\n",
    "        continue\n",
    "    if sum(map(bool, t.el_id)) < 2:\n",
    "        continue\n",
    "    if sum(abs(dz) < 0.01 for dz in t.el_dz) < 2:\n",
    "        continue\n",
    "    if sum(abs(dxy) < 0.005 for dxy in t.el_dxy) < 2:\n",
    "        continue\n",
    "        \n",
    "    idll = []\n",
    "    for z in range(t.nll):\n",
    "        x = t.ll_i1[z]\n",
    "        y = t.ll_i2[z]\n",
    "        if (t.el_charge[x]*t.el_charge[y] == -1 and \\\n",
    "            t.el_pt[x] > 25 and t.el_dz[x] < 0.01 and t.el_dxy[x] < 0.005 and bool(t.el_id[x]) and \\\n",
    "            t.el_pt[y] > 15 and t.el_dz[y] < 0.01 and t.el_dxy[y] < 0.005 and bool(t.el_id[y])):\n",
    "            idll.append(z)\n",
    "            break\n",
    "    if len(idll) == 0:\n",
    "        continue\n",
    "    massZ = t.ll_m[idll[0]]\n",
    "    \n",
    "    idllg = []\n",
    "    iph = 0\n",
    "    ph = ROOT.TLorentzVector()\n",
    "    for z in range(t.nllphoton):\n",
    "        if t.llphoton_ill[z]!=idll[0]:\n",
    "            continue\n",
    "        if (bool(t.photon_id[iph]) and t.photon_drmin[iph] > 0.4 and t.photon_pt[iph] > 15):\n",
    "            ph.SetPtEtaPhiM(t.photon_pt[iph], t.photon_eta[iph], t.photon_phi[iph], 0)\n",
    "            idllg.append(z)\n",
    "            break\n",
    "        iph = iph + 1\n",
    "    if len(idllg) == 0:\n",
    "        continue\n",
    "    massH = t.llphoton_m[idllg[0]]\n",
    "        \n",
    "    if (massZ + massH) < 185:\n",
    "        continue\n",
    "    if (ph.E()/massH) < 15/110:\n",
    "        continue\n",
    "    h_ll.Fill(massZ, weight)\n",
    "    h_llg.Fill(massH, weight)\n",
    "\n",
    "print h_ll.Integral()\n",
    "print h_llg.Integral()"
   ]
  },
  {
   "cell_type": "code",
   "execution_count": 5,
   "metadata": {
    "scrolled": true
   },
   "outputs": [
    {
     "name": "stdout",
     "output_type": "stream",
     "text": [
      "0.767291339837\n",
      "1.3529444294\n",
      "124.500000001\n",
      "10.000001344\n",
      "22.7599672173\n",
      "1.65143821688\n",
      "20281.3143202\n",
      "[#1] INFO:DataHandling -- RooDataHist::adjustBinning(data): fit range of variable CMS_zgamma_Mass expanded to nearest bin boundaries: [110,140] --> [110,140]\n",
      "[#1] INFO:Eval -- RooRealVar::setRange(CMS_zgamma_Mass) new range named 'fit' created with bounds [110,140]\n",
      "[#1] INFO:Fitting -- RooAbsOptTestStatistic::ctor(nll_pdf_data) constructing test statistic for sub-range named fit\n",
      "[#1] INFO:Eval -- RooRealVar::setRange(CMS_zgamma_Mass) new range named 'NormalizationRangeForfit' created with bounds [110,140]\n",
      "[#1] INFO:Eval -- RooRealVar::setRange(CMS_zgamma_Mass) new range named 'fit_nll_pdf_data' created with bounds [110,140]\n",
      "[#1] INFO:Fitting -- RooAbsOptTestStatistic::ctor(nll_pdf_data) fixing interpretation of coefficients of any RooAddPdf to full domain of observables \n",
      "[#1] INFO:Minization -- RooMinimizer::optimizeConst: activating const optimization\n",
      "Minuit2Minimizer: Minimize with max-calls 3000 convergence for edm < 1 strategy 1\n",
      "MnSeedGenerator: for initial parameters FCN = 21010.24447572\n",
      "MnSeedGenerator: Initial state:   - FCN =   21010.24447572 Edm =      316.652 NCalls =     25\n",
      "MnSeedGenerator: Negative G2 found - new state:   - FCN =   20622.45469626 Edm =       364.73 NCalls =     65\n",
      "VariableMetric: start iterating until Edm is < 0.001\n",
      "VariableMetric: Initial state   - FCN =   20622.45469626 Edm =       364.73 NCalls =     65\n",
      "VariableMetric: Iteration #   0 - FCN =   20622.45469626 Edm =       364.73 NCalls =     65\n",
      "VariableMetric: Iteration #   1 - FCN =   20346.61885317 Edm =      144.994 NCalls =     87\n",
      "VariableMetric: Iteration #   2 - FCN =   20285.18540123 Edm =      4.09984 NCalls =    107\n",
      "VariableMetric: Iteration #   3 - FCN =   20282.22500699 Edm =     0.118558 NCalls =    121\n",
      "VariableMetric: Iteration #   4 - FCN =   20281.83260779 Edm =     0.110022 NCalls =    138\n",
      "VariableMetric: Iteration #   5 - FCN =   20281.65692463 Edm =   0.00207505 NCalls =    152\n",
      "VariableMetric: Iteration #   6 - FCN =   20281.64933697 Edm =   0.00666188 NCalls =    171\n",
      "VariableMetric: Iteration #   7 - FCN =   20281.49772229 Edm =    0.0710164 NCalls =    192\n",
      "VariableMetric: Iteration #   8 - FCN =   20281.47552523 Edm =    0.0622983 NCalls =    206\n",
      "VariableMetric: Iteration #   9 - FCN =   20281.39968904 Edm =     0.051957 NCalls =    222\n",
      "VariableMetric: Iteration #  10 - FCN =   20281.31895625 Edm =   0.00486874 NCalls =    236\n",
      "VariableMetric: Iteration #  11 - FCN =   20281.31432024 Edm =  6.41745e-05 NCalls =    251\n",
      "VariableMetric: After Hessian   - FCN =   20281.31432024 Edm =  6.21137e-05 NCalls =    295\n",
      "VariableMetric: Iteration #  12 - FCN =   20281.31432024 Edm =  6.21137e-05 NCalls =    295\n",
      "Minuit2Minimizer : Valid minimum - status = 0\n",
      "FVAL  = 20281.3143202442152\n",
      "Edm   = 6.21136581018984224e-05\n",
      "Nfcn  = 295\n",
      "a1\t  = 0.767291\t +/-  0.021115\t(limited)\n",
      "a2\t  = 1.35294\t +/-  0.049675\t(limited)\n",
      "dm\t  = -0.5\t +/-  0.374649\t(limited)\n",
      "n1\t  = 10\t +/-  0.471245\t(limited)\n",
      "n2\t  = 22.76\t +/-  11.0761\t(limited)\n",
      "sigma\t  = 1.65144\t +/-  0.0320265\t(limited)\n",
      "[#1] INFO:Fitting -- RooAbsPdf::fitTo(pdf) Calculating sum-of-weights-squared correction matrix for covariance matrix\n",
      "[#1] INFO:Minization -- RooMinimizer::optimizeConst: deactivating const optimization\n",
      "[#1] INFO:InputArguments -- RooAbsData::plotOn(data) INFO: dataset has non-integer weights, auto-selecting SumW2 errors instead of Poisson errors\n",
      "[#1] INFO:Plotting -- RooAbsPdf::plotOn(pdf) p.d.f was fitted in range and no explicit plot,norm range was specified, using fit range as default\n",
      "[#1] INFO:Plotting -- RooAbsPdf::plotOn(pdf) only plotting range 'fit_nll_pdf_data'\n",
      "[#1] INFO:Plotting -- RooAbsPdf::plotOn(pdf) p.d.f. curve is normalized using explicit choice of ranges 'fit_nll_pdf_data'\n",
      "[#0] WARNING:Plotting -- RooHist::makeResisHist(h_data) WARNING: point 28 has zero error, setting residual to zero\n",
      "[#0] WARNING:Plotting -- RooHist::makeResisHist(h_data) WARNING: point 29 has zero error, setting residual to zero\n"
     ]
    },
    {
     "name": "stderr",
     "output_type": "stream",
     "text": [
      "Info in <Minuit2>: Minuit2Minimizer::Hesse : Hesse is valid - matrix is accurate\n",
      "Info in <Minuit2>: Minuit2Minimizer::Hesse : Hesse is valid - matrix is accurate\n",
      "Info in <TCanvas::Print>: pdf file vbfH_UL.pdf has been created\n"
     ]
    }
   ],
   "source": [
    "FitSignal.makepdf(h_llg, \"vbfH_UL\")"
   ]
  },
  {
   "cell_type": "code",
   "execution_count": 6,
   "metadata": {
    "scrolled": true
   },
   "outputs": [
    {
     "data": {
      "text/html": [
       "\n",
       "        <iframe\n",
       "            width=\"900\"\n",
       "            height=\"600\"\n",
       "            src=\"vbfH_UL.pdf\"\n",
       "            frameborder=\"0\"\n",
       "            allowfullscreen\n",
       "        ></iframe>\n",
       "        "
      ],
      "text/plain": [
       "<IPython.lib.display.IFrame at 0x7f9c040c7410>"
      ]
     },
     "execution_count": 6,
     "metadata": {},
     "output_type": "execute_result"
    }
   ],
   "source": [
    "IFrame(\"vbfH_UL.pdf\", width=900, height=600)"
   ]
  },
  {
   "cell_type": "code",
   "execution_count": 7,
   "metadata": {
    "scrolled": true
   },
   "outputs": [
    {
     "name": "stdout",
     "output_type": "stream",
     "text": [
      "0.724010403931\n",
      "0.963150350312\n",
      "90.7062532458\n",
      "10.0000003461\n",
      "10.000000001\n",
      "2.10627477412\n",
      "23807.384167\n",
      "[#1] INFO:DataHandling -- RooDataHist::adjustBinning(data): fit range of variable CMS_z_Mass expanded to nearest bin boundaries: [70,110] --> [70,110]\n",
      "[#1] INFO:Eval -- RooRealVar::setRange(CMS_z_Mass) new range named 'fit' created with bounds [70,110]\n",
      "[#1] INFO:Fitting -- RooAbsOptTestStatistic::ctor(nll_pdf_data) constructing test statistic for sub-range named fit\n",
      "[#1] INFO:Eval -- RooRealVar::setRange(CMS_z_Mass) new range named 'NormalizationRangeForfit' created with bounds [70,110]\n",
      "[#1] INFO:Eval -- RooRealVar::setRange(CMS_z_Mass) new range named 'fit_nll_pdf_data' created with bounds [70,110]\n",
      "[#1] INFO:Fitting -- RooAbsOptTestStatistic::ctor(nll_pdf_data) fixing interpretation of coefficients of any RooAddPdf to full domain of observables \n",
      "[#1] INFO:Minization -- RooMinimizer::optimizeConst: activating const optimization\n",
      "Minuit2Minimizer: Minimize with max-calls 3000 convergence for edm < 1 strategy 1\n",
      "MnSeedGenerator: for initial parameters FCN = 24485.09027752\n",
      "MnSeedGenerator: Initial state:   - FCN =   24485.09027752 Edm =      924.234 NCalls =     23\n",
      "MnSeedGenerator: Negative G2 found - new state:   - FCN =   24071.71072827 Edm =      390.689 NCalls =     89\n",
      "VariableMetric: start iterating until Edm is < 0.001\n",
      "VariableMetric: Initial state   - FCN =   24071.71072827 Edm =      390.689 NCalls =     89\n",
      "VariableMetric: Iteration #   0 - FCN =   24071.71072827 Edm =      390.689 NCalls =     89\n",
      "VariableMetric: Iteration #   1 - FCN =    23818.5861143 Edm =     0.178152 NCalls =    109\n",
      "VariableMetric: Iteration #   2 - FCN =   23818.32021384 Edm =     0.114499 NCalls =    123\n",
      "VariableMetric: Iteration #   3 - FCN =   23817.67771802 Edm =     0.266245 NCalls =    138\n",
      "VariableMetric: Iteration #   4 - FCN =   23816.87720383 Edm =    0.0717432 NCalls =    154\n",
      "VariableMetric: Iteration #   5 - FCN =   23816.29839551 Edm =     0.628097 NCalls =    173\n",
      "VariableMetric: Iteration #   6 - FCN =   23816.11971116 Edm =     0.508242 NCalls =    190\n",
      "VariableMetric: Iteration #   7 - FCN =   23815.72891363 Edm =     0.557145 NCalls =    207\n",
      "VariableMetric: Iteration #   8 - FCN =   23815.07646545 Edm =      1.06607 NCalls =    225\n",
      "VariableMetric: Iteration #   9 - FCN =   23807.97419767 Edm =     0.801208 NCalls =    252\n",
      "VariableMetric: Iteration #  10 - FCN =   23807.73079339 Edm =     0.282522 NCalls =    266\n",
      "VariableMetric: Iteration #  11 - FCN =   23807.44152853 Edm =    0.0511923 NCalls =    282\n",
      "VariableMetric: Iteration #  12 - FCN =   23807.41126038 Edm =   0.00866664 NCalls =    296\n",
      "VariableMetric: Iteration #  13 - FCN =   23807.38999835 Edm =  0.000863412 NCalls =    310\n",
      "VariableMetric: Iteration #  14 - FCN =   23807.38872397 Edm =  0.000300951 NCalls =    324\n",
      "VariableMetric: After Hessian   - FCN =   23807.38872397 Edm =    0.0046339 NCalls =    366\n",
      "VariableMetric: Iteration #  15 - FCN =   23807.38872397 Edm =    0.0046339 NCalls =    366\n",
      "VariableMetric: Iteration #  16 - FCN =   23807.38416695 Edm =  3.87346e-05 NCalls =    379\n",
      "Minuit2Minimizer : Valid minimum - status = 0\n",
      "FVAL  = 23807.3841669500616\n",
      "Edm   = 3.87346492106583687e-05\n",
      "Nfcn  = 379\n",
      "a1\t  = 0.72401\t +/-  0.0216249\t(limited)\n",
      "a2\t  = 0.96315\t +/-  0.0276153\t(limited)\n",
      "dm\t  = -0.293747\t +/-  0.0411198\t(limited)\n",
      "n1\t  = 10\t +/-  0.489682\t(limited)\n",
      "n2\t  = 10\t +/-  0.28083\t(limited)\n",
      "sigma\t  = 2.10627\t +/-  0.0522187\t(limited)\n",
      "[#1] INFO:Fitting -- RooAbsPdf::fitTo(pdf) Calculating sum-of-weights-squared correction matrix for covariance matrix\n",
      "[#1] INFO:Minization -- RooMinimizer::optimizeConst: deactivating const optimization\n",
      "[#1] INFO:InputArguments -- RooAbsData::plotOn(data) INFO: dataset has non-integer weights, auto-selecting SumW2 errors instead of Poisson errors\n",
      "[#1] INFO:Plotting -- RooAbsPdf::plotOn(pdf) p.d.f was fitted in range and no explicit plot,norm range was specified, using fit range as default\n",
      "[#1] INFO:Plotting -- RooAbsPdf::plotOn(pdf) only plotting range 'fit_nll_pdf_data'\n",
      "[#1] INFO:Plotting -- RooAbsPdf::plotOn(pdf) p.d.f. curve is normalized using explicit choice of ranges 'fit_nll_pdf_data'\n"
     ]
    },
    {
     "name": "stderr",
     "output_type": "stream",
     "text": [
      "Info in <Minuit2>: VariableMetricBuilder: Tolerance is not sufficient, continue the minimization\n",
      "Info in <Minuit2>: Current  Edm is : edm = 0.0046339\n",
      "Info in <Minuit2>: Required Edm is : edmval = 0.001\n",
      "Info in <Minuit2>: Minuit2Minimizer::Hesse : Hesse is valid - matrix is accurate\n",
      "Info in <Minuit2>: Minuit2Minimizer::Hesse : Hesse is valid - matrix is accurate\n",
      "Warning in <TCanvas::Constructor>: Deleting canvas with same name: can\n",
      "Info in <TCanvas::Print>: pdf file vbfH_ll_UL.pdf has been created\n"
     ]
    }
   ],
   "source": [
    "FitSignal.makepdfZ(h_ll, \"vbfH_ll_UL\")"
   ]
  },
  {
   "cell_type": "code",
   "execution_count": 8,
   "metadata": {
    "scrolled": true
   },
   "outputs": [
    {
     "data": {
      "text/html": [
       "\n",
       "        <iframe\n",
       "            width=\"900\"\n",
       "            height=\"600\"\n",
       "            src=\"vbfH_ll_UL.pdf\"\n",
       "            frameborder=\"0\"\n",
       "            allowfullscreen\n",
       "        ></iframe>\n",
       "        "
      ],
      "text/plain": [
       "<IPython.lib.display.IFrame at 0x7f9c040c72d0>"
      ]
     },
     "execution_count": 8,
     "metadata": {},
     "output_type": "execute_result"
    }
   ],
   "source": [
    "IFrame(\"vbfH_ll_UL.pdf\", width=900, height=600)"
   ]
  },
  {
   "cell_type": "code",
   "execution_count": 2,
   "metadata": {},
   "outputs": [],
   "source": [
    "f = ROOT.TFile(\"UL/WminusH.root\")\n",
    "t = f.Get(\"tree\")\n",
    "entries = 299276\n",
    "xsec = 0.533\n",
    "equi_lumi = entries/xsec\n",
    "lumi = 41500\n",
    "weight = lumi/equi_lumi"
   ]
  },
  {
   "cell_type": "code",
   "execution_count": 3,
   "metadata": {
    "scrolled": true
   },
   "outputs": [
    {
     "name": "stdout",
     "output_type": "stream",
     "text": [
      "112.04757639\n",
      "111.456255391\n"
     ]
    }
   ],
   "source": [
    "h_ll = ROOT.TH1F(\"h_ll\", \"ll_mass\", 100, 50, 150)\n",
    "h_llg = ROOT.TH1F(\"h_llg\", \"llg_mass\", 130, 50, 180)\n",
    "\n",
    "for i in range(0, t.GetEntries()):\n",
    "    t.GetEntry(i)\n",
    "    if not t.HLT_Ele23_Ele12_CaloIdL_TrackIdL_IsoVL:\n",
    "        continue\n",
    "    if t.nll < 1 or t.nphoton < 1:\n",
    "        continue\n",
    "    if all(dr < 0.4 for dr in t.photon_drmin):\n",
    "        continue\n",
    "    if t.ll_charge.size()==1 and t.ll_charge[0]!=0:\n",
    "        continue\n",
    "    if sum(map(bool, t.el_id)) < 2:\n",
    "        continue\n",
    "    if sum(abs(dz) < 0.01 for dz in t.el_dz) < 2:\n",
    "        continue\n",
    "    if sum(abs(dxy) < 0.005 for dxy in t.el_dxy) < 2:\n",
    "        continue\n",
    "        \n",
    "    idll = []\n",
    "    for z in range(t.nll):\n",
    "        x = t.ll_i1[z]\n",
    "        y = t.ll_i2[z]\n",
    "        if (t.el_charge[x]*t.el_charge[y] == -1 and \\\n",
    "            t.el_pt[x] > 25 and t.el_dz[x] < 0.01 and t.el_dxy[x] < 0.005 and bool(t.el_id[x]) and \\\n",
    "            t.el_pt[y] > 15 and t.el_dz[y] < 0.01 and t.el_dxy[y] < 0.005 and bool(t.el_id[y])):\n",
    "            idll.append(z)\n",
    "            break\n",
    "    if len(idll) == 0:\n",
    "        continue\n",
    "    massZ = t.ll_m[idll[0]]\n",
    "    \n",
    "    idllg = []\n",
    "    iph = 0\n",
    "    ph = ROOT.TLorentzVector()\n",
    "    for z in range(t.nllphoton):\n",
    "        if t.llphoton_ill[z]!=idll[0]:\n",
    "            continue\n",
    "        if (bool(t.photon_id[iph]) and t.photon_drmin[iph] > 0.4 and t.photon_pt[iph] > 15):\n",
    "            ph.SetPtEtaPhiM(t.photon_pt[iph], t.photon_eta[iph], t.photon_phi[iph], 0)\n",
    "            idllg.append(z)\n",
    "            break\n",
    "        iph = iph + 1\n",
    "    if len(idllg) == 0:\n",
    "        continue\n",
    "    massH = t.llphoton_m[idllg[0]]\n",
    "        \n",
    "    if (massZ + massH) < 185:\n",
    "        continue\n",
    "    if (ph.E()/massH) < 15/110:\n",
    "        continue\n",
    "    h_ll.Fill(massZ, weight)\n",
    "    h_llg.Fill(massH, weight)\n",
    "\n",
    "print h_ll.Integral()\n",
    "print h_llg.Integral()"
   ]
  },
  {
   "cell_type": "code",
   "execution_count": 4,
   "metadata": {
    "scrolled": true
   },
   "outputs": [
    {
     "name": "stdout",
     "output_type": "stream",
     "text": [
      "0.737884185411\n",
      "1.35198129086\n",
      "124.500000007\n",
      "10.0000000282\n",
      "10.0000980246\n",
      "1.7302869103\n",
      "271.918907232\n",
      "[#1] INFO:DataHandling -- RooDataHist::adjustBinning(data): fit range of variable CMS_zgamma_Mass expanded to nearest bin boundaries: [110,140] --> [110,140]\n",
      "[#1] INFO:Eval -- RooRealVar::setRange(CMS_zgamma_Mass) new range named 'fit' created with bounds [110,140]\n",
      "[#1] INFO:Fitting -- RooAbsOptTestStatistic::ctor(nll_pdf_data) constructing test statistic for sub-range named fit\n",
      "[#1] INFO:Eval -- RooRealVar::setRange(CMS_zgamma_Mass) new range named 'NormalizationRangeForfit' created with bounds [110,140]\n",
      "[#1] INFO:Eval -- RooRealVar::setRange(CMS_zgamma_Mass) new range named 'fit_nll_pdf_data' created with bounds [110,140]\n",
      "[#1] INFO:Fitting -- RooAbsOptTestStatistic::ctor(nll_pdf_data) fixing interpretation of coefficients of any RooAddPdf to full domain of observables \n",
      "[#1] INFO:Minization -- RooMinimizer::optimizeConst: activating const optimization\n",
      "Minuit2Minimizer: Minimize with max-calls 3000 convergence for edm < 1 strategy 1\n",
      "MnSeedGenerator: for initial parameters FCN = 280.5252441563\n",
      "MnSeedGenerator: Initial state:   - FCN =   280.5252441563 Edm =       5.3182 NCalls =     21\n",
      "MnSeedGenerator: Negative G2 found - new state:   - FCN =   275.5074163584 Edm =      3.24177 NCalls =     63\n",
      "VariableMetric: start iterating until Edm is < 0.001\n",
      "VariableMetric: Initial state   - FCN =   275.5074163584 Edm =      3.24177 NCalls =     63\n",
      "VariableMetric: Iteration #   0 - FCN =   275.5074163584 Edm =      3.24177 NCalls =     63\n",
      "VariableMetric: Iteration #   1 - FCN =   272.3691012985 Edm =    0.0766506 NCalls =     84\n",
      "VariableMetric: Iteration #   2 - FCN =   272.3182056839 Edm =    0.0318268 NCalls =     98\n",
      "VariableMetric: Iteration #   3 - FCN =   272.2212786885 Edm =    0.0968244 NCalls =    114\n",
      "VariableMetric: Iteration #   4 - FCN =   272.1141181564 Edm =     0.111308 NCalls =    130\n",
      "VariableMetric: Iteration #   5 - FCN =    272.081305803 Edm =    0.0365406 NCalls =    147\n",
      "VariableMetric: Iteration #   6 - FCN =   271.9331488318 Edm =    0.0116131 NCalls =    165\n",
      "VariableMetric: Iteration #   7 - FCN =    271.919226632 Edm =  0.000563511 NCalls =    179\n",
      "VariableMetric: Iteration #   8 - FCN =    271.918907232 Edm =  8.47227e-05 NCalls =    193\n",
      "VariableMetric: After Hessian   - FCN =    271.918907232 Edm =  0.000134072 NCalls =    233\n",
      "VariableMetric: Iteration #   9 - FCN =    271.918907232 Edm =  0.000134072 NCalls =    233\n",
      "Minuit2Minimizer : Valid minimum - status = 0\n",
      "FVAL  = 271.918907232024651\n",
      "Edm   = 0.000134071663687726912\n",
      "Nfcn  = 233\n",
      "a1\t  = 0.737884\t +/-  0.12678\t(limited)\n",
      "a2\t  = 1.35198\t +/-  0.286095\t(limited)\n",
      "dm\t  = -0.5\t +/-  0.355545\t(limited)\n",
      "n1\t  = 10\t +/-  8.4558\t(limited)\n",
      "n2\t  = 10.0001\t +/-  6.80727\t(limited)\n",
      "sigma\t  = 1.73029\t +/-  0.236184\t(limited)\n",
      "[#1] INFO:Fitting -- RooAbsPdf::fitTo(pdf) Calculating sum-of-weights-squared correction matrix for covariance matrix\n",
      "[#1] INFO:Minization -- RooMinimizer::optimizeConst: deactivating const optimization\n",
      "[#1] INFO:InputArguments -- RooAbsData::plotOn(data) INFO: dataset has non-integer weights, auto-selecting SumW2 errors instead of Poisson errors\n",
      "[#1] INFO:Plotting -- RooAbsPdf::plotOn(pdf) p.d.f was fitted in range and no explicit plot,norm range was specified, using fit range as default\n",
      "[#1] INFO:Plotting -- RooAbsPdf::plotOn(pdf) only plotting range 'fit_nll_pdf_data'\n",
      "[#1] INFO:Plotting -- RooAbsPdf::plotOn(pdf) p.d.f. curve is normalized using explicit choice of ranges 'fit_nll_pdf_data'\n",
      "[#0] WARNING:Plotting -- RooHist::makeResisHist(h_data) WARNING: point 24 has zero error, setting residual to zero\n",
      "[#0] WARNING:Plotting -- RooHist::makeResisHist(h_data) WARNING: point 27 has zero error, setting residual to zero\n",
      "[#0] WARNING:Plotting -- RooHist::makeResisHist(h_data) WARNING: point 28 has zero error, setting residual to zero\n"
     ]
    },
    {
     "name": "stderr",
     "output_type": "stream",
     "text": [
      "Info in <Minuit2>: negative or zero diagonal element in covariance matrix : i = 2\n",
      "Info in <Minuit2>: added to diagonal of Error matrix a value : dg = 0.803846\n",
      "Info in <Minuit2>: negative or zero diagonal element in covariance matrix : i = 2\n",
      "Info in <Minuit2>: added to diagonal of Error matrix a value : dg = 0.80399\n",
      "Info in <Minuit2>: Minuit2Minimizer::Hesse : Hesse is valid - matrix is accurate\n",
      "Info in <Minuit2>: negative or zero diagonal element in covariance matrix : i = 2\n",
      "Info in <Minuit2>: added to diagonal of Error matrix a value : dg = 0.522468\n",
      "Info in <Minuit2>: Minuit2Minimizer::Hesse : Hesse is valid - matrix is accurate\n",
      "Info in <TCanvas::Print>: pdf file WminusH_UL.pdf has been created\n"
     ]
    }
   ],
   "source": [
    "FitSignal.makepdf(h_llg, \"WminusH_UL\")"
   ]
  },
  {
   "cell_type": "code",
   "execution_count": 5,
   "metadata": {
    "scrolled": true
   },
   "outputs": [
    {
     "data": {
      "text/html": [
       "\n",
       "        <iframe\n",
       "            width=\"900\"\n",
       "            height=\"600\"\n",
       "            src=\"WminusH_UL.pdf\"\n",
       "            frameborder=\"0\"\n",
       "            allowfullscreen\n",
       "        ></iframe>\n",
       "        "
      ],
      "text/plain": [
       "<IPython.lib.display.IFrame at 0x7efdc48eab10>"
      ]
     },
     "execution_count": 5,
     "metadata": {},
     "output_type": "execute_result"
    }
   ],
   "source": [
    "IFrame(\"WminusH_UL.pdf\", width=900, height=600)"
   ]
  },
  {
   "cell_type": "code",
   "execution_count": 6,
   "metadata": {
    "scrolled": true
   },
   "outputs": [
    {
     "name": "stdout",
     "output_type": "stream",
     "text": [
      "0.751463885316\n",
      "0.944257802191\n",
      "90.5000024765\n",
      "10.0023304594\n",
      "10.0011443271\n",
      "2.17747118497\n",
      "311.069977086\n",
      "[#1] INFO:DataHandling -- RooDataHist::adjustBinning(data): fit range of variable CMS_z_Mass expanded to nearest bin boundaries: [70,110] --> [70,110]\n",
      "[#1] INFO:Eval -- RooRealVar::setRange(CMS_z_Mass) new range named 'fit' created with bounds [70,110]\n",
      "[#1] INFO:Fitting -- RooAbsOptTestStatistic::ctor(nll_pdf_data) constructing test statistic for sub-range named fit\n",
      "[#1] INFO:Eval -- RooRealVar::setRange(CMS_z_Mass) new range named 'NormalizationRangeForfit' created with bounds [70,110]\n",
      "[#1] INFO:Eval -- RooRealVar::setRange(CMS_z_Mass) new range named 'fit_nll_pdf_data' created with bounds [70,110]\n",
      "[#1] INFO:Fitting -- RooAbsOptTestStatistic::ctor(nll_pdf_data) fixing interpretation of coefficients of any RooAddPdf to full domain of observables \n",
      "[#1] INFO:Minization -- RooMinimizer::optimizeConst: activating const optimization\n",
      "Minuit2Minimizer: Minimize with max-calls 3000 convergence for edm < 1 strategy 1\n",
      "MnSeedGenerator: for initial parameters FCN = 320.9637793161\n",
      "MnSeedGenerator: Initial state:   - FCN =   320.9637793161 Edm =       13.391 NCalls =     21\n",
      "MnSeedGenerator: Negative G2 found - new state:   - FCN =   314.8889208711 Edm =      5.87772 NCalls =     88\n",
      "VariableMetric: start iterating until Edm is < 0.001\n",
      "VariableMetric: Initial state   - FCN =   314.8889208711 Edm =      5.87772 NCalls =     88\n",
      "VariableMetric: Iteration #   0 - FCN =   314.8889208711 Edm =      5.87772 NCalls =     88\n",
      "VariableMetric: Iteration #   1 - FCN =   311.0699770862 Edm =  0.000361076 NCalls =    110\n",
      "VariableMetric: After Hessian   - FCN =   311.0699770862 Edm =  0.000826692 NCalls =    150\n",
      "VariableMetric: Iteration #   2 - FCN =   311.0699770862 Edm =  0.000826692 NCalls =    150\n",
      "Minuit2Minimizer : Valid minimum - status = 0\n",
      "FVAL  = 311.069977086153699\n",
      "Edm   = 0.000826691976162085358\n",
      "Nfcn  = 150\n",
      "a1\t  = 0.751464\t +/-  0.152027\t(limited)\n",
      "a2\t  = 0.944258\t +/-  0.189294\t(limited)\n",
      "dm\t  = -0.499998\t +/-  0.356057\t(limited)\n",
      "n1\t  = 10.0023\t +/-  5.73559\t(limited)\n",
      "n2\t  = 10.0011\t +/-  5.58131\t(limited)\n",
      "sigma\t  = 2.17747\t +/-  0.352949\t(limited)\n",
      "[#1] INFO:Fitting -- RooAbsPdf::fitTo(pdf) Calculating sum-of-weights-squared correction matrix for covariance matrix\n",
      "[#1] INFO:Minization -- RooMinimizer::optimizeConst: deactivating const optimization\n",
      "[#1] INFO:InputArguments -- RooAbsData::plotOn(data) INFO: dataset has non-integer weights, auto-selecting SumW2 errors instead of Poisson errors\n",
      "[#1] INFO:Plotting -- RooAbsPdf::plotOn(pdf) p.d.f was fitted in range and no explicit plot,norm range was specified, using fit range as default\n",
      "[#1] INFO:Plotting -- RooAbsPdf::plotOn(pdf) only plotting range 'fit_nll_pdf_data'\n",
      "[#1] INFO:Plotting -- RooAbsPdf::plotOn(pdf) p.d.f. curve is normalized using explicit choice of ranges 'fit_nll_pdf_data'\n"
     ]
    },
    {
     "name": "stderr",
     "output_type": "stream",
     "text": [
      "Info in <Minuit2>: negative or zero diagonal element in covariance matrix : i = 2\n",
      "Info in <Minuit2>: added to diagonal of Error matrix a value : dg = 0.925627\n",
      "Info in <Minuit2>: negative or zero diagonal element in covariance matrix : i = 2\n",
      "Info in <Minuit2>: added to diagonal of Error matrix a value : dg = 0.925697\n",
      "Info in <Minuit2>: Minuit2Minimizer::Hesse : Hesse is valid - matrix is accurate\n",
      "Info in <Minuit2>: negative or zero diagonal element in covariance matrix : i = 2\n",
      "Info in <Minuit2>: added to diagonal of Error matrix a value : dg = 0.531464\n",
      "Info in <Minuit2>: Minuit2Minimizer::Hesse : Hesse is valid - matrix is accurate\n",
      "Warning in <TCanvas::Constructor>: Deleting canvas with same name: can\n",
      "Info in <TCanvas::Print>: pdf file WminusH_ll_UL.pdf has been created\n"
     ]
    }
   ],
   "source": [
    "FitSignal.makepdfZ(h_ll, \"WminusH_ll_UL\")"
   ]
  },
  {
   "cell_type": "code",
   "execution_count": 7,
   "metadata": {
    "scrolled": true
   },
   "outputs": [
    {
     "data": {
      "text/html": [
       "\n",
       "        <iframe\n",
       "            width=\"900\"\n",
       "            height=\"600\"\n",
       "            src=\"WminusH_ll_UL.pdf\"\n",
       "            frameborder=\"0\"\n",
       "            allowfullscreen\n",
       "        ></iframe>\n",
       "        "
      ],
      "text/plain": [
       "<IPython.lib.display.IFrame at 0x7efdc48f0310>"
      ]
     },
     "execution_count": 7,
     "metadata": {},
     "output_type": "execute_result"
    }
   ],
   "source": [
    "IFrame(\"WminusH_ll_UL.pdf\", width=900, height=600)"
   ]
  },
  {
   "cell_type": "code",
   "execution_count": 2,
   "metadata": {},
   "outputs": [],
   "source": [
    "f = ROOT.TFile(\"UL/WplusH.root\")\n",
    "t = f.Get(\"tree\")\n",
    "entries = 299978\n",
    "xsec = 0.840\n",
    "equi_lumi = entries/xsec\n",
    "lumi = 41500\n",
    "weight = lumi/equi_lumi"
   ]
  },
  {
   "cell_type": "code",
   "execution_count": 3,
   "metadata": {},
   "outputs": [
    {
     "name": "stdout",
     "output_type": "stream",
     "text": [
      "150.14131698\n",
      "149.095506996\n"
     ]
    }
   ],
   "source": [
    "h_ll = ROOT.TH1F(\"h_ll\", \"ll_mass\", 100, 50, 150)\n",
    "h_llg = ROOT.TH1F(\"h_llg\", \"llg_mass\", 130, 50, 180)\n",
    "\n",
    "for i in range(0, t.GetEntries()):\n",
    "    t.GetEntry(i)\n",
    "    if not t.HLT_Ele23_Ele12_CaloIdL_TrackIdL_IsoVL:\n",
    "        continue\n",
    "    if t.nll < 1 or t.nphoton < 1:\n",
    "        continue\n",
    "    if all(dr < 0.4 for dr in t.photon_drmin):\n",
    "        continue\n",
    "    if t.ll_charge.size()==1 and t.ll_charge[0]!=0:\n",
    "        continue\n",
    "    if sum(map(bool, t.el_id)) < 2:\n",
    "        continue\n",
    "    if sum(abs(dz) < 0.01 for dz in t.el_dz) < 2:\n",
    "        continue\n",
    "    if sum(abs(dxy) < 0.005 for dxy in t.el_dxy) < 2:\n",
    "        continue\n",
    "        \n",
    "    idll = []\n",
    "    for z in range(t.nll):\n",
    "        x = t.ll_i1[z]\n",
    "        y = t.ll_i2[z]\n",
    "        if (t.el_charge[x]*t.el_charge[y] == -1 and \\\n",
    "            t.el_pt[x] > 25 and t.el_dz[x] < 0.01 and t.el_dxy[x] < 0.005 and bool(t.el_id[x]) and \\\n",
    "            t.el_pt[y] > 15 and t.el_dz[y] < 0.01 and t.el_dxy[y] < 0.005 and bool(t.el_id[y])):\n",
    "            idll.append(z)\n",
    "            break\n",
    "    if len(idll) == 0:\n",
    "        continue\n",
    "    massZ = t.ll_m[idll[0]]\n",
    "    \n",
    "    idllg = []\n",
    "    iph = 0\n",
    "    ph = ROOT.TLorentzVector()\n",
    "    for z in range(t.nllphoton):\n",
    "        if t.llphoton_ill[z]!=idll[0]:\n",
    "            continue\n",
    "        if (bool(t.photon_id[iph]) and t.photon_drmin[iph] > 0.4 and t.photon_pt[iph] > 15):\n",
    "            ph.SetPtEtaPhiM(t.photon_pt[iph], t.photon_eta[iph], t.photon_phi[iph], 0)\n",
    "            idllg.append(z)\n",
    "            break\n",
    "        iph = iph + 1\n",
    "    if len(idllg) == 0:\n",
    "        continue\n",
    "    massH = t.llphoton_m[idllg[0]]\n",
    "        \n",
    "    if (massZ + massH) < 185:\n",
    "        continue\n",
    "    if (ph.E()/massH) < 15/110:\n",
    "        continue\n",
    "    h_ll.Fill(massZ, weight)\n",
    "    h_llg.Fill(massH, weight)\n",
    "\n",
    "print h_ll.Integral()\n",
    "print h_llg.Integral()"
   ]
  },
  {
   "cell_type": "code",
   "execution_count": 4,
   "metadata": {
    "scrolled": true
   },
   "outputs": [
    {
     "name": "stdout",
     "output_type": "stream",
     "text": [
      "0.759921063685\n",
      "1.25173927524\n",
      "124.5\n",
      "10.0022175015\n",
      "10.0003809664\n",
      "1.70678388758\n",
      "359.185865846\n",
      "[#1] INFO:DataHandling -- RooDataHist::adjustBinning(data): fit range of variable CMS_zgamma_Mass expanded to nearest bin boundaries: [110,140] --> [110,140]\n",
      "[#1] INFO:Eval -- RooRealVar::setRange(CMS_zgamma_Mass) new range named 'fit' created with bounds [110,140]\n",
      "[#1] INFO:Fitting -- RooAbsOptTestStatistic::ctor(nll_pdf_data) constructing test statistic for sub-range named fit\n",
      "[#1] INFO:Eval -- RooRealVar::setRange(CMS_zgamma_Mass) new range named 'NormalizationRangeForfit' created with bounds [110,140]\n",
      "[#1] INFO:Eval -- RooRealVar::setRange(CMS_zgamma_Mass) new range named 'fit_nll_pdf_data' created with bounds [110,140]\n",
      "[#1] INFO:Fitting -- RooAbsOptTestStatistic::ctor(nll_pdf_data) fixing interpretation of coefficients of any RooAddPdf to full domain of observables \n",
      "[#1] INFO:Minization -- RooMinimizer::optimizeConst: activating const optimization\n",
      "Minuit2Minimizer: Minimize with max-calls 3000 convergence for edm < 1 strategy 1\n",
      "MnSeedGenerator: for initial parameters FCN = 368.9966145161\n",
      "MnSeedGenerator: Initial state:   - FCN =   368.9966145161 Edm =      4.67094 NCalls =     21\n",
      "MnSeedGenerator: Negative G2 found - new state:   - FCN =   362.7322512281 Edm =      3.14263 NCalls =     62\n",
      "VariableMetric: start iterating until Edm is < 0.001\n",
      "VariableMetric: Initial state   - FCN =   362.7322512281 Edm =      3.14263 NCalls =     62\n",
      "VariableMetric: Iteration #   0 - FCN =   362.7322512281 Edm =      3.14263 NCalls =     62\n",
      "VariableMetric: Iteration #   1 - FCN =   359.8235142634 Edm =      0.13311 NCalls =     82\n",
      "VariableMetric: Iteration #   2 - FCN =   359.7359306156 Edm =    0.0671046 NCalls =     98\n",
      "VariableMetric: Iteration #   3 - FCN =   359.5336753729 Edm =     0.401914 NCalls =    113\n",
      "VariableMetric: Iteration #   4 - FCN =   359.3505129558 Edm =    0.0642541 NCalls =    133\n",
      "VariableMetric: Iteration #   5 - FCN =   359.2830152958 Edm =   0.00708936 NCalls =    146\n",
      "VariableMetric: Iteration #   6 - FCN =   359.2748897228 Edm =   0.00307904 NCalls =    163\n",
      "VariableMetric: Iteration #   7 - FCN =   359.2166763371 Edm =    0.0794653 NCalls =    183\n",
      "VariableMetric: Iteration #   8 - FCN =   359.2134775455 Edm =    0.0187809 NCalls =    197\n",
      "VariableMetric: Iteration #   9 - FCN =   359.1878684915 Edm =   0.00155319 NCalls =    213\n",
      "VariableMetric: Iteration #  10 - FCN =   359.1858658459 Edm =  9.34357e-05 NCalls =    227\n",
      "VariableMetric: After Hessian   - FCN =   359.1858658459 Edm =  0.000113611 NCalls =    267\n",
      "VariableMetric: Iteration #  11 - FCN =   359.1858658459 Edm =  0.000113611 NCalls =    267\n",
      "Minuit2Minimizer : Valid minimum - status = 0\n",
      "FVAL  = 359.185865845918954\n",
      "Edm   = 0.000113611447404085521\n",
      "Nfcn  = 267\n",
      "a1\t  = 0.759921\t +/-  0.117757\t(limited)\n",
      "a2\t  = 1.25174\t +/-  0.224946\t(limited)\n",
      "dm\t  = -0.5\t +/-  0.35554\t(limited)\n",
      "n1\t  = 10.0022\t +/-  7.81717\t(limited)\n",
      "n2\t  = 10.0004\t +/-  7.42882\t(limited)\n",
      "sigma\t  = 1.70678\t +/-  0.210128\t(limited)\n",
      "[#1] INFO:Fitting -- RooAbsPdf::fitTo(pdf) Calculating sum-of-weights-squared correction matrix for covariance matrix\n",
      "[#1] INFO:Minization -- RooMinimizer::optimizeConst: deactivating const optimization\n",
      "[#1] INFO:InputArguments -- RooAbsData::plotOn(data) INFO: dataset has non-integer weights, auto-selecting SumW2 errors instead of Poisson errors\n",
      "[#1] INFO:Plotting -- RooAbsPdf::plotOn(pdf) p.d.f was fitted in range and no explicit plot,norm range was specified, using fit range as default\n",
      "[#1] INFO:Plotting -- RooAbsPdf::plotOn(pdf) only plotting range 'fit_nll_pdf_data'\n",
      "[#1] INFO:Plotting -- RooAbsPdf::plotOn(pdf) p.d.f. curve is normalized using explicit choice of ranges 'fit_nll_pdf_data'\n",
      "[#0] WARNING:Plotting -- RooHist::makeResisHist(h_data) WARNING: point 23 has zero error, setting residual to zero\n",
      "[#0] WARNING:Plotting -- RooHist::makeResisHist(h_data) WARNING: point 25 has zero error, setting residual to zero\n",
      "[#0] WARNING:Plotting -- RooHist::makeResisHist(h_data) WARNING: point 28 has zero error, setting residual to zero\n"
     ]
    },
    {
     "name": "stderr",
     "output_type": "stream",
     "text": [
      "Info in <Minuit2>: negative or zero diagonal element in covariance matrix : i = 2\n",
      "Info in <Minuit2>: added to diagonal of Error matrix a value : dg = 0.625026\n",
      "Info in <Minuit2>: negative or zero diagonal element in covariance matrix : i = 2\n",
      "Info in <Minuit2>: added to diagonal of Error matrix a value : dg = 0.625593\n",
      "Info in <Minuit2>: Minuit2Minimizer::Hesse : Hesse is valid - matrix is accurate\n",
      "Info in <Minuit2>: negative or zero diagonal element in covariance matrix : i = 2\n",
      "Info in <Minuit2>: added to diagonal of Error matrix a value : dg = 0.514588\n",
      "Info in <Minuit2>: Minuit2Minimizer::Hesse : Hesse is valid - matrix is accurate\n",
      "Info in <TCanvas::Print>: pdf file WplusH_UL.pdf has been created\n"
     ]
    }
   ],
   "source": [
    "FitSignal.makepdf(h_llg, \"WplusH_UL\")"
   ]
  },
  {
   "cell_type": "code",
   "execution_count": 5,
   "metadata": {
    "scrolled": true
   },
   "outputs": [
    {
     "data": {
      "text/html": [
       "\n",
       "        <iframe\n",
       "            width=\"900\"\n",
       "            height=\"600\"\n",
       "            src=\"WplusH_UL.pdf\"\n",
       "            frameborder=\"0\"\n",
       "            allowfullscreen\n",
       "        ></iframe>\n",
       "        "
      ],
      "text/plain": [
       "<IPython.lib.display.IFrame at 0x7f5e34210b10>"
      ]
     },
     "execution_count": 5,
     "metadata": {},
     "output_type": "execute_result"
    }
   ],
   "source": [
    "IFrame(\"WplusH_UL.pdf\", width=900, height=600)"
   ]
  },
  {
   "cell_type": "code",
   "execution_count": 8,
   "metadata": {
    "scrolled": true
   },
   "outputs": [
    {
     "name": "stdout",
     "output_type": "stream",
     "text": [
      "0.684885586188\n",
      "0.896205905988\n",
      "90.7918766024\n",
      "10.0001528261\n",
      "10.002293333\n",
      "2.10127109133\n",
      "423.655054552\n",
      "[#1] INFO:DataHandling -- RooDataHist::adjustBinning(data): fit range of variable CMS_z_Mass expanded to nearest bin boundaries: [70,110] --> [70,110]\n",
      "[#1] INFO:Eval -- RooRealVar::setRange(CMS_z_Mass) new range named 'fit' created with bounds [70,110]\n",
      "[#1] INFO:Fitting -- RooAbsOptTestStatistic::ctor(nll_pdf_data) constructing test statistic for sub-range named fit\n",
      "[#1] INFO:Eval -- RooRealVar::setRange(CMS_z_Mass) new range named 'NormalizationRangeForfit' created with bounds [70,110]\n",
      "[#1] INFO:Eval -- RooRealVar::setRange(CMS_z_Mass) new range named 'fit_nll_pdf_data' created with bounds [70,110]\n",
      "[#1] INFO:Fitting -- RooAbsOptTestStatistic::ctor(nll_pdf_data) fixing interpretation of coefficients of any RooAddPdf to full domain of observables \n",
      "[#1] INFO:Minization -- RooMinimizer::optimizeConst: activating const optimization\n",
      "Minuit2Minimizer: Minimize with max-calls 3000 convergence for edm < 1 strategy 1\n",
      "MnSeedGenerator: for initial parameters FCN = 438.3774747286\n",
      "MnSeedGenerator: Initial state:   - FCN =   438.3774747286 Edm =      20.1011 NCalls =     21\n",
      "MnSeedGenerator: Negative G2 found - new state:   - FCN =   430.5864226534 Edm =      11.1127 NCalls =    107\n",
      "VariableMetric: start iterating until Edm is < 0.001\n",
      "VariableMetric: Initial state   - FCN =   430.5864226534 Edm =      11.1127 NCalls =    107\n",
      "VariableMetric: Iteration #   0 - FCN =   430.5864226534 Edm =      11.1127 NCalls =    107\n",
      "VariableMetric: Iteration #   1 - FCN =   423.9790621729 Edm =      0.13429 NCalls =    129\n",
      "VariableMetric: Iteration #   2 - FCN =   423.7799372542 Edm =    0.0727989 NCalls =    151\n",
      "VariableMetric: Iteration #   3 - FCN =   423.7113921914 Edm =     0.040203 NCalls =    167\n",
      "VariableMetric: Iteration #   4 - FCN =   423.6784955249 Edm =   0.00121734 NCalls =    183\n",
      "VariableMetric: Iteration #   5 - FCN =   423.6601104854 Edm =   0.00434003 NCalls =    198\n",
      "VariableMetric: Iteration #   6 - FCN =   423.6550545523 Edm =  0.000205506 NCalls =    212\n",
      "VariableMetric: After Hessian   - FCN =   423.6550545523 Edm =   0.00028552 NCalls =    252\n",
      "VariableMetric: Iteration #   7 - FCN =   423.6550545523 Edm =   0.00028552 NCalls =    252\n",
      "Minuit2Minimizer : Valid minimum - status = 0\n",
      "FVAL  = 423.655054552288846\n",
      "Edm   = 0.000285519775699431095\n",
      "Nfcn  = 252\n",
      "a1\t  = 0.684886\t +/-  0.135905\t(limited)\n",
      "a2\t  = 0.896206\t +/-  0.183673\t(limited)\n",
      "dm\t  = -0.208123\t +/-  0.378166\t(limited)\n",
      "n1\t  = 10.0002\t +/-  24.9551\t(limited)\n",
      "n2\t  = 10.0023\t +/-  26.033\t(limited)\n",
      "sigma\t  = 2.10127\t +/-  0.355069\t(limited)\n",
      "[#1] INFO:Fitting -- RooAbsPdf::fitTo(pdf) Calculating sum-of-weights-squared correction matrix for covariance matrix\n",
      "[#1] INFO:Minization -- RooMinimizer::optimizeConst: deactivating const optimization\n",
      "[#1] INFO:InputArguments -- RooAbsData::plotOn(data) INFO: dataset has non-integer weights, auto-selecting SumW2 errors instead of Poisson errors\n",
      "[#1] INFO:Plotting -- RooAbsPdf::plotOn(pdf) p.d.f was fitted in range and no explicit plot,norm range was specified, using fit range as default\n",
      "[#1] INFO:Plotting -- RooAbsPdf::plotOn(pdf) only plotting range 'fit_nll_pdf_data'\n",
      "[#1] INFO:Plotting -- RooAbsPdf::plotOn(pdf) p.d.f. curve is normalized using explicit choice of ranges 'fit_nll_pdf_data'\n",
      "[#0] WARNING:Plotting -- RooHist::makeResisHist(h_data) WARNING: point 36 has zero error, setting residual to zero\n",
      "[#0] WARNING:Plotting -- RooHist::makeResisHist(h_data) WARNING: point 37 has zero error, setting residual to zero\n"
     ]
    },
    {
     "name": "stderr",
     "output_type": "stream",
     "text": [
      "Info in <Minuit2>: Minuit2Minimizer::Hesse : Hesse is valid - matrix is accurate\n",
      "Info in <Minuit2>: Minuit2Minimizer::Hesse : Hesse is valid - matrix is accurate\n",
      "Warning in <TCanvas::Constructor>: Deleting canvas with same name: can\n",
      "Info in <TCanvas::Print>: pdf file WplusH_ll_UL.pdf has been created\n"
     ]
    }
   ],
   "source": [
    "FitSignal.makepdfZ(h_ll, \"WplusH_ll_UL\")"
   ]
  },
  {
   "cell_type": "code",
   "execution_count": 9,
   "metadata": {},
   "outputs": [
    {
     "data": {
      "text/html": [
       "\n",
       "        <iframe\n",
       "            width=\"900\"\n",
       "            height=\"600\"\n",
       "            src=\"WplusH_ll_UL.pdf\"\n",
       "            frameborder=\"0\"\n",
       "            allowfullscreen\n",
       "        ></iframe>\n",
       "        "
      ],
      "text/plain": [
       "<IPython.lib.display.IFrame at 0x7f5e342162d0>"
      ]
     },
     "execution_count": 9,
     "metadata": {},
     "output_type": "execute_result"
    }
   ],
   "source": [
    "IFrame(\"WplusH_ll_UL.pdf\", width=900, height=600)"
   ]
  },
  {
   "cell_type": "code",
   "execution_count": 2,
   "metadata": {},
   "outputs": [],
   "source": [
    "f = ROOT.TFile(\"UL/ZH.root\")\n",
    "t = f.Get(\"tree\")\n",
    "entries = 297389\n",
    "xsec = 0.884\n",
    "equi_lumi = entries/xsec\n",
    "lumi = 41500\n",
    "weight = lumi/equi_lumi"
   ]
  },
  {
   "cell_type": "code",
   "execution_count": 3,
   "metadata": {
    "scrolled": true
   },
   "outputs": [
    {
     "name": "stdout",
     "output_type": "stream",
     "text": [
      "339.116988465\n",
      "293.967441328\n"
     ]
    }
   ],
   "source": [
    "h_ll = ROOT.TH1F(\"h_ll\", \"ll_mass\", 100, 50, 150)\n",
    "h_llg = ROOT.TH1F(\"h_llg\", \"llg_mass\", 130, 50, 180)\n",
    "\n",
    "for i in range(0, t.GetEntries()):\n",
    "    t.GetEntry(i)\n",
    "    if not t.HLT_Ele23_Ele12_CaloIdL_TrackIdL_IsoVL:\n",
    "        continue\n",
    "    if t.nll < 1 or t.nphoton < 1:\n",
    "        continue\n",
    "    if all(dr < 0.4 for dr in t.photon_drmin):\n",
    "        continue\n",
    "    if t.ll_charge.size()==1 and t.ll_charge[0]!=0:\n",
    "        continue\n",
    "    if sum(map(bool, t.el_id)) < 2:\n",
    "        continue\n",
    "    if sum(abs(dz) < 0.01 for dz in t.el_dz) < 2:\n",
    "        continue\n",
    "    if sum(abs(dxy) < 0.005 for dxy in t.el_dxy) < 2:\n",
    "        continue\n",
    "        \n",
    "    idll = []\n",
    "    for z in range(t.nll):\n",
    "        x = t.ll_i1[z]\n",
    "        y = t.ll_i2[z]\n",
    "        if (t.el_charge[x]*t.el_charge[y] == -1 and \\\n",
    "            t.el_pt[x] > 25 and t.el_dz[x] < 0.01 and t.el_dxy[x] < 0.005 and bool(t.el_id[x]) and \\\n",
    "            t.el_pt[y] > 15 and t.el_dz[y] < 0.01 and t.el_dxy[y] < 0.005 and bool(t.el_id[y])):\n",
    "            idll.append(z)\n",
    "            break\n",
    "    if len(idll) == 0:\n",
    "        continue\n",
    "    massZ = t.ll_m[idll[0]]\n",
    "    \n",
    "    idllg = []\n",
    "    iph = 0\n",
    "    ph = ROOT.TLorentzVector()\n",
    "    for z in range(t.nllphoton):\n",
    "        if t.llphoton_ill[z]!=idll[0]:\n",
    "            continue\n",
    "        if (bool(t.photon_id[iph]) and t.photon_drmin[iph] > 0.4 and t.photon_pt[iph] > 15):\n",
    "            ph.SetPtEtaPhiM(t.photon_pt[iph], t.photon_eta[iph], t.photon_phi[iph], 0)\n",
    "            idllg.append(z)\n",
    "            break\n",
    "        iph = iph + 1\n",
    "    if len(idllg) == 0:\n",
    "        continue\n",
    "    massH = t.llphoton_m[idllg[0]]\n",
    "        \n",
    "    if (massZ + massH) < 185:\n",
    "        continue\n",
    "    if (ph.E()/massH) < 15/110:\n",
    "        continue\n",
    "    h_ll.Fill(massZ, weight)\n",
    "    h_llg.Fill(massH, weight)\n",
    "\n",
    "print h_ll.Integral()\n",
    "print h_llg.Integral()"
   ]
  },
  {
   "cell_type": "code",
   "execution_count": 4,
   "metadata": {
    "scrolled": true
   },
   "outputs": [
    {
     "name": "stdout",
     "output_type": "stream",
     "text": [
      "0.586603785786\n",
      "0.614588923779\n",
      "124.500000141\n",
      "10.000000124\n",
      "10.0000616709\n",
      "1.82436859549\n",
      "661.321209885\n",
      "[#1] INFO:DataHandling -- RooDataHist::adjustBinning(data): fit range of variable CMS_zgamma_Mass expanded to nearest bin boundaries: [110,140] --> [110,140]\n",
      "[#1] INFO:Eval -- RooRealVar::setRange(CMS_zgamma_Mass) new range named 'fit' created with bounds [110,140]\n",
      "[#1] INFO:Fitting -- RooAbsOptTestStatistic::ctor(nll_pdf_data) constructing test statistic for sub-range named fit\n",
      "[#1] INFO:Eval -- RooRealVar::setRange(CMS_zgamma_Mass) new range named 'NormalizationRangeForfit' created with bounds [110,140]\n",
      "[#1] INFO:Eval -- RooRealVar::setRange(CMS_zgamma_Mass) new range named 'fit_nll_pdf_data' created with bounds [110,140]\n",
      "[#1] INFO:Fitting -- RooAbsOptTestStatistic::ctor(nll_pdf_data) fixing interpretation of coefficients of any RooAddPdf to full domain of observables \n",
      "[#1] INFO:Minization -- RooMinimizer::optimizeConst: activating const optimization\n",
      "Minuit2Minimizer: Minimize with max-calls 3000 convergence for edm < 1 strategy 1\n",
      "MnSeedGenerator: for initial parameters FCN = 693.0696076344\n",
      "MnSeedGenerator: Initial state:   - FCN =   693.0696076344 Edm =      36.7554 NCalls =     25\n",
      "MnSeedGenerator: Negative G2 found - new state:   - FCN =   676.4177866656 Edm =      20.0872 NCalls =     89\n",
      "VariableMetric: start iterating until Edm is < 0.001\n",
      "VariableMetric: Initial state   - FCN =   676.4177866656 Edm =      20.0872 NCalls =     89\n",
      "VariableMetric: Iteration #   0 - FCN =   676.4177866656 Edm =      20.0872 NCalls =     89\n",
      "VariableMetric: Iteration #   1 - FCN =    662.095877652 Edm =    0.0279687 NCalls =    112\n",
      "VariableMetric: Iteration #   2 - FCN =   662.0105112243 Edm =    0.0675741 NCalls =    127\n",
      "VariableMetric: Iteration #   3 - FCN =   661.6963508827 Edm =     0.200348 NCalls =    144\n",
      "VariableMetric: Iteration #   4 - FCN =   661.3429623018 Edm =    0.0215693 NCalls =    160\n",
      "VariableMetric: Iteration #   5 - FCN =   661.3259380506 Edm =    0.0119578 NCalls =    174\n",
      "VariableMetric: Iteration #   6 - FCN =   661.3212098851 Edm =  7.11242e-06 NCalls =    188\n",
      "VariableMetric: After Hessian   - FCN =   661.3212098851 Edm =  1.59513e-05 NCalls =    228\n",
      "VariableMetric: Iteration #   7 - FCN =   661.3212098851 Edm =  1.59513e-05 NCalls =    228\n",
      "Minuit2Minimizer : Valid minimum - status = 0\n",
      "FVAL  = 661.321209885149074\n",
      "Edm   = 1.59512585238373273e-05\n",
      "Nfcn  = 228\n",
      "a1\t  = 0.586604\t +/-  0.0972452\t(limited)\n",
      "a2\t  = 0.614589\t +/-  0.0994117\t(limited)\n",
      "dm\t  = -0.5\t +/-  0.348158\t(limited)\n",
      "n1\t  = 10\t +/-  6.02582\t(limited)\n",
      "n2\t  = 10.0001\t +/-  2.74744\t(limited)\n",
      "sigma\t  = 1.82437\t +/-  0.271318\t(limited)\n",
      "[#1] INFO:Fitting -- RooAbsPdf::fitTo(pdf) Calculating sum-of-weights-squared correction matrix for covariance matrix\n",
      "[#1] INFO:Minization -- RooMinimizer::optimizeConst: deactivating const optimization\n",
      "[#1] INFO:InputArguments -- RooAbsData::plotOn(data) INFO: dataset has non-integer weights, auto-selecting SumW2 errors instead of Poisson errors\n",
      "[#1] INFO:Plotting -- RooAbsPdf::plotOn(pdf) p.d.f was fitted in range and no explicit plot,norm range was specified, using fit range as default\n",
      "[#1] INFO:Plotting -- RooAbsPdf::plotOn(pdf) only plotting range 'fit_nll_pdf_data'\n",
      "[#1] INFO:Plotting -- RooAbsPdf::plotOn(pdf) p.d.f. curve is normalized using explicit choice of ranges 'fit_nll_pdf_data'\n"
     ]
    },
    {
     "name": "stderr",
     "output_type": "stream",
     "text": [
      "Info in <Minuit2>: Minuit2Minimizer::Hesse : Hesse is valid - matrix is accurate\n",
      "Info in <Minuit2>: Minuit2Minimizer::Hesse : Hesse is valid - matrix is accurate\n",
      "Info in <TCanvas::Print>: pdf file ZH_UL.pdf has been created\n"
     ]
    }
   ],
   "source": [
    "FitSignal.makepdf(h_llg, \"ZH_UL\")"
   ]
  },
  {
   "cell_type": "code",
   "execution_count": 5,
   "metadata": {
    "scrolled": true
   },
   "outputs": [
    {
     "data": {
      "text/html": [
       "\n",
       "        <iframe\n",
       "            width=\"900\"\n",
       "            height=\"600\"\n",
       "            src=\"ZH_UL.pdf\"\n",
       "            frameborder=\"0\"\n",
       "            allowfullscreen\n",
       "        ></iframe>\n",
       "        "
      ],
      "text/plain": [
       "<IPython.lib.display.IFrame at 0x7fb29883cc10>"
      ]
     },
     "execution_count": 5,
     "metadata": {},
     "output_type": "execute_result"
    }
   ],
   "source": [
    "IFrame(\"ZH_UL.pdf\", width=900, height=600)"
   ]
  },
  {
   "cell_type": "code",
   "execution_count": 8,
   "metadata": {
    "scrolled": true
   },
   "outputs": [
    {
     "name": "stdout",
     "output_type": "stream",
     "text": [
      "0.756629659506\n",
      "0.957028522554\n",
      "90.7925053386\n",
      "10.0000978117\n",
      "10.0006381663\n",
      "2.04739314964\n",
      "920.065878695\n",
      "[#1] INFO:DataHandling -- RooDataHist::adjustBinning(data): fit range of variable CMS_z_Mass expanded to nearest bin boundaries: [70,110] --> [70,110]\n",
      "[#1] INFO:Eval -- RooRealVar::setRange(CMS_z_Mass) new range named 'fit' created with bounds [70,110]\n",
      "[#1] INFO:Fitting -- RooAbsOptTestStatistic::ctor(nll_pdf_data) constructing test statistic for sub-range named fit\n",
      "[#1] INFO:Eval -- RooRealVar::setRange(CMS_z_Mass) new range named 'NormalizationRangeForfit' created with bounds [70,110]\n",
      "[#1] INFO:Eval -- RooRealVar::setRange(CMS_z_Mass) new range named 'fit_nll_pdf_data' created with bounds [70,110]\n",
      "[#1] INFO:Fitting -- RooAbsOptTestStatistic::ctor(nll_pdf_data) fixing interpretation of coefficients of any RooAddPdf to full domain of observables \n",
      "[#1] INFO:Minization -- RooMinimizer::optimizeConst: activating const optimization\n",
      "Minuit2Minimizer: Minimize with max-calls 3000 convergence for edm < 1 strategy 1\n",
      "MnSeedGenerator: for initial parameters FCN = 938.494822462\n",
      "MnSeedGenerator: Initial state:   - FCN =    938.494822462 Edm =      18.9867 NCalls =     25\n",
      "MnSeedGenerator: Negative G2 found - new state:   - FCN =   926.7380232525 Edm =      9.74352 NCalls =     90\n",
      "VariableMetric: start iterating until Edm is < 0.001\n",
      "VariableMetric: Initial state   - FCN =   926.7380232525 Edm =      9.74352 NCalls =     90\n",
      "VariableMetric: Iteration #   0 - FCN =   926.7380232525 Edm =      9.74352 NCalls =     90\n",
      "VariableMetric: Iteration #   1 - FCN =   920.7268402066 Edm =      0.43948 NCalls =    112\n",
      "VariableMetric: Iteration #   2 - FCN =   920.3028659496 Edm =     0.266324 NCalls =    129\n",
      "VariableMetric: Iteration #   3 - FCN =   920.1319250161 Edm =    0.0204265 NCalls =    145\n",
      "VariableMetric: Iteration #   4 - FCN =   920.1139326464 Edm =   0.00359081 NCalls =    159\n",
      "VariableMetric: Iteration #   5 - FCN =   920.0924059357 Edm =    0.0109942 NCalls =    175\n",
      "VariableMetric: Iteration #   6 - FCN =   920.0666989124 Edm =   0.00113467 NCalls =    190\n",
      "VariableMetric: Iteration #   7 - FCN =   920.0658786951 Edm =  8.11609e-06 NCalls =    204\n",
      "VariableMetric: After Hessian   - FCN =   920.0658786951 Edm =  2.49352e-05 NCalls =    248\n",
      "VariableMetric: Iteration #   8 - FCN =   920.0658786951 Edm =  2.49352e-05 NCalls =    248\n",
      "Minuit2Minimizer : Valid minimum - status = 0\n",
      "FVAL  = 920.06587869506393\n",
      "Edm   = 2.49352269248597329e-05\n",
      "Nfcn  = 248\n",
      "a1\t  = 0.75663\t +/-  0.101819\t(limited)\n",
      "a2\t  = 0.957029\t +/-  0.140564\t(limited)\n",
      "dm\t  = -0.207495\t +/-  0.169543\t(limited)\n",
      "n1\t  = 10.0001\t +/-  5.44803\t(limited)\n",
      "n2\t  = 10.0006\t +/-  31.2791\t(limited)\n",
      "sigma\t  = 2.04739\t +/-  0.23784\t(limited)\n",
      "[#1] INFO:Fitting -- RooAbsPdf::fitTo(pdf) Calculating sum-of-weights-squared correction matrix for covariance matrix\n",
      "[#1] INFO:Minization -- RooMinimizer::optimizeConst: deactivating const optimization\n",
      "[#1] INFO:InputArguments -- RooAbsData::plotOn(data) INFO: dataset has non-integer weights, auto-selecting SumW2 errors instead of Poisson errors\n",
      "[#1] INFO:Plotting -- RooAbsPdf::plotOn(pdf) p.d.f was fitted in range and no explicit plot,norm range was specified, using fit range as default\n",
      "[#1] INFO:Plotting -- RooAbsPdf::plotOn(pdf) only plotting range 'fit_nll_pdf_data'\n",
      "[#1] INFO:Plotting -- RooAbsPdf::plotOn(pdf) p.d.f. curve is normalized using explicit choice of ranges 'fit_nll_pdf_data'\n",
      "[#0] WARNING:Plotting -- RooHist::makeResisHist(h_data) WARNING: point 36 has zero error, setting residual to zero\n"
     ]
    },
    {
     "name": "stderr",
     "output_type": "stream",
     "text": [
      "Info in <Minuit2>: Minuit2Minimizer::Hesse : Hesse is valid - matrix is accurate\n",
      "Info in <Minuit2>: Minuit2Minimizer::Hesse : Hesse is valid - matrix is accurate\n",
      "Warning in <TCanvas::Constructor>: Deleting canvas with same name: can\n",
      "Info in <TCanvas::Print>: pdf file ZH_ll_UL.pdf has been created\n"
     ]
    }
   ],
   "source": [
    "FitSignal.makepdfZ(h_ll, \"ZH_ll_UL\")"
   ]
  },
  {
   "cell_type": "code",
   "execution_count": 9,
   "metadata": {},
   "outputs": [
    {
     "data": {
      "text/html": [
       "\n",
       "        <iframe\n",
       "            width=\"900\"\n",
       "            height=\"600\"\n",
       "            src=\"ZH_ll_UL.pdf\"\n",
       "            frameborder=\"0\"\n",
       "            allowfullscreen\n",
       "        ></iframe>\n",
       "        "
      ],
      "text/plain": [
       "<IPython.lib.display.IFrame at 0x7fb2988423d0>"
      ]
     },
     "execution_count": 9,
     "metadata": {},
     "output_type": "execute_result"
    }
   ],
   "source": [
    "IFrame(\"ZH_ll_UL.pdf\", width=900, height=600)"
   ]
  },
  {
   "cell_type": "code",
   "execution_count": null,
   "metadata": {},
   "outputs": [],
   "source": []
  }
 ],
 "metadata": {
  "kernelspec": {
   "display_name": "Python 2",
   "language": "python",
   "name": "python2"
  },
  "language_info": {
   "codemirror_mode": {
    "name": "ipython",
    "version": 2
   },
   "file_extension": ".py",
   "mimetype": "text/x-python",
   "name": "python",
   "nbconvert_exporter": "python",
   "pygments_lexer": "ipython2",
   "version": "2.7.14+"
  }
 },
 "nbformat": 4,
 "nbformat_minor": 2
}
