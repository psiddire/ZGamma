{
 "cells": [
  {
   "cell_type": "code",
   "execution_count": 1,
   "metadata": {},
   "outputs": [
    {
     "name": "stdout",
     "output_type": "stream",
     "text": [
      "Welcome to JupyROOT 6.12/07\n"
     ]
    }
   ],
   "source": [
    "import ROOT\n",
    "import rootnotes                                                                                                                                                             \n",
    "c1 = rootnotes.default_canvas()"
   ]
  },
  {
   "cell_type": "code",
   "execution_count": null,
   "metadata": {
    "scrolled": true
   },
   "outputs": [],
   "source": [
    "f = TFile(\"CMS-HGG_multipdf_HggAnalysis_ICHEP2016_example.root\")\n",
    "#f.ls()\n",
    "ws = f.Get(\"multipdf\")\n",
    "ws.Print()"
   ]
  },
  {
   "cell_type": "code",
   "execution_count": null,
   "metadata": {},
   "outputs": [],
   "source": [
    "mass = ROOT.RooRealVar(\"CMS_emu_Mass\",\"CMS_emu_Mass\", 100, 180)\n",
    "data = ws.data(\"roohist_data_mass_ggcat0\")"
   ]
  },
  {
   "cell_type": "code",
   "execution_count": null,
   "metadata": {
    "scrolled": true
   },
   "outputs": [],
   "source": [
    "xframe = mass.frame()\n",
    "data.plotOn(xframe)\n",
    "xframe.Draw()\n",
    "c1"
   ]
  },
  {
   "cell_type": "code",
   "execution_count": 2,
   "metadata": {},
   "outputs": [
    {
     "name": "stdout",
     "output_type": "stream",
     "text": [
      "\n",
      "RooWorkspace(cms_hgg_13TeV)  contents\n",
      "\n",
      "variables\n",
      "---------\n",
      "(CMS_hgg_mass,IntLumi,weight)\n",
      "\n",
      "datasets\n",
      "--------\n",
      "RooDataSet::Data_13TeV_UntaggedTag_0(CMS_hgg_mass)\n",
      "RooDataSet::Data_13TeV_VBFTag_0(CMS_hgg_mass)\n",
      "RooDataSet::Data_13TeV_UntaggedTag_1(CMS_hgg_mass)\n",
      "RooDataSet::Data_13TeV_ZHLeptonicTag(CMS_hgg_mass)\n",
      "RooDataSet::Data_13TeV_VBFTag_1(CMS_hgg_mass)\n",
      "RooDataSet::Data_13TeV_VBFTag_2(CMS_hgg_mass)\n",
      "RooDataSet::Data_13TeV_VHHadronicTag(CMS_hgg_mass)\n",
      "RooDataSet::Data_13TeV_UntaggedTag_3(CMS_hgg_mass)\n",
      "RooDataSet::Data_13TeV_VHMetTag(CMS_hgg_mass)\n",
      "RooDataSet::Data_13TeV_NoTag()\n",
      "RooDataSet::Data_13TeV_TTHHadronicTag(CMS_hgg_mass)\n",
      "RooDataSet::Data_13TeV_TTHLeptonicTag(CMS_hgg_mass)\n",
      "RooDataSet::Data_13TeV_WHLeptonicTag(CMS_hgg_mass)\n",
      "RooDataSet::Data_13TeV_VHLeptonicLooseTag(CMS_hgg_mass)\n",
      "RooDataSet::Data_13TeV_UntaggedTag_2(CMS_hgg_mass)\n",
      "\n"
     ]
    }
   ],
   "source": [
    "f = ROOT.TFile(\"allData.root\")\n",
    "d = f.Get(\"tagsDumper\")\n",
    "#d.ls()\n",
    "ws = d.Get(\"cms_hgg_13TeV\")\n",
    "ws.Print()"
   ]
  },
  {
   "cell_type": "code",
   "execution_count": 3,
   "metadata": {},
   "outputs": [],
   "source": [
    "mass = ROOT.RooRealVar(\"CMS_hgg_mass\",\"CMS_hgg_mass\", 100, 180)\n",
    "data = ws.data(\"Data_13TeV_UntaggedTag_0\")"
   ]
  },
  {
   "cell_type": "code",
   "execution_count": 4,
   "metadata": {},
   "outputs": [
    {
     "data": {
      "image/png": "[encoded data removed]",
      "text/plain": [
       "<ROOT.TCanvas object (\"icanvas\") at 0x8561800>"
      ]
     },
     "execution_count": 4,
     "metadata": {},
     "output_type": "execute_result"
    },
    {
     "name": "stderr",
     "output_type": "stream",
     "text": [
      "Info in <TCanvas::Print>: png file /tmp/tmpXzHZ7L.png has been created\n"
     ]
    }
   ],
   "source": [
    "xframe = mass.frame()\n",
    "data.plotOn(xframe)\n",
    "xframe.Draw()\n",
    "c1"
   ]
  },
  {
   "cell_type": "code",
   "execution_count": 11,
   "metadata": {},
   "outputs": [
    {
     "name": "stdout",
     "output_type": "stream",
     "text": [
      "RooRealVar::weight = 1  L(-INF - +INF) \n",
      "--- RooAbsArg ---\n",
      "  Value State: clean\n",
      "  Shape State: clean\n",
      "  Attributes: \n",
      "  Address: 0x9eaa890\n",
      "  Clients: \n",
      "  Servers: \n",
      "  Proxies: \n",
      "--- RooAbsReal ---\n",
      "\n",
      "  Plot label is \"weight\"\n",
      "--- RooAbsRealLValue ---\n",
      "  Fit range is [ -INF , +INF ]\n",
      "--- RooRealVar ---\n",
      "  Error = 0\n"
     ]
    }
   ],
   "source": [
    "weight = ws.var(\"weight\")\n",
    "weight.Print()\n",
    "weight.Print(\"V\")"
   ]
  },
  {
   "cell_type": "code",
   "execution_count": 12,
   "metadata": {},
   "outputs": [
    {
     "name": "stdout",
     "output_type": "stream",
     "text": [
      "RooRealVar::IntLumi = 0 C  L(-INF - +INF) \n",
      "--- RooAbsArg ---\n",
      "  Value State: clean\n",
      "  Shape State: clean\n",
      "  Attributes:  [Constant] \n",
      "  Address: 0x9ea9dd0\n",
      "  Clients: \n",
      "  Servers: \n",
      "  Proxies: \n",
      "--- RooAbsReal ---\n",
      "\n",
      "  Plot label is \"IntLumi\"\n",
      "--- RooAbsRealLValue ---\n",
      "  Fit range is [ -INF , +INF ]\n",
      "--- RooRealVar ---\n",
      "  Error = 0\n"
     ]
    }
   ],
   "source": [
    "IntLumi = ws.var(\"IntLumi\")\n",
    "IntLumi.Print()\n",
    "IntLumi.Print(\"V\")"
   ]
  },
  {
   "cell_type": "code",
   "execution_count": null,
   "metadata": {},
   "outputs": [],
   "source": []
  }
 ],
 "metadata": {
  "kernelspec": {
   "display_name": "Python 2",
   "language": "python",
   "name": "python2"
  },
  "language_info": {
   "codemirror_mode": {
    "name": "ipython",
    "version": 2
   },
   "file_extension": ".py",
   "mimetype": "text/x-python",
   "name": "python",
   "nbconvert_exporter": "python",
   "pygments_lexer": "ipython2",
   "version": "2.7.14+"
  }
 },
 "nbformat": 4,
 "nbformat_minor": 2
}
