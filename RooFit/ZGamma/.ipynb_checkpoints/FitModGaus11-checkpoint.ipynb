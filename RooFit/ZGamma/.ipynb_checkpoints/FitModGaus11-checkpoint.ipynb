{
 "cells": [
  {
   "cell_type": "code",
   "execution_count": 2,
   "metadata": {},
   "outputs": [
    {
     "name": "stdout",
     "output_type": "stream",
     "text": [
      "Welcome to JupyROOT 6.12/07\n"
     ]
    }
   ],
   "source": [
    "import ROOT\n",
    "from IPython.display import IFrame"
   ]
  },
  {
   "cell_type": "code",
   "execution_count": 3,
   "metadata": {},
   "outputs": [],
   "source": [
    "ROOT.gSystem.Load('ModGaus11_cxx.so')\n",
    "ROOT.TGaxis.SetMaxDigits(3)"
   ]
  },
  {
   "cell_type": "code",
   "execution_count": 4,
   "metadata": {},
   "outputs": [],
   "source": [
    "def PlotFit(fit, data, pdf, m, nbins, xlow, xhigh, outfile, doCovariance = False):\n",
    "    gErfrorIgnoreLevel = ROOT.kWarning\n",
    "    # Declare canvas with 2 pads\n",
    "    can = ROOT.TCanvas(\"can\", \"canvas\", 800, 800)\n",
    "    can.cd()\n",
    "    pad1 = ROOT.TPad(\"pad1\", \"pad1\", 0, 0.3, 1, 1)                                                                                                                          \n",
    "    pad1.Draw()                                                                                                                                                              \n",
    "    pad1.cd()                                                                                                                                                                \n",
    "    pad1.SetFillColor(0)                                                                                                                                                     \n",
    "    pad1.SetBorderMode(0)                                                                                                                                                    \n",
    "    pad1.SetBorderSize(10)                                                                                                                                                   \n",
    "    pad1.SetTickx(1)                                                                                                                                                         \n",
    "    pad1.SetTicky(1)                                                                                                                                                         \n",
    "    pad1.SetLeftMargin(0.14)                                                                                                                                                 \n",
    "    pad1.SetRightMargin(0.05)                                                                                                                                                \n",
    "    pad1.SetTopMargin(0.122)                                                                                                                                                 \n",
    "    pad1.SetBottomMargin(0.026)                                                                                                                                              \n",
    "    pad1.SetFrameFillStyle(0)                                                                                                                                                \n",
    "    pad1.SetFrameLineStyle(0)                                                                                                                                                \n",
    "    pad1.SetFrameLineWidth(3)                                                                                                                                                \n",
    "    pad1.SetFrameBorderMode(0)                                                                                                                                               \n",
    "    pad1.SetFrameBorderSize(10)                                                                                                                                              \n",
    "\n",
    "    plot = m.frame(ROOT.RooFit.Range(xlow, xhigh))\n",
    "    # Use Poisson errors if specified\n",
    "    # Otherwise, will use errors from data histogram\n",
    "    if \"Poisson\" in outfile:\n",
    "        data.plotOn(plot, ROOT.RooFit.Binning(nbins), DataError(ROOT.Poisson))\n",
    "    else:\n",
    "        data.plotOn(plot, ROOT.RooFit.Binning(nbins))\n",
    "    pdf.plotOn(plot, ROOT.RooFit.LineColor(ROOT.kRed), ROOT.RooFit.LineWidth(2))\n",
    "    # Add reduced chi-squared to parameter legend by making it the title\n",
    "    chi2Label = \"#chi^{2}_{R} = \" + str(plot.chiSquare(fit.floatParsFinal().getSize()))\n",
    "    pdf.paramOn(plot, data, chi2Label, 2, \"NELU\", 0.6, 0.85, 0.85)\n",
    "\n",
    "    plot.GetXaxis().SetTitle(\"\")                                                                                                                                \n",
    "    plot.GetXaxis().SetTitleSize(0)\n",
    "    plot.GetXaxis().SetLabelSize(0)\n",
    "    plot.GetXaxis().SetNdivisions(505)                                                                                                                          \n",
    "    plot.GetYaxis().SetLabelFont(42)                                                                                                                            \n",
    "    plot.GetYaxis().SetLabelOffset(0.01)                                                                                                                        \n",
    "    plot.GetYaxis().SetLabelSize(0.06)                                                                                                                          \n",
    "    plot.GetYaxis().SetTitleSize(0.07)                                                                                                                          \n",
    "    plot.GetYaxis().SetTitleOffset(0.8)                                                                                                                         \n",
    "    plot.SetMarkerStyle(20)                                                                                                                                     \n",
    "    plot.SetMarkerSize(1)                                                                                                                                       \n",
    "    plot.SetLineWidth(1)                                                                                                                                        \n",
    "    plot.GetXaxis().SetLimits(xlow, xhigh)\n",
    "    # Retrieve function type and fit category\n",
    "    funcType = pdf.GetTitle()\n",
    "    category = data.GetTitle()\n",
    "    plot.SetTitle(category+\" fit with \"+funcType+\" (status = \"+str(fit.status())+\", covQual = \"+str(fit.covQual())+\")\")\n",
    "    plot.SetTitleSize(0.15)                                                                                                                          \n",
    "    plot.Draw(\"same\")\n",
    "    pad1.RedrawAxis()\n",
    "    \n",
    "    can.cd()\n",
    "    pad2 = ROOT.TPad(\"pad2\",\"pad2\",0,0,1,0.3)                                                                                                                              \n",
    "    pad2.SetTopMargin(0.05)\n",
    "    pad2.SetBottomMargin(0.35)\n",
    "    pad2.SetLeftMargin(0.14)\n",
    "    pad2.SetRightMargin(0.05)\n",
    "    pad2.SetTickx(1)                                                                                                                                                         \n",
    "    pad2.SetTicky(1)                                                                                                                                                         \n",
    "    pad2.SetFrameLineWidth(3)                                                                                                                                                \n",
    "    pad2.SetGridy()                                                                                                                                                          \n",
    "    pad2.Draw()                                                                                                                                                              \n",
    "    pad2.cd()                                                                                                                                                                \n",
    "\n",
    "    pull = plot.pullHist()\n",
    "    # Set plot options and draw pulls\n",
    "    pull.SetMarkerStyle(20)\n",
    "    pull.GetXaxis().SetLimits(xlow, xhigh)\n",
    "    pull.SetTitle(\";m_{ll#gamma} [GeV]; Pull\")\n",
    "    pull.GetXaxis().SetLabelSize(0.08)\n",
    "    pull.GetYaxis().SetLabelSize(0.08)\n",
    "    pull.GetXaxis().SetNdivisions(505)\n",
    "    pull.GetYaxis().SetNdivisions(5)\n",
    "    pull.GetXaxis().SetTitleSize(0.16)\n",
    "    pull.GetYaxis().SetTitleSize(0.16)\n",
    "    pull.GetYaxis().SetTitleOffset(0.35)\n",
    "    pull.GetXaxis().SetTitleOffset(1.04)\n",
    "    pull.GetXaxis().SetLabelSize(0.11)\n",
    "    pull.GetYaxis().SetLabelSize(0.11)\n",
    "    pull.GetXaxis().SetTitleFont(42)\n",
    "    pull.GetYaxis().SetTitleFont(42)\n",
    "    pull.Draw(\"AP same\")\n",
    "\n",
    "    can.cd()                                                                                                                                                                   \n",
    "    pad1.Draw()                                                                                                                                                              \n",
    "\n",
    "    ROOT.gPad.RedrawAxis()\n",
    "    \n",
    "    # Make output directory and save the plot\n",
    "    ROOT.gSystem.mkdir(outfile);\n",
    "    can.SaveAs(outfile+\".pdf\");\n",
    "    return"
   ]
  },
  {
   "cell_type": "code",
   "execution_count": 5,
   "metadata": {},
   "outputs": [],
   "source": [
    "def FitCategory(category = \"untag4\", fitType = \"ModGaus11\", nbin = 80, xlow = 100, xhigh = 180, useSumW2 = True, defaults = []):\n",
    "    outpath = \"plots/CategoryFits/\" + fitType + str(xlow) + \"-\" + str(xhigh) + \"_\" + str(nbin)\n",
    "    if not useSumW2: \n",
    "        outpath = outpath + \"_Poisson\"\n",
    "    outpath = outpath + \"/\"+category\n",
    "    ROOT.gSystem.mkdir(outpath, True)\n",
    "    ROOT.gSystem.RedirectOutput(outpath+\"/log.txt\", \"w\")\n",
    "    \n",
    "    if defaults == []: \n",
    "        defaults = [120, 2.5, 0, 10, 40]\n",
    "\n",
    "    m = ROOT.RooRealVar(\"llphoton_m\", \"ll#gamma mass [GeV]\", xlow, xhigh)\n",
    "    m0 = ROOT.RooRealVar(\"m_{0}\", \"mass peak value [GeV]\", defaults[0], 105, 145)\n",
    "    m0.setError(1.0)\n",
    "    vl = ROOT.RooRealVar(\"#nu_{L}\", \"low-end power\", defaults[1], 0, 5)\n",
    "    vl.setError(0.1)\n",
    "    vr = ROOT.RooRealVar(\"#Delta#nu\", \"power range\", defaults[2], -5, 5)\n",
    "    vr.setError(0.1)\n",
    "    s0 = ROOT.RooRealVar(\"#sigma_{0}\", \"peak width\", defaults[3], 1, 40)\n",
    "    s0.setError(1.0)\n",
    "    s1 = ROOT.RooRealVar(\"#sigma_{1}\", \"change in width\", defaults[4], 0, 100)\n",
    "    s1.setError(1.0)\n",
    "\n",
    "    background = ROOT.ModGaus11(\"background\", \"G_{1, 1}\", m, m0, vl, vr, s0, s1)\n",
    "    \n",
    "    inpath = \"CatFiles/\"\n",
    "    inpath = inpath + \"bkghist_ele_mu_\"+category+\".root\"\n",
    "    infile = ROOT.TFile(inpath)\n",
    "    \n",
    "    hmc = infile.Get(\"hbkg\")\n",
    "    \n",
    "    if nbin==40:\n",
    "        hmc.Rebin()\n",
    "    \n",
    "    if not useSumW2:\n",
    "        for ib in range(nbin):\n",
    "            if(hmc.GetBinContent(ib) < 0):\n",
    "                hmc.SetBinContent(ib, 0)\n",
    "                \n",
    "    mc = ROOT.RooDataHist(category, category, ROOT.RooArgList(m), ROOT.RooFit.Import(hmc))\n",
    "\n",
    "    fitResult = background.fitTo(mc, ROOT.RooFit.Minimizer(\"Minuit2\", \"minimize\"), ROOT.RooFit.Save(1), ROOT.RooFit.Range(xlow, xhigh), ROOT.RooFit.SumW2Error(ROOT.kTRUE))\n",
    "    \n",
    "    PlotFit(fitResult, mc, background, m, nbin, xlow, xhigh, outpath, True)\n",
    "                \n",
    "    return"
   ]
  },
  {
   "cell_type": "code",
   "execution_count": 6,
   "metadata": {},
   "outputs": [
    {
     "data": {
      "text/html": [
       "\n",
       "        <iframe\n",
       "            width=\"600\"\n",
       "            height=\"600\"\n",
       "            src=\"plots/CategoryFits/ModGaus11100-180_80/untag4.pdf\"\n",
       "            frameborder=\"0\"\n",
       "            allowfullscreen\n",
       "        ></iframe>\n",
       "        "
      ],
      "text/plain": [
       "<IPython.lib.display.IFrame at 0x7f14b0600190>"
      ]
     },
     "execution_count": 6,
     "metadata": {},
     "output_type": "execute_result"
    }
   ],
   "source": [
    "FitCategory(category = \"untag4\")\n",
    "IFrame(\"plots/CategoryFits/ModGaus11100-180_80/untag4.pdf\", width=600, height=600)"
   ]
  },
  {
   "cell_type": "code",
   "execution_count": 1,
   "metadata": {},
   "outputs": [
    {
     "ename": "NameError",
     "evalue": "name 'FitCategory' is not defined",
     "output_type": "error",
     "traceback": [
      "\u001b[0;31m---------------------------------------------------------------------------\u001b[0m",
      "\u001b[0;31mNameError\u001b[0m                                 Traceback (most recent call last)",
      "\u001b[0;32m<ipython-input-1-dabebf979417>\u001b[0m in \u001b[0;36m<module>\u001b[0;34m()\u001b[0m\n\u001b[1;32m      1\u001b[0m \u001b[0mpar\u001b[0m \u001b[0;34m=\u001b[0m \u001b[0;34m[\u001b[0m\u001b[0;36m120\u001b[0m\u001b[0;34m,\u001b[0m \u001b[0;36m2.5\u001b[0m\u001b[0;34m,\u001b[0m \u001b[0;36m0\u001b[0m\u001b[0;34m,\u001b[0m \u001b[0;36m10\u001b[0m\u001b[0;34m,\u001b[0m \u001b[0;36m10\u001b[0m\u001b[0;34m,\u001b[0m \u001b[0;36m50\u001b[0m\u001b[0;34m]\u001b[0m\u001b[0;34m\u001b[0m\u001b[0m\n\u001b[0;32m----> 2\u001b[0;31m \u001b[0mFitCategory\u001b[0m\u001b[0;34m(\u001b[0m\u001b[0mcategory\u001b[0m \u001b[0;34m=\u001b[0m \u001b[0;34m\"untag3\"\u001b[0m\u001b[0;34m,\u001b[0m \u001b[0mdefaults\u001b[0m \u001b[0;34m=\u001b[0m \u001b[0mpar\u001b[0m\u001b[0;34m)\u001b[0m\u001b[0;34m\u001b[0m\u001b[0m\n\u001b[0m\u001b[1;32m      3\u001b[0m \u001b[0mIFrame\u001b[0m\u001b[0;34m(\u001b[0m\u001b[0;34m\"plots/CategoryFits/ModGaus11100-180_80/untag3.pdf\"\u001b[0m\u001b[0;34m,\u001b[0m \u001b[0mwidth\u001b[0m\u001b[0;34m=\u001b[0m\u001b[0;36m600\u001b[0m\u001b[0;34m,\u001b[0m \u001b[0mheight\u001b[0m\u001b[0;34m=\u001b[0m\u001b[0;36m600\u001b[0m\u001b[0;34m)\u001b[0m\u001b[0;34m\u001b[0m\u001b[0m\n",
      "\u001b[0;31mNameError\u001b[0m: name 'FitCategory' is not defined"
     ]
    }
   ],
   "source": [
    "par = [120, 2.5, 0, 10, 10, 50]\n",
    "FitCategory(category = \"untag3\", defaults = par)\n",
    "IFrame(\"plots/CategoryFits/ModGaus11100-180_80/untag3.pdf\", width=600, height=600)"
   ]
  },
  {
   "cell_type": "code",
   "execution_count": null,
   "metadata": {},
   "outputs": [],
   "source": [
    "FitCategory(category = \"untag2\")\n",
    "IFrame(\"plots/CategoryFits/ModGaus11100-180_80/untag2.pdf\", width=600, height=600)"
   ]
  },
  {
   "cell_type": "code",
   "execution_count": null,
   "metadata": {},
   "outputs": [],
   "source": [
    "FitCategory(category = \"untag1\")\n",
    "IFrame(\"plots/CategoryFits/ModGaus11100-180_80/untag1.pdf\", width=600, height=600)"
   ]
  },
  {
   "cell_type": "code",
   "execution_count": null,
   "metadata": {},
   "outputs": [],
   "source": [
    "FitCategory(category = \"dijet3\")\n",
    "IFrame(\"plots/CategoryFits/ModGaus11100-180_80/dijet3.pdf\", width=600, height=600)"
   ]
  },
  {
   "cell_type": "code",
   "execution_count": null,
   "metadata": {},
   "outputs": [],
   "source": [
    "FitCategory(category = \"dijet2\")\n",
    "IFrame(\"plots/CategoryFits/ModGaus11100-180_80/dijet2.pdf\", width=600, height=600)"
   ]
  },
  {
   "cell_type": "code",
   "execution_count": null,
   "metadata": {},
   "outputs": [],
   "source": [
    "FitCategory(category = \"dijet1\")\n",
    "IFrame(\"plots/CategoryFits/ModGaus11100-180_80/dijet1.pdf\", width=600, height=600)"
   ]
  },
  {
   "cell_type": "code",
   "execution_count": null,
   "metadata": {},
   "outputs": [],
   "source": []
  }
 ],
 "metadata": {
  "kernelspec": {
   "display_name": "Python 2",
   "language": "python",
   "name": "python2"
  }
 },
 "nbformat": 4,
 "nbformat_minor": 2
}
